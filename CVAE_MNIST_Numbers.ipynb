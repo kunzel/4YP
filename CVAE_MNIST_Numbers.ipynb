{
 "cells": [
  {
   "cell_type": "markdown",
   "metadata": {
    "colab_type": "text",
    "id": "C8VH0HaF0eaI"
   },
   "source": [
    "#### Import Libraries"
   ]
  },
  {
   "cell_type": "code",
   "execution_count": 2,
   "metadata": {
    "colab": {
     "base_uri": "https://localhost:8080/",
     "height": 34
    },
    "colab_type": "code",
    "id": "887mv3aj0eaL",
    "outputId": "797500ee-7b60-4fed-8297-37b249613c8f"
   },
   "outputs": [],
   "source": [
    "try:\n",
    "    # %tensorflow_version only exists in Colab.\n",
    "    %tensorflow_version 2.x\n",
    "except Exception:\n",
    "    pass\n",
    "import tensorflow as tf\n",
    "\n",
    "import numpy as np\n",
    "import matplotlib.pyplot as plt\n",
    "import random\n",
    "import time\n",
    "import os\n",
    "import sys"
   ]
  },
  {
   "cell_type": "markdown",
   "metadata": {
    "colab_type": "text",
    "id": "sUEIvx3I0eaT"
   },
   "source": [
    "#### Import Data (and select part of it only)"
   ]
  },
  {
   "cell_type": "code",
   "execution_count": 3,
   "metadata": {
    "colab": {
     "base_uri": "https://localhost:8080/",
     "height": 51
    },
    "colab_type": "code",
    "id": "tkekihPQ0eaU",
    "outputId": "69dcd4b5-de10-47c8-9c24-87a0de4ee794"
   },
   "outputs": [],
   "source": [
    "mnist = tf.keras.datasets.mnist\n",
    "(x_train, y_train), (x_test, y_test) = mnist.load_data()\n",
    "\n",
    "def pick_class(x_train, y_train, class_n):\n",
    "    new_x_train=x_train[y_train==class_n]\n",
    "    new_y_train=y_train[y_train==class_n]\n",
    "    print(len(y_train))\n",
    "    return new_x_train, new_y_train\n",
    "\n",
    "pick_class = False\n",
    "class_to_pick = 1\n",
    "cut_data = False\n",
    "data_inputs = 1000\n",
    "\n",
    "if pick_class:\n",
    "    x_train, y_train = pick_class(x_train, y_train, class_to_pick)\n",
    "\n",
    "if data_inputs:\n",
    "    x_train = x_train[0:data_inputs]\n",
    "    y_train = y_train[0:data_inputs]"
   ]
  },
  {
   "cell_type": "markdown",
   "metadata": {
    "colab_type": "text",
    "id": "lv1qfPcr0eaZ"
   },
   "source": [
    "#### Define Data Size and Classes"
   ]
  },
  {
   "cell_type": "code",
   "execution_count": 4,
   "metadata": {
    "colab": {},
    "colab_type": "code",
    "id": "SXK5XnqV0eab"
   },
   "outputs": [],
   "source": [
    "# INPUT DATA\n",
    "class_names = ['Zero','One', 'Two', 'Three', 'Four', 'Five','Six', 'Seven', 'Eight', 'Nine']\n",
    "N_image_channels = 1\n",
    "\n",
    "N_train = len(y_train)\n",
    "N_test = len(y_test)\n",
    "N_class = len(class_names)\n",
    "image_shape = x_train.shape[1:3]\n",
    "input_range = np.amax(x_train)"
   ]
  },
  {
   "cell_type": "markdown",
   "metadata": {
    "colab_type": "text",
    "id": "BlFAjQiU0eae"
   },
   "source": [
    "#### Plot images from set (random or in order)"
   ]
  },
  {
   "cell_type": "code",
   "execution_count": 42,
   "metadata": {
    "colab": {
     "base_uri": "https://localhost:8080/",
     "height": 143
    },
    "colab_type": "code",
    "id": "y3udHn4E0eag",
    "outputId": "b88b9a33-0e3b-4212-e572-8634949f55c9"
   },
   "outputs": [
    {
     "data": {
      "image/png": "[encoded data removed]",
      "text/plain": [
       "<Figure size 1440x144 with 10 Axes>"
      ]
     },
     "metadata": {},
     "output_type": "display_data"
    }
   ],
   "source": [
    "def plot_images(x_train, y_train, figures_to_plot=10, pick_random=True):\n",
    "    n_rows = np.ceil(figures_to_plot/10)\n",
    "    plot = plt.figure(figsize=[20,2*n_rows])\n",
    "    for i in range(figures_to_plot):\n",
    "        if pick_random: \n",
    "            pic_n = random.randint(0,len(x_train))\n",
    "        else: pic_n = i\n",
    "        plt.subplot(n_rows,10,i+1)\n",
    "        plt.xticks([]); plt.yticks([])\n",
    "        plt.imshow(x_train[pic_n], cmap=plt.cm.binary)\n",
    "        plt.xlabel(class_names[y_train[pic_n]])\n",
    "    plt.show()\n",
    "\n",
    "plot_images(x_train, y_train, 10, False)"
   ]
  },
  {
   "cell_type": "markdown",
   "metadata": {
    "colab_type": "text",
    "id": "aYGjpOyi0eam"
   },
   "source": [
    "#### Pre-Proces Data"
   ]
  },
  {
   "cell_type": "code",
   "execution_count": 6,
   "metadata": {
    "colab": {
     "base_uri": "https://localhost:8080/",
     "height": 143
    },
    "colab_type": "code",
    "id": "EdMZHoBl0ean",
    "outputId": "15e75500-212d-41a6-dc54-2e8c229d2141"
   },
   "outputs": [
    {
     "data": {
      "image/png": "[encoded data removed]",
      "text/plain": [
       "<Figure size 1440x144 with 10 Axes>"
      ]
     },
     "metadata": {},
     "output_type": "display_data"
    }
   ],
   "source": [
    "train_images = x_train/input_range\n",
    "test_images = x_test/input_range\n",
    "\n",
    "train_images[train_images >= 0.5] = 1.0\n",
    "train_images[train_images < 0.5] = 0.0\n",
    "test_images[test_images >= 0.5] = 1.0\n",
    "test_images[test_images < 0.5] = 0.0\n",
    "\n",
    "train_labels = y_train\n",
    "test_labels = y_test\n",
    "\n",
    "plot_images(train_images, train_labels, 10, False)\n",
    "\n",
    "train_images = train_images.reshape(N_train, image_shape[0], image_shape[1], N_image_channels).astype('float32')\n",
    "test_images = test_images.reshape(N_test, image_shape[0], image_shape[1], N_image_channels).astype('float32')"
   ]
  },
  {
   "cell_type": "markdown",
   "metadata": {
    "colab_type": "text",
    "id": "qIBflbVS0eas"
   },
   "source": [
    "#### Create Dataset"
   ]
  },
  {
   "cell_type": "code",
   "execution_count": 7,
   "metadata": {
    "colab": {},
    "colab_type": "code",
    "id": "S1KptUf00eau"
   },
   "outputs": [],
   "source": [
    "batch_size = 100\n",
    "shuffle_size_train = 20000\n",
    "shuffle_size_test = 10000\n",
    "\n",
    "train_dataset = tf.data.Dataset.from_tensor_slices((train_images)).shuffle(shuffle_size_train).batch(batch_size)\n",
    "test_dataset = tf.data.Dataset.from_tensor_slices((test_images)).shuffle(shuffle_size_test).batch(batch_size)"
   ]
  },
  {
   "cell_type": "markdown",
   "metadata": {
    "colab_type": "text",
    "id": "RXAUM1Hh0ea0"
   },
   "source": [
    "#### Create Variational Autoencoder (VAE) Model"
   ]
  },
  {
   "cell_type": "code",
   "execution_count": 8,
   "metadata": {
    "colab": {},
    "colab_type": "code",
    "id": "oiLqehle0ea2"
   },
   "outputs": [],
   "source": [
    "class CVAE(tf.keras.Model):\n",
    "    def __init__(self, z_size):\n",
    "        super(CVAE, self).__init__()\n",
    "        self.z_size = z_size\n",
    "        self.encoder_nn = tf.keras.models.Sequential([ \n",
    "                          tf.keras.layers.InputLayer(input_shape=(28, 28, 1)),\n",
    "                          tf.keras.layers.Conv2D(filters=32, kernel_size=3, strides=(2, 2), activation='relu'),\n",
    "                          tf.keras.layers.Conv2D(filters=64, kernel_size=3, strides=(2, 2), activation='relu'),\n",
    "                          tf.keras.layers.Flatten(),\n",
    "                          # No activation\n",
    "                          tf.keras.layers.Dense(z_size*2)\n",
    "                          ])\n",
    "\n",
    "        self.decoder_nn = tf.keras.models.Sequential([\n",
    "                          tf.keras.layers.InputLayer(input_shape=(z_size,)),\n",
    "                          tf.keras.layers.Dense(units=7*7*32, activation=tf.nn.relu),\n",
    "                          tf.keras.layers.Reshape(target_shape=(7, 7, 32)),\n",
    "                          tf.keras.layers.Conv2DTranspose(filters=64, kernel_size=3, strides=(2, 2), padding=\"SAME\", activation='relu'),\n",
    "                          tf.keras.layers.Conv2DTranspose(filters=32, kernel_size=3, strides=(2, 2), padding=\"SAME\", activation='relu'),\n",
    "                          # No activation\n",
    "                          tf.keras.layers.Conv2DTranspose(filters=1, kernel_size=3, strides=(1, 1), padding=\"SAME\")\n",
    "                          ])\n",
    "    @tf.function\n",
    "    def encode(self, x):\n",
    "        encoder_nn_output = self.encoder_nn(x)\n",
    "        z_mean, z_logvar = tf.split(encoder_nn_output, num_or_size_splits=2, axis=1)\n",
    "        return z_mean, z_logvar\n",
    "\n",
    "    def reparameterize(self, z_mean, z_logvar):\n",
    "        eps = tf.random.normal(shape=z_mean.shape)\n",
    "        return eps * tf.exp(z_logvar * 0.5) + z_mean\n",
    "    \n",
    "    def decode(self, z):\n",
    "        pixel_output = self.decoder_nn(z)\n",
    "        return pixel_output\n",
    "\n",
    "z_size = 50\n",
    "model = CVAE(z_size)"
   ]
  },
  {
   "cell_type": "markdown",
   "metadata": {
    "colab_type": "text",
    "id": "ruRl4I4K0ea8"
   },
   "source": [
    "#### Define the loss function "
   ]
  },
  {
   "cell_type": "code",
   "execution_count": 9,
   "metadata": {
    "colab": {},
    "colab_type": "code",
    "id": "Y1QqvVSV0ea-"
   },
   "outputs": [],
   "source": [
    "@tf.function\n",
    "def compute_loss(model, x):\n",
    "    z_mean, z_logvar = model.encode(x)\n",
    "    z = model.reparameterize(z_mean, z_logvar)\n",
    "    \n",
    "    pixel_output = model.decode(z)\n",
    "    #pixel_prob = tf.math.sigmoid(pixel_output)\n",
    "\n",
    "    logpx_z_pixels = -tf.nn.sigmoid_cross_entropy_with_logits(logits=pixel_output, labels=x)\n",
    "    #logpx_z_pixels = tf.math.log(pixel_prob + 1e-10)*x + tf.math.log(1-pixel_prob + 1e-10)*(1-x)\n",
    "    logpx_z_images = tf.reduce_sum(logpx_z_pixels, axis=[1, 2, 3])\n",
    "    logpx_z = tf.reduce_mean (logpx_z_images)\n",
    "    \n",
    "    logpz_z_parameters = -0.5 * (z ** 2.0 + np.log(2.0 * np.pi))\n",
    "    logpz_z_vector = tf.reduce_sum(logpz_z_parameters, axis=1)\n",
    "    logpz = tf.reduce_mean (logpz_z_vector)\n",
    "    \n",
    "    logqz_x_parameters = -0.5 * ((z - z_mean) ** 2.0 * tf.exp(-z_logvar) + z_logvar + np.log(2.0 * np.pi))\n",
    "    logqz_x_vectors = tf.reduce_sum(logqz_x_parameters, axis=1)\n",
    "    logqz_x = tf.reduce_mean (logqz_x_vectors)\n",
    "    \n",
    "    #kl_parameters = 0.5 * (1 + z_logvar - (z_mean ** 2) - tf.exp(-z_logvar))\n",
    "    #kl_vectors = tf.reduce_sum(kl_parameters, axis=1)\n",
    "    #kl = tf.reduce_mean(kl_vectors)\n",
    "    \n",
    "    return -(logpx_z + logpz - logqz_x) #### why negative?? ####\n",
    "    #return -(logpx_z + kl)"
   ]
  },
  {
   "cell_type": "markdown",
   "metadata": {
    "colab_type": "text",
    "id": "vLIG3YRm0ebE"
   },
   "source": [
    "#### Define the optimizer"
   ]
  },
  {
   "cell_type": "code",
   "execution_count": 10,
   "metadata": {
    "colab": {},
    "colab_type": "code",
    "id": "n5eaPpso0ebG"
   },
   "outputs": [],
   "source": [
    "optimizer = tf.keras.optimizers.Adam(learning_rate = 1e-4) #### why doesn't it work for 1e-3?? ####"
   ]
  },
  {
   "cell_type": "markdown",
   "metadata": {
    "colab_type": "text",
    "id": "VngH-amb0ebM"
   },
   "source": [
    "#### Calculate the loss function gradients and input these to the optimizer"
   ]
  },
  {
   "cell_type": "code",
   "execution_count": null,
   "metadata": {
    "colab": {},
    "colab_type": "code",
    "id": "dNN76Ed_0ebO"
   },
   "outputs": [],
   "source": [
    "@tf.function\n",
    "def compute_apply_gradients(model, x, optimizer):\n",
    "    with tf.GradientTape() as tape:\n",
    "        loss = compute_loss(model, x)\n",
    "    gradients = tape.gradient(loss, model.trainable_variables)\n",
    "    optimizer.apply_gradients(zip(gradients, model.trainable_variables))"
   ]
  },
  {
   "cell_type": "markdown",
   "metadata": {
    "colab": {},
    "colab_type": "code",
    "id": "bzdhLrrs0ebT"
   },
   "source": [
    "#### Generate random image from latent vector"
   ]
  },
  {
   "cell_type": "code",
   "execution_count": null,
   "metadata": {
    "colab": {},
    "colab_type": "code",
    "id": "JUG20q7J0ebW"
   },
   "outputs": [],
   "source": [
    "z_random = tf.random.normal(shape=[16, z_size])\n",
    "\n",
    "def generate_and_save_images(model, z_random): \n",
    "    generated_output = model.decode(z_random)\n",
    "    generated_prob = tf.math.sigmoid(generated_output)\n",
    "    fig = plt.figure(figsize=(4,4))\n",
    "\n",
    "    for i in range(generated_prob.shape[0]):\n",
    "        plt.subplot(4, 4, i+1)\n",
    "        plt.imshow(generated_prob[i, :, :, 0], cmap='gray')\n",
    "        plt.axis('off')\n",
    "    plt.show()"
   ]
  },
  {
   "cell_type": "markdown",
   "metadata": {
    "colab_type": "text",
    "id": "b4MLsF1E0ebZ"
   },
   "source": [
    "#### Train the data"
   ]
  },
  {
   "cell_type": "code",
   "execution_count": null,
   "metadata": {
    "colab": {},
    "colab_type": "code",
    "id": "pi8CDE0g0eba"
   },
   "outputs": [],
   "source": [
    "epochs = 1\n",
    "\n",
    "for epoch in range(1, epochs + 1):\n",
    "    start_time = time.time()\n",
    "    for i, train_x in enumerate(train_dataset): \n",
    "        sys.stdout.write('\\r'+'Epoch {} progress (%): {}'.format(epoch,100*(i+1)/(N_train/batch_size)))\n",
    "        sys.stdout.flush()\n",
    "        compute_apply_gradients(model, train_x, optimizer)\n",
    "    end_time = time.time()\n",
    "\n",
    "    average_loss = 0\n",
    "    for i, test_x in enumerate(test_dataset):\n",
    "        batch_loss = compute_loss(model, test_x)\n",
    "        average_loss = (average_loss*i + batch_loss)/(i+1)\n",
    "    print('\\nTest set ELBO: {}; epoch running time: {}'.format(average_loss, end_time - start_time))\n",
    "    \n",
    "    generate_and_save_images(model, z_random)"
   ]
  },
  {
   "cell_type": "markdown",
   "metadata": {
    "colab": {},
    "colab_type": "code",
    "id": "94NCuC4D0ebd"
   },
   "source": [
    "#### Reconstruct image"
   ]
  },
  {
   "cell_type": "code",
   "execution_count": null,
   "metadata": {},
   "outputs": [],
   "source": [
    "x = train_images[:1]\n",
    "\n",
    "z_mean, z_logvar = model.encode(x)\n",
    "z = model.reparameterize(z_mean, z_logvar)\n",
    "pixel_output = model.decode(z)\n",
    "pixel_prob = tf.math.sigmoid(pixel_output)\n",
    "\n",
    "fig = plt.figure(figsize=(5,5))\n",
    "plt.imshow(pixel_prob[0,:, :, 0], cmap='gray')\n",
    "plt.show"
   ]
  },
  {
   "cell_type": "code",
   "execution_count": 62,
   "metadata": {},
   "outputs": [],
   "source": [
    "def pick_class(x_train, y_train, class_n):\n",
    "    new_x_train=x_train[y_train==class_n]\n",
    "    new_y_train=y_train[y_train==class_n]\n",
    "    print(len(y_train))\n",
    "    return new_x_train, new_y_train"
   ]
  },
  {
   "cell_type": "code",
   "execution_count": 69,
   "metadata": {},
   "outputs": [
    {
     "name": "stdout",
     "output_type": "stream",
     "text": [
      "0\n",
      "(1994, 28, 28)\n"
     ]
    },
    {
     "ename": "IndexError",
     "evalue": "index 0 is out of bounds for axis 0 with size 0",
     "output_type": "error",
     "traceback": [
      "\u001b[0;31m---------------------------------------------------------------------------\u001b[0m",
      "\u001b[0;31mIndexError\u001b[0m                                Traceback (most recent call last)",
      "\u001b[0;32m<ipython-input-69-2b1909648471>\u001b[0m in \u001b[0;36m<module>\u001b[0;34m\u001b[0m\n\u001b[1;32m      1\u001b[0m \u001b[0mx_train\u001b[0m\u001b[0;34m,\u001b[0m \u001b[0my_train\u001b[0m \u001b[0;34m=\u001b[0m \u001b[0mpick_class\u001b[0m\u001b[0;34m(\u001b[0m\u001b[0mx_train\u001b[0m\u001b[0;34m,\u001b[0m \u001b[0my_train\u001b[0m\u001b[0;34m,\u001b[0m \u001b[0;36m1\u001b[0m\u001b[0;34m)\u001b[0m\u001b[0;34m\u001b[0m\u001b[0;34m\u001b[0m\u001b[0m\n\u001b[1;32m      2\u001b[0m \u001b[0mprint\u001b[0m\u001b[0;34m(\u001b[0m\u001b[0mnp\u001b[0m\u001b[0;34m.\u001b[0m\u001b[0mshape\u001b[0m\u001b[0;34m(\u001b[0m\u001b[0mtrain_x_class\u001b[0m\u001b[0;34m)\u001b[0m\u001b[0;34m)\u001b[0m\u001b[0;34m\u001b[0m\u001b[0;34m\u001b[0m\u001b[0m\n\u001b[0;32m----> 3\u001b[0;31m \u001b[0mplot_images\u001b[0m\u001b[0;34m(\u001b[0m\u001b[0mx_train\u001b[0m\u001b[0;34m,\u001b[0m \u001b[0my_train\u001b[0m\u001b[0;34m,\u001b[0m \u001b[0;36m20\u001b[0m\u001b[0;34m,\u001b[0m \u001b[0;32mFalse\u001b[0m\u001b[0;34m)\u001b[0m\u001b[0;34m\u001b[0m\u001b[0;34m\u001b[0m\u001b[0m\n\u001b[0m",
      "\u001b[0;32m<ipython-input-42-eadc738df345>\u001b[0m in \u001b[0;36mplot_images\u001b[0;34m(x_train, y_train, figures_to_plot, pick_random)\u001b[0m\n\u001b[1;32m      8\u001b[0m         \u001b[0mplt\u001b[0m\u001b[0;34m.\u001b[0m\u001b[0msubplot\u001b[0m\u001b[0;34m(\u001b[0m\u001b[0mn_rows\u001b[0m\u001b[0;34m,\u001b[0m\u001b[0;36m10\u001b[0m\u001b[0;34m,\u001b[0m\u001b[0mi\u001b[0m\u001b[0;34m+\u001b[0m\u001b[0;36m1\u001b[0m\u001b[0;34m)\u001b[0m\u001b[0;34m\u001b[0m\u001b[0;34m\u001b[0m\u001b[0m\n\u001b[1;32m      9\u001b[0m         \u001b[0mplt\u001b[0m\u001b[0;34m.\u001b[0m\u001b[0mxticks\u001b[0m\u001b[0;34m(\u001b[0m\u001b[0;34m[\u001b[0m\u001b[0;34m]\u001b[0m\u001b[0;34m)\u001b[0m\u001b[0;34m;\u001b[0m \u001b[0mplt\u001b[0m\u001b[0;34m.\u001b[0m\u001b[0myticks\u001b[0m\u001b[0;34m(\u001b[0m\u001b[0;34m[\u001b[0m\u001b[0;34m]\u001b[0m\u001b[0;34m)\u001b[0m\u001b[0;34m\u001b[0m\u001b[0;34m\u001b[0m\u001b[0m\n\u001b[0;32m---> 10\u001b[0;31m         \u001b[0mplt\u001b[0m\u001b[0;34m.\u001b[0m\u001b[0mimshow\u001b[0m\u001b[0;34m(\u001b[0m\u001b[0mx_train\u001b[0m\u001b[0;34m[\u001b[0m\u001b[0mpic_n\u001b[0m\u001b[0;34m]\u001b[0m\u001b[0;34m,\u001b[0m \u001b[0mcmap\u001b[0m\u001b[0;34m=\u001b[0m\u001b[0mplt\u001b[0m\u001b[0;34m.\u001b[0m\u001b[0mcm\u001b[0m\u001b[0;34m.\u001b[0m\u001b[0mbinary\u001b[0m\u001b[0;34m)\u001b[0m\u001b[0;34m\u001b[0m\u001b[0;34m\u001b[0m\u001b[0m\n\u001b[0m\u001b[1;32m     11\u001b[0m         \u001b[0mplt\u001b[0m\u001b[0;34m.\u001b[0m\u001b[0mxlabel\u001b[0m\u001b[0;34m(\u001b[0m\u001b[0mclass_names\u001b[0m\u001b[0;34m[\u001b[0m\u001b[0my_train\u001b[0m\u001b[0;34m[\u001b[0m\u001b[0mpic_n\u001b[0m\u001b[0;34m]\u001b[0m\u001b[0;34m]\u001b[0m\u001b[0;34m)\u001b[0m\u001b[0;34m\u001b[0m\u001b[0;34m\u001b[0m\u001b[0m\n\u001b[1;32m     12\u001b[0m     \u001b[0mplt\u001b[0m\u001b[0;34m.\u001b[0m\u001b[0mshow\u001b[0m\u001b[0;34m(\u001b[0m\u001b[0;34m)\u001b[0m\u001b[0;34m\u001b[0m\u001b[0;34m\u001b[0m\u001b[0m\n",
      "\u001b[0;31mIndexError\u001b[0m: index 0 is out of bounds for axis 0 with size 0"
     ]
    },
    {
     "data": {
      "image/png": "[encoded data removed]",
      "text/plain": [
       "<Figure size 1440x288 with 1 Axes>"
      ]
     },
     "metadata": {},
     "output_type": "display_data"
    }
   ],
   "source": [
    "x_train, y_train = pick_class(x_train, y_train, 1)\n",
    "print(np.shape(train_x_class))\n",
    "plot_images(x_train, y_train, 20, False)"
   ]
  },
  {
   "cell_type": "code",
   "execution_count": null,
   "metadata": {},
   "outputs": [],
   "source": []
  }
 ],
 "metadata": {
  "accelerator": "GPU",
  "colab": {
   "name": "CVAE_MNIST_Numbers.ipynb",
   "provenance": []
  },
  "kernelspec": {
   "display_name": "Python 3",
   "language": "python",
   "name": "python3"
  },
  "language_info": {
   "codemirror_mode": {
    "name": "ipython",
    "version": 3
   },
   "file_extension": ".py",
   "mimetype": "text/x-python",
   "name": "python",
   "nbconvert_exporter": "python",
   "pygments_lexer": "ipython3",
   "version": "3.7.3"
  }
 },
 "nbformat": 4,
 "nbformat_minor": 2
}
