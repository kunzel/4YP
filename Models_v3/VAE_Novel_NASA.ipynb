{
  "nbformat": 4,
  "nbformat_minor": 0,
  "metadata": {
    "colab": {
      "name": "CVAE_MNIST_Numbers.ipynb",
      "provenance": [],
      "include_colab_link": true
    },
    "kernelspec": {
      "name": "python3",
      "display_name": "Python 3"
    },
    "language_info": {
      "codemirror_mode": {
        "name": "ipython",
        "version": 3
      },
      "file_extension": ".py",
      "mimetype": "text/x-python",
      "name": "python",
      "nbconvert_exporter": "python",
      "pygments_lexer": "ipython3",
      "version": "3.7.3"
    },
    "accelerator": "GPU"
  },
  "cells": [
    {
      "cell_type": "markdown",
      "metadata": {
        "id": "view-in-github",
        "colab_type": "text"
      },
      "source": [
        "<a href=\"https://colab.research.google.com/github/lorenzosintini/4YP/blob/master/Models_v3/VAE_Novel_NASA.ipynb\" target=\"_parent\"><img src=\"https://colab.research.google.com/assets/colab-badge.svg\" alt=\"Open In Colab\"/></a>"
      ]
    },
    {
      "cell_type": "markdown",
      "metadata": {
        "colab_type": "text",
        "id": "C8VH0HaF0eaI"
      },
      "source": [
        "#### Import Libraries"
      ]
    },
    {
      "cell_type": "code",
      "metadata": {
        "colab_type": "code",
        "id": "887mv3aj0eaL",
        "outputId": "be5c3b8c-5db9-46ca-abae-5adde5c162cc",
        "colab": {
          "base_uri": "https://localhost:8080/",
          "height": 51
        }
      },
      "source": [
        "try:\n",
        "    # %tensorflow_version only exists in Colab.\n",
        "    %tensorflow_version 2.x\n",
        "except Exception:\n",
        "    pass\n",
        "import tensorflow as tf\n",
        "\n",
        "import numpy as np\n",
        "import matplotlib.pyplot as plt\n",
        "import random\n",
        "import time\n",
        "import os\n",
        "import sys\n",
        "from IPython.display import clear_output\n",
        "import os\n",
        "import pandas as pd\n",
        "from sklearn.metrics import roc_curve, auc\n",
        "tf.autograph.set_verbosity(0)\n",
        "from google.colab import drive\n",
        "drive.mount('/content/drive/')"
      ],
      "execution_count": 1,
      "outputs": [
        {
          "output_type": "stream",
          "text": [
            "TensorFlow 2.x selected.\n",
            "Drive already mounted at /content/drive/; to attempt to forcibly remount, call drive.mount(\"/content/drive/\", force_remount=True).\n"
          ],
          "name": "stdout"
        }
      ]
    },
    {
      "cell_type": "markdown",
      "metadata": {
        "colab_type": "text",
        "id": "sUEIvx3I0eaT"
      },
      "source": [
        "#### Import Data and plot it"
      ]
    },
    {
      "cell_type": "code",
      "metadata": {
        "colab_type": "code",
        "id": "tkekihPQ0eaU",
        "colab": {}
      },
      "source": [
        "def plot_images(data, image_to_plot):\n",
        "    plot = plt.figure(figsize=[15,2])\n",
        "    for i in range(img_channels):\n",
        "        plt.subplot(1, img_channels, i+1)\n",
        "        plt.xticks([]); plt.yticks([])\n",
        "        plt.imshow(data[image_to_plot][:,:,i], cmap=plt.cm.binary)\n",
        "    plt.show()"
      ],
      "execution_count": 0,
      "outputs": []
    },
    {
      "cell_type": "markdown",
      "metadata": {
        "colab_type": "text",
        "id": "lv1qfPcr0eaZ"
      },
      "source": [
        "#### Select data, pre-process it and create dataset"
      ]
    },
    {
      "cell_type": "code",
      "metadata": {
        "colab_type": "code",
        "id": "SXK5XnqV0eab",
        "colab": {}
      },
      "source": [
        "def set_pixels_binary(images):\n",
        "    images = images/input_range\n",
        "    images[images >= 0.5] = 1.0\n",
        "    images[images < 0.5] = 0.0\n",
        "    return images\n",
        "\n",
        "def setup_dataset(x):\n",
        "  images = set_pixels_binary(x)\n",
        "\n",
        "  batch_size = 100\n",
        "  dataset = tf.data.Dataset.from_tensor_slices((images)).shuffle(len(images)).batch(batch_size)\n",
        "  return dataset\n",
        "\n",
        "def setup_dataset_no_shuffle(x_train, x_test):\n",
        "  train_images = set_pixels_binary(x_train)\n",
        "  test_images = set_pixels_binary(x_test)\n",
        "\n",
        "  batch_size = 100\n",
        "  train_dataset = tf.data.Dataset.from_tensor_slices((train_images)).batch(batch_size)\n",
        "  test_dataset = tf.data.Dataset.from_tensor_slices((test_images)).batch(batch_size)\n",
        "  return train_dataset, test_dataset"
      ],
      "execution_count": 0,
      "outputs": []
    },
    {
      "cell_type": "markdown",
      "metadata": {
        "colab_type": "text",
        "id": "RXAUM1Hh0ea0"
      },
      "source": [
        "#### Create Variational Autoencoder (VAE) Model"
      ]
    },
    {
      "cell_type": "code",
      "metadata": {
        "colab_type": "code",
        "id": "oiLqehle0ea2",
        "colab": {}
      },
      "source": [
        "class CVAE(tf.keras.Model):\n",
        "    def __init__(self, z_size):\n",
        "        super(CVAE, self).__init__()\n",
        "        self.z_size = z_size\n",
        "        self.encoder_nn = tf.keras.models.Sequential([ \n",
        "                          tf.keras.layers.Conv2D(32, (3,3), activation='relu', input_shape=(64, 64, 6)),\n",
        "                          tf.keras.layers.Conv2D(64, (3,3), activation='relu'),\n",
        "                          tf.keras.layers.Flatten(),\n",
        "                          tf.keras.layers.Dense(z_size*2)\n",
        "                          ])\n",
        "\n",
        "        self.decoder_nn = tf.keras.models.Sequential([\n",
        "                          tf.keras.layers.Dense(units=60*60*64, activation='relu', input_shape=(z_size,)),\n",
        "                          tf.keras.layers.Reshape(target_shape=(60, 60, 64)),\n",
        "                          tf.keras.layers.Conv2DTranspose(32, (3,3), activation='relu'),\n",
        "                          tf.keras.layers.Conv2DTranspose(6, (3,3)),\n",
        "                          ])\n",
        "\n",
        "    def encode(self, x):\n",
        "        encoder_nn_output = self.encoder_nn(x)\n",
        "        z_mean, z_logvar = tf.split(encoder_nn_output, num_or_size_splits=2, axis=1)\n",
        "        return z_mean, z_logvar\n",
        "\n",
        "    def reparameterize(self, z_mean, z_logvar):\n",
        "        epsilon = tf.random.normal(shape=z_mean.shape)\n",
        "        z_sampled = epsilon * tf.exp(z_logvar * 0.5) + z_mean\n",
        "        return z_sampled    \n",
        "\n",
        "    def decode(self, z):\n",
        "        pixel_output = self.decoder_nn(z)\n",
        "        pixel_mean = tf.math.sigmoid(pixel_output)\n",
        "        return pixel_mean"
      ],
      "execution_count": 0,
      "outputs": []
    },
    {
      "cell_type": "markdown",
      "metadata": {
        "colab_type": "text",
        "id": "ruRl4I4K0ea8"
      },
      "source": [
        "#### Define the loss function "
      ]
    },
    {
      "cell_type": "code",
      "metadata": {
        "colab_type": "code",
        "id": "Y1QqvVSV0ea-",
        "colab": {}
      },
      "source": [
        "def calculate_KL(model, x):\n",
        "    z_mean, z_logvar = model.encode(x)\n",
        "    z = model.reparameterize(z_mean, z_logvar)\n",
        "    \n",
        "    KL_parameters = -0.5 * (1 + z_logvar - (z_mean ** 2.0) - tf.exp(z_logvar))\n",
        "    KL_vectors = tf.reduce_sum(KL_parameters, axis=1)\n",
        "    KL = tf.reduce_mean(KL_vectors)\n",
        "    return KL\n",
        "\n",
        "def calculate_logpx_z(model, x):\n",
        "    z_mean, z_logvar = model.encode(x)\n",
        "    z = model.reparameterize(z_mean, z_logvar)\n",
        "    pixel_prob = model.decode(z)\n",
        "    logpx_z_pixels = tf.math.log(pixel_prob + 1e-10)*x + tf.math.log(1-pixel_prob + 1e-10)*(1-x)\n",
        "    logpx_z_images = tf.reduce_sum(logpx_z_pixels, axis=[1, 2, 3])\n",
        "    logpx_z = tf.reduce_mean (logpx_z_images)\n",
        "    return logpx_z\n",
        "\n",
        "def calculate_ELBO(model, x):\n",
        "    logpx_z = calculate_logpx_z(model, x)\n",
        "    KL = calculate_KL(model, x)\n",
        "    \n",
        "    ELBO = logpx_z - KL \n",
        "    return -ELBO #Negative because we want to maximise it"
      ],
      "execution_count": 0,
      "outputs": []
    },
    {
      "cell_type": "markdown",
      "metadata": {
        "colab_type": "text",
        "id": "vLIG3YRm0ebE"
      },
      "source": [
        "#### Define the optimizer"
      ]
    },
    {
      "cell_type": "code",
      "metadata": {
        "colab_type": "code",
        "id": "n5eaPpso0ebG",
        "colab": {}
      },
      "source": [
        "optimizer = tf.keras.optimizers.Adam(learning_rate = 0.00005)"
      ],
      "execution_count": 0,
      "outputs": []
    },
    {
      "cell_type": "markdown",
      "metadata": {
        "colab_type": "text",
        "id": "NvoBcADVjvek"
      },
      "source": [
        "#### Define loss metrics"
      ]
    },
    {
      "cell_type": "code",
      "metadata": {
        "colab_type": "code",
        "id": "DhYcUUvYjven",
        "colab": {}
      },
      "source": [
        "train_loss = tf.keras.metrics.Mean(name='train_loss')\n",
        "test_loss = tf.keras.metrics.Mean(name='test_loss')"
      ],
      "execution_count": 0,
      "outputs": []
    },
    {
      "cell_type": "markdown",
      "metadata": {
        "colab_type": "text",
        "id": "VngH-amb0ebM"
      },
      "source": [
        "#### Define train and test steps"
      ]
    },
    {
      "cell_type": "code",
      "metadata": {
        "colab_type": "code",
        "id": "dNN76Ed_0ebO",
        "colab": {}
      },
      "source": [
        "def train_step(model, x, optimizer):\n",
        "    with tf.GradientTape() as tape:\n",
        "        loss = calculate_ELBO(model, x)\n",
        "        gradients = tape.gradient(loss, model.trainable_variables)\n",
        "        optimizer.apply_gradients(zip(gradients, model.trainable_variables))\n",
        "        train_loss(loss)\n",
        "\n",
        "def test_step(model, x, optimizer):\n",
        "    loss = calculate_ELBO(model, x)\n",
        "    test_loss(loss)"
      ],
      "execution_count": 0,
      "outputs": []
    },
    {
      "cell_type": "code",
      "metadata": {
        "id": "SprYQb15_4ta",
        "colab_type": "code",
        "colab": {}
      },
      "source": [
        "def train_test_dataset(model, train_dataset, test_dataset, epochs):\n",
        "  test_ELBO = []\n",
        "  train_ELBO = []\n",
        "  epoch_number = []  \n",
        "  for epoch in range(epochs):\n",
        "    print('Performing Epoch {}'.format(epoch))\n",
        "    for train_x in train_dataset: \n",
        "      train_step(model, train_x, optimizer)\n",
        "  \n",
        "    for test_x in test_dataset:\n",
        "      test_step(model, test_x, optimizer)\n",
        "    \n",
        "    test_ELBO.append(-test_loss.result())\n",
        "    train_ELBO.append(-train_loss.result())\n",
        "    epoch_number.append(epoch)\n",
        "    \n",
        "    clear_output()\n",
        "    plt.plot(epoch_number, test_ELBO, train_ELBO)\n",
        "    plt.legend(['test','train'])\n",
        "    plt.title('model')\n",
        "    plt.show()\n",
        "  train_loss.reset_states()\n",
        "  test_loss.reset_states()"
      ],
      "execution_count": 0,
      "outputs": []
    },
    {
      "cell_type": "code",
      "metadata": {
        "id": "XDNiTobtrpA6",
        "colab_type": "code",
        "colab": {}
      },
      "source": [
        "def train_only_dataset(model, train_dataset, epochs):\n",
        "  train_ELBO = []\n",
        "  epoch_number = []  \n",
        "  for epoch in range(epochs):\n",
        "    for train_x in train_dataset: \n",
        "      train_step(model, train_x, optimizer)\n",
        "\n",
        "    loss = train_loss.result()\n",
        "    train_ELBO.append(-loss)\n",
        "    epoch_number.append(epoch)\n",
        "     \n",
        "  train_loss.reset_states()\n",
        "  test_loss.reset_states()\n",
        "  return loss"
      ],
      "execution_count": 0,
      "outputs": []
    },
    {
      "cell_type": "markdown",
      "metadata": {
        "colab_type": "text",
        "id": "b4MLsF1E0ebZ"
      },
      "source": [
        "#### Train the data"
      ]
    },
    {
      "cell_type": "code",
      "metadata": {
        "id": "8_cbixyTqI40",
        "colab_type": "code",
        "colab": {}
      },
      "source": [
        "typical_images = np.load('/content/drive/My Drive/SPACE_DATA/typical_images.npy')\n",
        "novel_images = np.load('/content/drive/My Drive/SPACE_DATA/novel_images.npy')\n",
        "\n",
        "N_typical_images = typical_images.shape[0]\n",
        "N_novel_images = novel_images.shape[0]\n",
        "img_height = typical_images.shape[1]\n",
        "img_width = typical_images.shape[2]\n",
        "img_channels = typical_images.shape[3]\n",
        "input_range = np.amax(typical_images)"
      ],
      "execution_count": 0,
      "outputs": []
    },
    {
      "cell_type": "code",
      "metadata": {
        "id": "UwEGRFuzzng6",
        "colab_type": "code",
        "colab": {}
      },
      "source": [
        "z_size = 10\n",
        "model = CVAE(z_size)"
      ],
      "execution_count": 0,
      "outputs": []
    },
    {
      "cell_type": "code",
      "metadata": {
        "id": "va4dDh2C1eJS",
        "colab_type": "code",
        "outputId": "e0d59741-184f-4b5f-c04a-5b8b8d6a56a5",
        "colab": {
          "base_uri": "https://localhost:8080/",
          "height": 299
        }
      },
      "source": [
        "start_time = time.time()\n",
        "losses = []\n",
        "for j in range(5):\n",
        "  for i in range(20):\n",
        "    if i != 19: num = 5000\n",
        "    if i == 19: num = 3700\n",
        "    train_dataset = setup_dataset(typical_images[i*5000:i*5000+num].astype('float32'))\n",
        "    loss = train_only_dataset(model, train_dataset, 1)\n",
        "    losses = np.append(losses, loss.numpy())\n",
        "    \n",
        "    clear_output()\n",
        "    print(str(j) + '.' + str(i) + '---> ' + str(loss.numpy()))\n",
        "    plt.plot(range(len(losses)), losses)\n",
        "    plt.grid(which='both', axis='both')\n",
        "    plt.show()\n",
        "print(time.time()-start_time)"
      ],
      "execution_count": 13,
      "outputs": [
        {
          "output_type": "stream",
          "text": [
            "4.19---> 3938.9688\n"
          ],
          "name": "stdout"
        },
        {
          "output_type": "display_data",
          "data": {
            "image/png": "[encoded data removed]",
            "text/plain": [
              "<Figure size 432x288 with 1 Axes>"
            ]
          },
          "metadata": {
            "tags": []
          }
        },
        {
          "output_type": "stream",
          "text": [
            "519.2287681102753\n"
          ],
          "name": "stdout"
        }
      ]
    },
    {
      "cell_type": "code",
      "metadata": {
        "id": "uALYjnDd3HGC",
        "colab_type": "code",
        "colab": {}
      },
      "source": [
        "#model.encoder_nn.save_weights('/content/drive/My Drive/4YP/Saved_NASA_model/CVAE_Encoder_25/Encoder.npy')\n",
        "#model.decoder_nn.save_weights('/content/drive/My Drive/4YP/Saved_NASA_model/CVAE_Decoder_25/Decoder.npy')\n",
        "#model.encoder_nn.save_weights('/content/drive/My Drive/4YP/Saved_NASA_model/CVAE_Encoder_10/Encoder.npy')\n",
        "#model.decoder_nn.save_weights('/content/drive/My Drive/4YP/Saved_NASA_model/CVAE_Decoder_10/Decoder.npy')\n",
        "#model.encoder_nn.save_weights('/content/drive/My Drive/4YP/Saved_NASA_model/CVAE_Encoder_2/Encoder.npy')\n",
        "#model.decoder_nn.save_weights('/content/drive/My Drive/4YP/Saved_NASA_model/CVAE_Decoder_2/Decoder.npy')"
      ],
      "execution_count": 0,
      "outputs": []
    },
    {
      "cell_type": "code",
      "metadata": {
        "id": "ABX2IlFc5hrl",
        "colab_type": "code",
        "outputId": "e63dd913-b3a4-46f3-be03-14b90f0ce6e7",
        "colab": {
          "base_uri": "https://localhost:8080/",
          "height": 34
        }
      },
      "source": [
        "CVAE_25 = CVAE(25)\n",
        "CVAE_25.encoder_nn.load_weights('/content/drive/My Drive/4YP/Saved_NASA_model/CVAE_Encoder_25/Encoder.npy')\n",
        "CVAE_25.decoder_nn.load_weights('/content/drive/My Drive/4YP/Saved_NASA_model/CVAE_Decoder_25/Decoder.npy')\n",
        "CVAE_10 = CVAE(10)\n",
        "CVAE_10.encoder_nn.load_weights('/content/drive/My Drive/4YP/Saved_NASA_model/CVAE_Encoder_10/Encoder.npy')\n",
        "CVAE_10.decoder_nn.load_weights('/content/drive/My Drive/4YP/Saved_NASA_model/CVAE_Decoder_10/Decoder.npy')\n",
        "#CVAE_2 = CVAE(2)\n",
        "#CVAE_2.encoder_nn.load_weights('/content/drive/My Drive/4YP/Saved_NASA_model/CVAE_Encoder_2/Encoder.npy')\n",
        "#CVAE_2.decoder_nn.load_weights('/content/drive/My Drive/4YP/Saved_NASA_model/CVAE_Decoder_2/Decoder.npy')"
      ],
      "execution_count": 12,
      "outputs": [
        {
          "output_type": "execute_result",
          "data": {
            "text/plain": [
              "<tensorflow.python.training.tracking.util.CheckpointLoadStatus at 0x7fd69e7526d8>"
            ]
          },
          "metadata": {
            "tags": []
          },
          "execution_count": 12
        }
      ]
    },
    {
      "cell_type": "code",
      "metadata": {
        "id": "ix9-bJ9t4h2w",
        "colab_type": "code",
        "outputId": "062d15ec-5121-40f4-f43f-69113bf113f3",
        "colab": {
          "base_uri": "https://localhost:8080/",
          "height": 337
        }
      },
      "source": [
        "def reconstruct_images(model, data, images):\n",
        "    images_n = 1\n",
        "    x = data[images]/input_range\n",
        "    x[x >= 0.5] = 1.0\n",
        "    x[x < 0.5] = 0.0\n",
        "    x = x.reshape(images_n, img_height, img_width, img_channels).astype('float32')\n",
        "\n",
        "    z_mean, z_logvar = model.encode(x)\n",
        "    z = model.reparameterize(z_mean, z_logvar)\n",
        "    pixel_output = model.decode(z)\n",
        "    pixel_prob = tf.math.sigmoid(pixel_output)\n",
        "    print(np.shape(pixel_prob))\n",
        "\n",
        "    loss = np.empty([images_n])\n",
        "    for i in range(images_n):\n",
        "        loss[i] = calculate_ELBO(model,x[i:i+1])\n",
        "    loss = loss.astype('float16')\n",
        "    \n",
        "    print('Original Pictures:')\n",
        "    plot_images(data, images)\n",
        "    print('Reconstructed Pictures, with ELBO loss:')\n",
        "    plot_images(data, images)\n",
        "    return loss\n",
        "\n",
        "loss = reconstruct_images(CVAE_10, typical_images, 0)\n",
        "print(loss)"
      ],
      "execution_count": 13,
      "outputs": [
        {
          "output_type": "stream",
          "text": [
            "(1, 64, 64, 6)\n",
            "Original Pictures:\n"
          ],
          "name": "stdout"
        },
        {
          "output_type": "display_data",
          "data": {
            "image/png": "[encoded data removed]",
            "text/plain": [
              "<Figure size 1080x144 with 6 Axes>"
            ]
          },
          "metadata": {
            "tags": []
          }
        },
        {
          "output_type": "stream",
          "text": [
            "Reconstructed Pictures, with ELBO loss:\n"
          ],
          "name": "stdout"
        },
        {
          "output_type": "display_data",
          "data": {
            "image/png": "[encoded data removed]",
            "text/plain": [
              "<Figure size 1080x144 with 6 Axes>"
            ]
          },
          "metadata": {
            "tags": []
          }
        },
        {
          "output_type": "stream",
          "text": [
            "[1905.]\n"
          ],
          "name": "stdout"
        }
      ]
    },
    {
      "cell_type": "code",
      "metadata": {
        "id": "iEHXcv5lKRud",
        "colab_type": "code",
        "colab": {}
      },
      "source": [
        "# 1941-1968\n",
        "# 2100-2144\n",
        "# 2972-3000\n",
        "# 3896-3936"
      ],
      "execution_count": 0,
      "outputs": []
    },
    {
      "cell_type": "markdown",
      "metadata": {
        "id": "8juDbid_YrGS",
        "colab_type": "text"
      },
      "source": [
        "#### Visualize the latent space"
      ]
    },
    {
      "cell_type": "code",
      "metadata": {
        "colab_type": "code",
        "id": "nOgW1CZIjvfG",
        "outputId": "f4a87616-1a08-4ceb-cb66-b5dad0a7b511",
        "colab": {
          "base_uri": "https://localhost:8080/",
          "height": 463
        }
      },
      "source": [
        "def visualize_latent_space(model, range1, range2, data_x, a, b):\n",
        "  plot = plt.figure(figsize=[7,7])\n",
        "  outliers=0\n",
        "  outlier = []\n",
        "  latent_space = np.zeros([2, range2-range1, 25])\n",
        "  for i in range(range1, range2):\n",
        "    pic_visualize = data_x[i]\n",
        "    pic_visualize = pic_visualize.reshape(1, img_height, img_width, img_channels).astype('float32')\n",
        "    \n",
        "    z_mean, z_logvar = model.encode(pic_visualize)\n",
        "    z = model.reparameterize(z_mean, z_logvar)\n",
        "    latent_space[0,i,:] = z_mean\n",
        "    latent_space[1,i,:] = z_logvar\n",
        "    \n",
        "    if any(z_logvar[:,i]>10 for i in range(model.z_size)):\n",
        "      outliers +=1\n",
        "      outlier.append(i)\n",
        "      continue\n",
        "\n",
        "    #color_dict = dict([(0,'blue'), (1,'orange'), (2,'green'), (3,'red'), (4,'purple'), (5,'brown'), (6,'pink'), (7,'gray'), (8,'black'), (9,'yellow')])\n",
        "    plt.scatter(z[:,a],z[:,b], color = 'blue', s=10)\n",
        "\n",
        "  print('{} Outliers detected'.format(outliers))\n",
        "  return latent_space, outlier\n",
        "\n",
        "start_time = time.time()\n",
        "latent_space, outlier = visualize_latent_space(CVAE_25, 0, 10000, typical_images, 0,1)\n",
        "print(time.time()-start_time)"
      ],
      "execution_count": 0,
      "outputs": [
        {
          "output_type": "stream",
          "text": [
            "0 Outliers detected\n",
            "309.7913155555725\n"
          ],
          "name": "stdout"
        },
        {
          "output_type": "display_data",
          "data": {
            "image/png": "[encoded data removed]",
            "text/plain": [
              "<Figure size 504x504 with 1 Axes>"
            ]
          },
          "metadata": {
            "tags": []
          }
        }
      ]
    },
    {
      "cell_type": "markdown",
      "metadata": {
        "id": "fXQXpNK5zsnB",
        "colab_type": "text"
      },
      "source": [
        "### Predict Novelties with threshold"
      ]
    },
    {
      "cell_type": "markdown",
      "metadata": {
        "id": "12E5rNWrE4xO",
        "colab_type": "text"
      },
      "source": [
        "##### Calculate novelty scores"
      ]
    },
    {
      "cell_type": "markdown",
      "metadata": {
        "id": "Z1ppHIx-JCM-",
        "colab_type": "text"
      },
      "source": [
        "Loss_1 = Deterministic reconstruction error\n",
        "\n",
        "Loss_2 = Encoder-stochastic reconstruction error average\n",
        "\n",
        "Loss_3 = Encoder-stochastic reconstruction error minimum\n",
        "\n",
        "Loss_4 = Deterministic reconstruction likelihood\n",
        "\n",
        "Loss_5 = Encoder-stochastic reconstruction likelihood average\n",
        "\n",
        "Loss_6 = Encoder-stochastic reconstruction likelihood minimum\n",
        "\n",
        "Loss_7 = Fully deterministic distance-based reconstruction error\n",
        "\n",
        "Loss_8 = Test deterministic distance-based reconstruction error\n",
        "\n",
        "Loss_9 = Train deterministic distance-based reconstruction error\n",
        "\n",
        "Loss_10 = Bhattacharyya distance of deterministic reconstruction likelihood\n",
        "\n",
        "Loss_11 = ELBO\n",
        "\n",
        "Loss_12 = ELBO average\n",
        "\n",
        "Loss_13 = ELBO minimum\n",
        "\n",
        "Loss_14 = KL Divergence\n",
        "\n",
        "Loss_15 = Euclidean distance between means of the distributions\n",
        "\n",
        "Loss_16 = Bhattacharyya distance between distributions\n",
        "\n",
        "Loss_17 = Density latent space "
      ]
    },
    {
      "cell_type": "code",
      "metadata": {
        "id": "ijomh5XblL1j",
        "colab_type": "code",
        "colab": {}
      },
      "source": [
        "def Loss_1(model, x):\n",
        "  losses_per_image = []\n",
        "  for images in x:\n",
        "    z_mean, z_logvar = model.encode(images)\n",
        "    pixel_prob = model.decode(z_mean)\n",
        "    pixel_squared = np.square(pixel_prob - images)\n",
        "    pixel_squared = tf.reduce_sum(pixel_squared, axis=[1,2,3])\n",
        "    losses_per_image = np.append(losses_per_image, pixel_squared)\n",
        "  return losses_per_image\n",
        "\n",
        "def Loss_2(model, x):\n",
        "  losses_per_image = []\n",
        "  for images in x:\n",
        "    z_mean, z_logvar = model.encode(images)\n",
        "    avg = np.empty([50, len(images)])\n",
        "    for j in range(50):\n",
        "      z = model.reparameterize(z_mean, z_logvar)\n",
        "      pixel_prob = model.decode(z)\n",
        "      pixel_squared = np.square(pixel_prob - images)\n",
        "      pixel_squared = tf.reduce_sum(pixel_squared, axis=[1,2,3])\n",
        "      avg[j,:] = pixel_squared\n",
        "    losses_per_image = np.append(losses_per_image, np.mean(avg, axis=0))\n",
        "  return losses_per_image\n",
        "\n",
        "def Loss_3(model, x):\n",
        "  losses_per_image = []\n",
        "  for images in x:\n",
        "    z_mean, z_logvar = model.encode(images)\n",
        "    avg = np.empty([50, len(images)])\n",
        "    for j in range(50):\n",
        "      z = model.reparameterize(z_mean, z_logvar)\n",
        "      pixel_prob = model.decode(z)\n",
        "      pixel_squared = np.square(pixel_prob - images)\n",
        "      pixel_squared = tf.reduce_sum(pixel_squared, axis=[1,2,3])\n",
        "      avg[j,:] = pixel_squared\n",
        "    losses_per_image = np.append(losses_per_image, np.min(avg, axis=0))\n",
        "  return losses_per_image\n",
        "\n",
        "def Loss_4(model, x):\n",
        "  losses_per_image = []\n",
        "  for images in x:\n",
        "    z_mean, z_logvar = model.encode(images)\n",
        "    pixel_prob = model.decode(z_mean)\n",
        "    logpx_z_pixels = tf.math.log(pixel_prob + 1e-10)*images + tf.math.log(1-pixel_prob + 1e-10)*(1-images)\n",
        "    logpx_z_images = -tf.reduce_sum(logpx_z_pixels, axis=[1, 2, 3])\n",
        "    losses_per_image = np.append(losses_per_image, logpx_z_images)\n",
        "  return losses_per_image\n",
        "\n",
        "def Loss_5(model, x):\n",
        "  losses_per_image = []\n",
        "  for images in x:\n",
        "    z_mean, z_logvar = model.encode(images)\n",
        "    avg = np.empty([50, len(images)])\n",
        "    for j in range(50):\n",
        "      z = model.reparameterize(z_mean, z_logvar)\n",
        "      pixel_prob = model.decode(z)\n",
        "      logpx_z_pixels = tf.math.log(pixel_prob + 1e-10)*images + tf.math.log(1-pixel_prob + 1e-10)*(1-images)\n",
        "      logpx_z_images = -tf.reduce_sum(logpx_z_pixels, axis=[1, 2, 3])\n",
        "      avg[j,:] = logpx_z_images\n",
        "    losses_per_image = np.append(losses_per_image, np.mean(avg, axis=0))\n",
        "  return losses_per_image\n",
        "\n",
        "def Loss_6(model, x):\n",
        "  losses_per_image = []\n",
        "  for images in x:\n",
        "    z_mean, z_logvar = model.encode(images)\n",
        "    avg = np.empty([50, len(images)])\n",
        "    for j in range(50):\n",
        "      z = model.reparameterize(z_mean, z_logvar)\n",
        "      pixel_prob = model.decode(z)\n",
        "      logpx_z_pixels = tf.math.log(pixel_prob + 1e-10)*images + tf.math.log(1-pixel_prob + 1e-10)*(1-images)\n",
        "      logpx_z_images = -tf.reduce_sum(logpx_z_pixels, axis=[1, 2, 3])\n",
        "      avg[j,:] = logpx_z_images\n",
        "    losses_per_image = np.append(losses_per_image, np.min(avg, axis=0))\n",
        "  return losses_per_image\n",
        "\n",
        "def Loss_7(model, x_train, x_test):\n",
        "  losses_per_image = []\n",
        "  pixel_prob_per_image_train = []\n",
        "  pixel_prob_per_image_test = []\n",
        "  a = 0; b = 0\n",
        "  for images in x_train:\n",
        "    z_mean, z_logvar = model.encode(images)\n",
        "    pixel_prob = model.decode(z_mean)\n",
        "    if a != 0: pixel_prob_per_image_train = np.append(pixel_prob_per_image_train, pixel_prob, axis=0)\n",
        "    else: pixel_prob_per_image_train = pixel_prob; a = 1\n",
        "  for images in x_test:\n",
        "    z_mean, z_logvar = model.encode(images)\n",
        "    pixel_prob = model.decode(z_mean)\n",
        "    if b != 0: pixel_prob_per_image_test = np.append(pixel_prob_per_image_test, pixel_prob, axis=0)\n",
        "    else: pixel_prob_per_image_test = pixel_prob; b = 1  \n",
        "  num = len(pixel_prob_per_image_test)\n",
        "  for i in range(num):\n",
        "    if not i%100: clear_output(); print('Progress Loss_7:{}%'.format(100*(i)/num))\n",
        "    temporary = np.abs(pixel_prob_per_image_test[i] - pixel_prob_per_image_train)\n",
        "    temporary = tf.reduce_sum(temporary, axis=[1,2,3])\n",
        "    losses_per_image = np.append(losses_per_image, np.min(temporary))\n",
        "  return losses_per_image\n",
        "\n",
        "def Loss_8(model, x_train, x_test):\n",
        "  losses_per_image = []\n",
        "  image_train = []\n",
        "  pixel_prob_per_image_test = []\n",
        "  a = 0; b = 0\n",
        "  for images in x_train:\n",
        "    if a != 0: image_train = np.append(image_train, images, axis=0)\n",
        "    else: image_train = images; a = 1\n",
        "  for images in x_test:\n",
        "    z_mean, z_logvar = model.encode(images)\n",
        "    pixel_prob = model.decode(z_mean)\n",
        "    if b != 0: pixel_prob_per_image_test = np.append(pixel_prob_per_image_test, pixel_prob, axis=0)\n",
        "    else: pixel_prob_per_image_test = pixel_prob; b = 1  \n",
        "  num = len(pixel_prob_per_image_test)\n",
        "  for i in range(num):\n",
        "    if not i%100: clear_output(); print('Progress Loss_9:{}%'.format(100*(i)/num))\n",
        "    temporary = np.abs(pixel_prob_per_image_test[i] - image_train)\n",
        "    temporary = tf.reduce_sum(temporary, axis=[1,2,3])\n",
        "    losses_per_image = np.append(losses_per_image, np.min(temporary))\n",
        "  return losses_per_image\n",
        "\n",
        "def Loss_9(model, x_train, x_test):\n",
        "  losses_per_image = []\n",
        "  pixel_prob_per_image_train = []\n",
        "  image_test = []\n",
        "  a = 0; b = 0\n",
        "  for images in x_train:\n",
        "    z_mean, z_logvar = model.encode(images)\n",
        "    pixel_prob = model.decode(z_mean)\n",
        "    if a != 0: pixel_prob_per_image_train = np.append(pixel_prob_per_image_train, pixel_prob, axis=0)\n",
        "    else: pixel_prob_per_image_train = pixel_prob; a = 1\n",
        "  for images in x_test:\n",
        "    z_mean, z_logvar = model.encode(images)\n",
        "    pixel_prob = model.decode(z_mean)\n",
        "    if b != 0: image_test = np.append(image_test, images, axis=0)\n",
        "    else: image_test = images; b = 1  \n",
        "  num = len(image_test)\n",
        "  for i in range(num):\n",
        "    if not i%100: clear_output(); print('Progress Loss_10:{}%'.format(100*(i)/num))\n",
        "    temporary = np.abs(image_test[i] - pixel_prob_per_image_train)\n",
        "    temporary = tf.reduce_sum(temporary, axis=[1,2,3])\n",
        "    losses_per_image = np.append(losses_per_image, np.min(temporary))\n",
        "  return losses_per_image\n",
        "\n",
        "def Loss_10(model, x_train, x_test):\n",
        "  losses_per_image = []\n",
        "  pixel_prob_per_image_train = []\n",
        "  pixel_prob_per_image_test = []\n",
        "  a = 0; b = 0\n",
        "  for images in x_train:\n",
        "    z_mean, z_logvar = model.encode(images)\n",
        "    pixel_prob = model.decode(z_mean)\n",
        "    if a != 0: pixel_prob_per_image_train = np.append(pixel_prob_per_image_train, pixel_prob, axis=0)\n",
        "    else: pixel_prob_per_image_train = pixel_prob; a = 1\n",
        "  for images in x_test:\n",
        "    z_mean, z_logvar = model.encode(images)\n",
        "    pixel_prob = model.decode(z_mean)\n",
        "    if b != 0: pixel_prob_per_image_test = np.append(pixel_prob_per_image_test, pixel_prob, axis=0)\n",
        "    else: pixel_prob_per_image_test = pixel_prob; b = 1  \n",
        "  num = len(pixel_prob_per_image_test)\n",
        "  for i in range(num):\n",
        "    if not i%100: clear_output(); print('Progress Loss_8:{}%'.format(100*(i)/num))\n",
        "    temporary = np.sqrt(np.multiply(1-pixel_prob_per_image_test[i],np.subtract(1,pixel_prob_per_image_train)))+np.sqrt(np.multiply(pixel_prob_per_image_test[i],pixel_prob_per_image_train))\n",
        "    temporary = np.log(temporary)\n",
        "    temporary = tf.reduce_sum(temporary, axis=[1,2,3])\n",
        "    losses_per_image = np.append(losses_per_image, np.min(temporary))\n",
        "  return losses_per_image\n",
        "\n",
        "def Loss_11(model, x):\n",
        "  losses_per_image = Loss_4(model, x)-Loss_14(model, x)\n",
        "  return losses_per_image\n",
        "\n",
        "def Loss_12(model, x):\n",
        "  losses_per_image = Loss_5(model, x)-Loss_14(model, x)\n",
        "  return losses_per_image\n",
        "\n",
        "def Loss_13(model, x):\n",
        "  losses_per_image = Loss_6(model, x)-Loss_14(model, x)\n",
        "  return losses_per_image\n",
        "\n",
        "def Loss_14(model, x):\n",
        "  losses_per_image = []\n",
        "  for images in x:\n",
        "    z_mean, z_logvar = model.encode(images)\n",
        "    KL_parameters = 0.5 * (1 + z_logvar - (z_mean ** 2.0) - tf.exp(z_logvar))\n",
        "    KL_vectors = tf.reduce_sum(KL_parameters, axis=1)\n",
        "    losses_per_image = np.append(losses_per_image, KL_vectors)\n",
        "  return losses_per_image\n",
        "\n",
        "def Loss_15(model, x_train, x_test):\n",
        "  losses_per_image = []\n",
        "  z_mean_per_image_train = []\n",
        "  z_mean_per_image_test = []\n",
        "  a = 0; b = 0\n",
        "  for images in x_train:\n",
        "    z_mean, z_logvar = model.encode(images)\n",
        "    if a != 0: z_mean_per_image_train = np.append(z_mean_per_image_train, z_mean, axis=0)\n",
        "    else: z_mean_per_image_train = z_mean; a = 1\n",
        "  for images in x_test:\n",
        "    z_mean, z_logvar = model.encode(images)\n",
        "    if b != 0: z_mean_per_image_test = np.append(z_mean_per_image_test, z_mean, axis=0)\n",
        "    else: z_mean_per_image_test = z_mean; b = 1 \n",
        "  num = len(z_mean_per_image_test)\n",
        "  for i in range(num):\n",
        "    if not i%500: clear_output(); print('Progress Loss_15:{}%'.format(100*(i)/num))\n",
        "    temporary = np.abs(z_mean_per_image_test[i] - z_mean_per_image_train)\n",
        "    temporary = tf.reduce_sum(temporary, axis=1)\n",
        "    losses_per_image = np.append(losses_per_image, np.min(temporary)) \n",
        "  return losses_per_image\n",
        "\n",
        "def Loss_16(model, x_train, x_test):\n",
        "  losses_per_image = []\n",
        "  z_mean_train = []; z_var_train = []\n",
        "  z_mean_test = []; z_var_test = []\n",
        "  a = 0; b = 0\n",
        "  for images in x_train:\n",
        "    z_mean, z_logvar = model.encode(images)\n",
        "    if a != 0: \n",
        "      z_mean_train = np.append(z_mean_train, z_mean, axis=0)\n",
        "      z_var_train = np.append(z_var_train, np.exp(z_logvar), axis=0)\n",
        "    else: \n",
        "      z_mean_train = z_mean\n",
        "      z_var_train = np.exp(z_logvar)\n",
        "      a = 1\n",
        "  for images in x_test:\n",
        "    z_mean, z_logvar = model.encode(images)\n",
        "    if b != 0: \n",
        "      z_mean_test = np.append(z_mean_test, z_mean, axis=0)\n",
        "      z_var_test = np.append(z_var_test, np.exp(z_logvar), axis=0)\n",
        "    else: \n",
        "      z_mean_test = z_mean\n",
        "      z_var_test = np.exp(z_logvar)\n",
        "      b = 1 \n",
        "  num = len(z_mean_test)\n",
        "  for i in range(num):\n",
        "    if not i%100: clear_output(); print('Progress Loss_16:{}%'.format(100*(i)/num))\n",
        "    temporary_1 = np.log(np.multiply(0.25, (np.add(np.divide(z_var_test[i], z_var_train), np.add(np.divide(z_var_train, z_var_test[i]),2)))))\n",
        "    temporary_2 = np.divide(np.square(np.subtract(z_mean_test[i], z_mean_train)), np.add(z_var_test[i], z_var_train))\n",
        "    temporary = np.multiply(0.25, temporary_1) + np.multiply(0.25, temporary_2)\n",
        "    losses_per_image = np.append(losses_per_image, np.min(np.sum(temporary)))\n",
        "  return losses_per_image\n",
        "\n",
        "def Loss_17(model, x_train, x_test):\n",
        "  losses_per_image = []\n",
        "  z_mean_train = []; z_var_train = []\n",
        "  z_mean_test = []\n",
        "  a = 0; b = 0\n",
        "  for images in x_train:\n",
        "    z_mean, z_logvar = model.encode(images)\n",
        "    if a != 0: \n",
        "      z_mean_train = np.append(z_mean_train, z_mean, axis=0)\n",
        "      z_var_train = np.append(z_var_train, np.exp(z_logvar), axis=0)\n",
        "    else: \n",
        "      z_mean_train = z_mean\n",
        "      z_var_train = np.exp(z_logvar)\n",
        "      a = 1\n",
        "  for images in x_test:\n",
        "    z_mean, z_logvar = model.encode(images)\n",
        "    if b != 0: z_mean_test = np.append(z_mean_test, z_mean, axis=0)\n",
        "    else: z_mean_test = z_mean; b = 1 \n",
        "  \n",
        "  num = len(z_mean_test)\n",
        "  for i in range(num):\n",
        "    if not i%100: clear_output(); print('Progress Loss_17:{}%'.format(100*(i)/num))\n",
        "    A = np.divide(0.39894, np.sqrt(z_var_train))\n",
        "    B1 = np.subtract(z_mean_test[i], z_mean_train)\n",
        "    B2 = np.sqrt(z_var_train)\n",
        "    B = np.multiply(-0.5, np.square(np.divide(B1,B2)))\n",
        "    temporary = np.multiply(A, np.exp(B))\n",
        "    temporary = np.mean(temporary)\n",
        "    losses_per_image = np.append(losses_per_image, temporary) \n",
        "  return -losses_per_image"
      ],
      "execution_count": 0,
      "outputs": []
    },
    {
      "cell_type": "code",
      "metadata": {
        "id": "kQUf8Q4CNQRK",
        "colab_type": "code",
        "colab": {}
      },
      "source": [
        "Loss_functions_dict = dict([(1,Loss_1),(2,Loss_2),(3,Loss_3),(4,Loss_4),(5,Loss_5),(6,Loss_6),(7,Loss_7),\n",
        "                            (8,Loss_8),(9,Loss_9),(10,Loss_10),(11,Loss_11),(12,Loss_12),(13,Loss_13),\n",
        "                            (14,Loss_14),(15,Loss_15),(16,Loss_16),(17,Loss_17)])"
      ],
      "execution_count": 0,
      "outputs": []
    },
    {
      "cell_type": "code",
      "metadata": {
        "id": "bfaTyVBTHgGk",
        "colab_type": "code",
        "outputId": "650cdeeb-24ab-4bb5-98ec-916613b8c0a5",
        "colab": {
          "base_uri": "https://localhost:8080/",
          "height": 527
        }
      },
      "source": [
        "losses_typical = dict([])\n",
        "losses_novel = dict([])\n",
        "\n",
        "for j in [1,2,3,4,5,6,11,12,13,14]:\n",
        "  start_time = time.time()\n",
        "  \n",
        "  losses_typical[j] = []\n",
        "  print('LOSS {} Pogress/20: '.format(j), end='')\n",
        "  for i in range(20):\n",
        "    print('{}, '.format(i+1), end='')\n",
        "    if i != 19: num = 5000\n",
        "    if i == 19: num = 3700\n",
        "    dataset = setup_dataset(typical_images[i*5000:i*5000+num].astype('float32'))\n",
        "    losses_typical[j] = np.append(losses_typical[j], Loss_functions_dict[j](CVAE_25, dataset))\n",
        "\n",
        "  print('novel')\n",
        "  dataset = setup_dataset(novel_images[0:300].astype('float32'))\n",
        "  losses_novel[j] = Loss_functions_dict[j](CVAE_25, dataset)\n",
        "\n",
        "  print('LOSS {} Time ---> {} sec \\n'.format(j, time.time()-start_time))"
      ],
      "execution_count": 19,
      "outputs": [
        {
          "output_type": "stream",
          "text": [
            "LOSS 1 Pogress/20: 1, 2, 3, 4, 5, 6, 7, 8, 9, 10, 11, 12, 13, 14, 15, 16, 17, 18, 19, 20, novel\n",
            "LOSS 1 Time ---> 49.23288941383362 sec \n",
            "\n",
            "LOSS 2 Pogress/20: 1, 2, 3, 4, 5, 6, 7, 8, 9, 10, 11, 12, 13, 14, 15, 16, 17, 18, 19, 20, novel\n",
            "LOSS 2 Time ---> 833.4041440486908 sec \n",
            "\n",
            "LOSS 3 Pogress/20: 1, 2, 3, 4, 5, 6, 7, 8, 9, 10, 11, 12, 13, 14, 15, 16, 17, 18, 19, 20, novel\n",
            "LOSS 3 Time ---> 838.7428653240204 sec \n",
            "\n",
            "LOSS 4 Pogress/20: 1, 2, 3, 4, 5, 6, 7, 8, 9, 10, 11, 12, 13, 14, 15, 16, 17, 18, 19, 20, novel\n",
            "LOSS 4 Time ---> 44.76606750488281 sec \n",
            "\n",
            "LOSS 5 Pogress/20: 1, 2, 3, 4, 5, 6, 7, 8, 9, 10, 11, 12, 13, 14, 15, 16, 17, 18, 19, 20, novel\n",
            "LOSS 5 Time ---> 609.8202922344208 sec \n",
            "\n",
            "LOSS 6 Pogress/20: 1, 2, 3, 4, 5, 6, 7, 8, 9, 10, 11, 12, 13, 14, 15, 16, 17, 18, 19, 20, novel\n",
            "LOSS 6 Time ---> 607.253716468811 sec \n",
            "\n",
            "LOSS 11 Pogress/20: 1, 2, 3, 4, 5, 6, 7, 8, 9, 10, 11, 12, 13, 14, 15, 16, 17, 18, 19, 20, novel\n",
            "LOSS 11 Time ---> 63.9029541015625 sec \n",
            "\n",
            "LOSS 12 Pogress/20: 1, 2, 3, 4, 5, 6, 7, 8, 9, 10, 11, 12, 13, 14, 15, 16, 17, 18, 19, 20, novel\n",
            "LOSS 12 Time ---> 624.6334581375122 sec \n",
            "\n",
            "LOSS 13 Pogress/20: 1, 2, 3, 4, 5, 6, 7, 8, 9, 10, 11, 12, 13, 14, 15, 16, 17, 18, 19, 20, novel\n",
            "LOSS 13 Time ---> 626.248507976532 sec \n",
            "\n",
            "LOSS 14 Pogress/20: 1, 2, 3, 4, 5, 6, 7, 8, 9, 10, 11, 12, 13, 14, 15, 16, 17, 18, 19, 20, novel\n",
            "LOSS 14 Time ---> 34.4215612411499 sec \n",
            "\n"
          ],
          "name": "stdout"
        }
      ]
    },
    {
      "cell_type": "code",
      "metadata": {
        "id": "xbQhD3GdqhPH",
        "colab_type": "code",
        "colab": {}
      },
      "source": [
        "np.save('/content/drive/My Drive/4YP/Saved_NASA_model/losses_typical_dict.npy',losses_typical)\n",
        "np.save('/content/drive/My Drive/4YP/Saved_NASA_model/losses_novel_dict.npy',losses_novel)"
      ],
      "execution_count": 0,
      "outputs": []
    },
    {
      "cell_type": "code",
      "metadata": {
        "id": "LBIeQShSywBJ",
        "colab_type": "code",
        "colab": {}
      },
      "source": [
        "losses_typical_dict = np.load('/content/drive/My Drive/4YP/Saved_NASA_model/losses_typical_dict.npy', allow_pickle=True)\n",
        "losses_typical_dict = losses_typical_dict.item()\n",
        "losses_novel_dict = np.load('/content/drive/My Drive/4YP/Saved_NASA_model/losses_novel_dict.npy', allow_pickle=True)\n",
        "losses_novel_dict = losses_novel_dict.item()"
      ],
      "execution_count": 0,
      "outputs": []
    },
    {
      "cell_type": "markdown",
      "metadata": {
        "id": "4_tWOj2w32Mj",
        "colab_type": "text"
      },
      "source": [
        "##### Classify"
      ]
    },
    {
      "cell_type": "code",
      "metadata": {
        "id": "QB36vwoc4XBk",
        "colab_type": "code",
        "colab": {}
      },
      "source": [
        "def threshold_ROC(y_true, y_score, title, plot=True):\n",
        "  fpr, tpr, threshold = roc_curve(y_true, y_score)\n",
        "  roc_auc = auc(fpr, tpr)\n",
        "  optimal_idx = np.argmin(np.sqrt(np.square(1-tpr) + np.square(fpr)))\n",
        "  optimal_threshold = threshold[optimal_idx]\n",
        "\n",
        "  optimal_accuracy_idx = np.argmax(tpr*300+((1-fpr)*98700))\n",
        "  optimal_accuracy = (tpr[optimal_accuracy_idx]*300+((1-fpr[optimal_accuracy_idx])*98700))/99000\n",
        "  optimal_accuracy_threshold = threshold[optimal_accuracy_idx]\n",
        "\n",
        "  optimal_avgaccuracy_idx = np.argmax(tpr + 1 - fpr)\n",
        "  optimal_avgaccuracy = (tpr[optimal_avgaccuracy_idx]+1-fpr[optimal_avgaccuracy_idx])/2\n",
        "  optimal_avgaccuracy_threshold = threshold[optimal_avgaccuracy_idx]\n",
        "\n",
        "  if plot:\n",
        "    plot = plt.figure()\n",
        "    plt.plot(fpr, tpr, color='red', label='AUC = %0.2f; Threshold = %0.4f' % (roc_auc,optimal_threshold))\n",
        "    plt.plot([0, 1], [0, 1], color='navy', linestyle='--')\n",
        "    plt.xlabel('False Positive Rate')\n",
        "    plt.ylabel('True Positive Rate')\n",
        "    plt.title('ROC curve for ' + title)\n",
        "    plt.legend(loc=\"lower right\")\n",
        "    plt.show()\n",
        "  return roc_auc, optimal_threshold, optimal_accuracy, optimal_accuracy_threshold, optimal_avgaccuracy, optimal_avgaccuracy_threshold"
      ],
      "execution_count": 0,
      "outputs": []
    },
    {
      "cell_type": "code",
      "metadata": {
        "id": "OCZv961mYM4k",
        "colab_type": "code",
        "colab": {}
      },
      "source": [
        "y_train = np.zeros([len(losses_novel_dict[1])+len(losses_typical_dict[1]),])\n",
        "y_train[0:300] = 1\n",
        "\n",
        "threshold_dict = dict([])\n",
        "threshold_avg_dict = dict([])\n",
        "auc_dict = dict([])\n",
        "for i in [1,2,3,4,5,6,11,12,13,14]:\n",
        "  losses_train = np.append(losses_novel_dict[i], losses_typical_dict[i])\n",
        "  auc_dict[i], threshold_dict[i], _, _, _, threshold_avg_dict[i] = threshold_ROC(y_train, losses_train, 'Loss_'+str(i), plot=True)"
      ],
      "execution_count": 0,
      "outputs": []
    },
    {
      "cell_type": "markdown",
      "metadata": {
        "id": "CMOJX7QZabO2",
        "colab_type": "text"
      },
      "source": [
        "#### Classifier"
      ]
    },
    {
      "cell_type": "code",
      "metadata": {
        "id": "Gcmvh5qT6aXv",
        "colab_type": "code",
        "colab": {}
      },
      "source": [
        "classifier = tf.keras.models.Sequential([\n",
        "  tf.keras.layers.Dense(128, activation='relu', input_shape=(1,)),\n",
        "  tf.keras.layers.Dense(1, activation='sigmoid')\n",
        "])\n",
        "\n",
        "classifier.summary()\n",
        "\n",
        "classifier.compile(optimizer='adam', loss='binary_crossentropy', metrics=['binary_accuracy'])\n",
        "\n",
        "class_weights = class_weight.compute_class_weight('balanced', np.unique(y_train), y_train)\n",
        "class_weights = dict(enumerate(class_weights))\n",
        "\n",
        "classifier.fit(losses_train, y_train, batch_size=50, epochs=5, class_weight=class_weights, shuffle=True)\n",
        "#classifier.fit(losses_train, y_train, batch_size=50, epochs=5, shuffle=True)\n",
        "predictions = classifier.predict(losses_train)"
      ],
      "execution_count": 0,
      "outputs": []
    },
    {
      "cell_type": "markdown",
      "metadata": {
        "id": "eJtQzUuH3cEr",
        "colab_type": "text"
      },
      "source": [
        "#### Predict novelties"
      ]
    },
    {
      "cell_type": "code",
      "metadata": {
        "id": "lTbH9MihsPcH",
        "colab_type": "code",
        "colab": {}
      },
      "source": [
        "def check_results(typical_images, novel_images, loss_function, threshold):\n",
        "  dataset = setup_dataset(novel_images.astype('float32'))\n",
        "  losses = loss_function(CVAE_25, dataset)\n",
        "  dataset = setup_dataset(typical_images.astype('float32'))\n",
        "  losses = np.append(losses, loss_function(CVAE_25, dataset))\n",
        "\n",
        "  y_true = np.zeros([len(losses),])\n",
        "  y_true[0:32] = 1\n",
        "  y_predicted = np.zeros([len(losses),])\n",
        "  y_predicted[np.where(losses>threshold)] = 1\n",
        "\n",
        "  table_of_counts = np.zeros([2,2])\n",
        "  for i in range(len(losses),):\n",
        "    if y_true[i] == 0:\n",
        "      if y_predicted[i] == 0:\n",
        "        table_of_counts[0,0] += 1\n",
        "      else: table_of_counts[0,1] += 1\n",
        "    if y_true[i] == 1:\n",
        "      if y_predicted[i] == 0:\n",
        "        table_of_counts[1,0] += 1\n",
        "      else: table_of_counts[1,1] += 1\n",
        "\n",
        "  true_positive = table_of_counts[1,1]\n",
        "  false_positive = table_of_counts[0,1]\n",
        "  true_negative = table_of_counts[0,0]\n",
        "  false_negative = table_of_counts[1,0]\n",
        "\n",
        "  accuracy = (true_positive+true_negative)/len(losses)\n",
        "  avg_accuracy = np.mean([true_positive/(true_positive+false_negative),true_negative/(true_negative+false_positive)])\n",
        "\n",
        "  return table_of_counts, accuracy, avg_accuracy"
      ],
      "execution_count": 0,
      "outputs": []
    },
    {
      "cell_type": "code",
      "metadata": {
        "id": "42gTTCQexxk6",
        "colab_type": "code",
        "colab": {}
      },
      "source": [
        "table_of_counts_dict = dict([])\n",
        "accuracy_dict = dict([])\n",
        "avg_accuracy_dict = dict([])\n",
        "for i in [1,2,3,4,5,6,11,12,13,14]:\n",
        "  table_of_counts_dict[i], accuracy_dict[i], avg_accuracy_dict[i] = check_results(typical_images[98700:98800], novel_images[300:332], Loss_functions_dict[i], threshold_avg_dict[i])\n"
      ],
      "execution_count": 0,
      "outputs": []
    },
    {
      "cell_type": "code",
      "metadata": {
        "id": "b3_XH7RUyJUu",
        "colab_type": "code",
        "colab": {
          "base_uri": "https://localhost:8080/",
          "height": 359
        },
        "outputId": "220ee473-24cf-4908-8077-95e0fa3f5f1a"
      },
      "source": [
        "result_table = np.empty([10,7])\n",
        "index = ['_']*10\n",
        "j = 0\n",
        "for i in [1,2,3,4,5,6,11,12,13,14]:\n",
        "  result_table[j,0] = \"{0:.2f}\".format(accuracy_dict[i]*100)\n",
        "  result_table[j,1] = \"{0:.2f}\".format(avg_accuracy_dict[i]*100)\n",
        "  result_table[j,2] = table_of_counts_dict[i][1,1].astype('int')\n",
        "  result_table[j,3] = table_of_counts_dict[i][0,1].astype('int')\n",
        "  result_table[j,4] = table_of_counts_dict[i][0,0].astype('int')\n",
        "  result_table[j,5] = table_of_counts_dict[i][1,0].astype('int')\n",
        "  result_table[j,6] = \"{0:.2f}\".format(auc_dict[i]*100)\n",
        "  index[j] = 'Loss_'+str(i)\n",
        "  j +=1\n",
        "df = pd.DataFrame(result_table, index=index, columns = ['Accuracy', 'Avg_accuracy', 'True Pos.', 'False Pos.', 'True neg.', 'False Neg.', 'AUC',])\n",
        "df.astype(str).replace('\\.0', '', regex=True)"
      ],
      "execution_count": 42,
      "outputs": [
        {
          "output_type": "execute_result",
          "data": {
            "text/html": [
              "<div>\n",
              "<style scoped>\n",
              "    .dataframe tbody tr th:only-of-type {\n",
              "        vertical-align: middle;\n",
              "    }\n",
              "\n",
              "    .dataframe tbody tr th {\n",
              "        vertical-align: top;\n",
              "    }\n",
              "\n",
              "    .dataframe thead th {\n",
              "        text-align: right;\n",
              "    }\n",
              "</style>\n",
              "<table border=\"1\" class=\"dataframe\">\n",
              "  <thead>\n",
              "    <tr style=\"text-align: right;\">\n",
              "      <th></th>\n",
              "      <th>Accuracy</th>\n",
              "      <th>Avg_accuracy</th>\n",
              "      <th>True Pos.</th>\n",
              "      <th>False Pos.</th>\n",
              "      <th>True neg.</th>\n",
              "      <th>False Neg.</th>\n",
              "      <th>AUC</th>\n",
              "    </tr>\n",
              "  </thead>\n",
              "  <tbody>\n",
              "    <tr>\n",
              "      <th>Loss_1</th>\n",
              "      <td>68.94</td>\n",
              "      <td>57.19</td>\n",
              "      <td>11</td>\n",
              "      <td>20</td>\n",
              "      <td>80</td>\n",
              "      <td>21</td>\n",
              "      <td>51.64</td>\n",
              "    </tr>\n",
              "    <tr>\n",
              "      <th>Loss_2</th>\n",
              "      <td>65.15</td>\n",
              "      <td>58.94</td>\n",
              "      <td>15</td>\n",
              "      <td>29</td>\n",
              "      <td>71</td>\n",
              "      <td>17</td>\n",
              "      <td>51.62</td>\n",
              "    </tr>\n",
              "    <tr>\n",
              "      <th>Loss_3</th>\n",
              "      <td>69.7</td>\n",
              "      <td>57.69</td>\n",
              "      <td>11</td>\n",
              "      <td>19</td>\n",
              "      <td>81</td>\n",
              "      <td>21</td>\n",
              "      <td>51.54</td>\n",
              "    </tr>\n",
              "    <tr>\n",
              "      <th>Loss_4</th>\n",
              "      <td>71.97</td>\n",
              "      <td>60.25</td>\n",
              "      <td>12</td>\n",
              "      <td>17</td>\n",
              "      <td>83</td>\n",
              "      <td>20</td>\n",
              "      <td>52</td>\n",
              "    </tr>\n",
              "    <tr>\n",
              "      <th>Loss_5</th>\n",
              "      <td>71.97</td>\n",
              "      <td>60.25</td>\n",
              "      <td>12</td>\n",
              "      <td>17</td>\n",
              "      <td>83</td>\n",
              "      <td>20</td>\n",
              "      <td>51.99</td>\n",
              "    </tr>\n",
              "    <tr>\n",
              "      <th>Loss_6</th>\n",
              "      <td>71.97</td>\n",
              "      <td>60.25</td>\n",
              "      <td>12</td>\n",
              "      <td>17</td>\n",
              "      <td>83</td>\n",
              "      <td>20</td>\n",
              "      <td>51.89</td>\n",
              "    </tr>\n",
              "    <tr>\n",
              "      <th>Loss_11</th>\n",
              "      <td>72.73</td>\n",
              "      <td>60.75</td>\n",
              "      <td>12</td>\n",
              "      <td>16</td>\n",
              "      <td>84</td>\n",
              "      <td>20</td>\n",
              "      <td>51.73</td>\n",
              "    </tr>\n",
              "    <tr>\n",
              "      <th>Loss_12</th>\n",
              "      <td>71.97</td>\n",
              "      <td>60.25</td>\n",
              "      <td>12</td>\n",
              "      <td>17</td>\n",
              "      <td>83</td>\n",
              "      <td>20</td>\n",
              "      <td>51.73</td>\n",
              "    </tr>\n",
              "    <tr>\n",
              "      <th>Loss_13</th>\n",
              "      <td>71.97</td>\n",
              "      <td>60.25</td>\n",
              "      <td>12</td>\n",
              "      <td>17</td>\n",
              "      <td>83</td>\n",
              "      <td>20</td>\n",
              "      <td>51.58</td>\n",
              "    </tr>\n",
              "    <tr>\n",
              "      <th>Loss_14</th>\n",
              "      <td>58.33</td>\n",
              "      <td>71.44</td>\n",
              "      <td>31</td>\n",
              "      <td>54</td>\n",
              "      <td>46</td>\n",
              "      <td>1</td>\n",
              "      <td>72.19</td>\n",
              "    </tr>\n",
              "  </tbody>\n",
              "</table>\n",
              "</div>"
            ],
            "text/plain": [
              "        Accuracy Avg_accuracy True Pos. False Pos. True neg. False Neg.    AUC\n",
              "Loss_1     68.94        57.19        11         20        80         21  51.64\n",
              "Loss_2     65.15        58.94        15         29        71         17  51.62\n",
              "Loss_3      69.7        57.69        11         19        81         21  51.54\n",
              "Loss_4     71.97        60.25        12         17        83         20     52\n",
              "Loss_5     71.97        60.25        12         17        83         20  51.99\n",
              "Loss_6     71.97        60.25        12         17        83         20  51.89\n",
              "Loss_11    72.73        60.75        12         16        84         20  51.73\n",
              "Loss_12    71.97        60.25        12         17        83         20  51.73\n",
              "Loss_13    71.97        60.25        12         17        83         20  51.58\n",
              "Loss_14    58.33        71.44        31         54        46          1  72.19"
            ]
          },
          "metadata": {
            "tags": []
          },
          "execution_count": 42
        }
      ]
    },
    {
      "cell_type": "markdown",
      "metadata": {
        "id": "s48Mh7NxFJUO",
        "colab_type": "text"
      },
      "source": [
        "### Predict Novelties with NN"
      ]
    },
    {
      "cell_type": "markdown",
      "metadata": {
        "id": "vkLL9J_iFRNa",
        "colab_type": "text"
      },
      "source": [
        "#### Calculate novelty images"
      ]
    },
    {
      "cell_type": "markdown",
      "metadata": {
        "id": "tq9fxavxFf3H",
        "colab_type": "text"
      },
      "source": [
        "Loss_1 = Deterministic reconstruction error\n",
        "\n",
        "Loss_2 = Encoder-stochastic reconstruction error average\n",
        "\n",
        "Loss_3 = Encoder-stochastic reconstruction error minimum\n",
        "\n",
        "Loss_4 = Deterministic reconstruction likelihood\n",
        "\n",
        "Loss_5 = Encoder-stochastic reconstruction likelihood average\n",
        "\n",
        "Loss_6 = Encoder-stochastic reconstruction likelihood minimum\n",
        "\n",
        "Loss_7 = Fully deterministic distance-based reconstruction error\n",
        "\n",
        "Loss_8 = Test deterministic distance-based reconstruction error\n",
        "\n",
        "Loss_9 = Train deterministic distance-based reconstruction error\n",
        "\n",
        "Loss_10 = Bhattacharyya distance of deterministic reconstruction likelihood\n",
        "\n",
        "Loss_11 = ELBO\n",
        "\n",
        "Loss_12 = ELBO average\n",
        "\n",
        "Loss_13 = ELBO minimum\n",
        "\n",
        "Loss_14 = KL Divergence\n",
        "\n",
        "Loss_15 = Euclidean distance between means of the distributions\n",
        "\n",
        "Loss_16 = Bhattacharyya distance between distributions\n",
        "\n",
        "Loss_17 = Density latent space "
      ]
    },
    {
      "cell_type": "code",
      "metadata": {
        "id": "5D6ZApOeFrQN",
        "colab_type": "code",
        "colab": {}
      },
      "source": [
        "def Loss_1_img(model, x):\n",
        "  losses_per_image = np.empty((0, 32, 32))\n",
        "  for images in x:\n",
        "    z_mean, z_logvar = model.encode(images)\n",
        "    pixel_prob = model.decode(z_mean)\n",
        "    pixel_squared = np.square(pixel_prob - images)\n",
        "    pixel_squared = tf.compat.v1.image.resize(pixel_squared, (32, 32))\n",
        "    pixel_squared = tf.reduce_sum(pixel_squared, axis=[3])\n",
        "    losses_per_image = np.append(losses_per_image, pixel_squared, axis=0)\n",
        "  return losses_per_image\n",
        "\n",
        "def Loss_2(model, x):\n",
        "  losses_per_image = []\n",
        "  for images in x:\n",
        "    z_mean, z_logvar = model.encode(images)\n",
        "    avg = np.empty([50, len(images)])\n",
        "    for j in range(50):\n",
        "      z = model.reparameterize(z_mean, z_logvar)\n",
        "      pixel_prob = model.decode(z)\n",
        "      pixel_squared = np.square(pixel_prob - images)\n",
        "      pixel_squared = tf.reduce_sum(pixel_squared, axis=[1,2,3])\n",
        "      avg[j,:] = pixel_squared\n",
        "    losses_per_image = np.append(losses_per_image, np.mean(avg, axis=0))\n",
        "  return losses_per_image\n",
        "\n",
        "def Loss_3(model, x):\n",
        "  losses_per_image = []\n",
        "  for images in x:\n",
        "    z_mean, z_logvar = model.encode(images)\n",
        "    avg = np.empty([50, len(images)])\n",
        "    for j in range(50):\n",
        "      z = model.reparameterize(z_mean, z_logvar)\n",
        "      pixel_prob = model.decode(z)\n",
        "      pixel_squared = np.square(pixel_prob - images)\n",
        "      pixel_squared = tf.reduce_sum(pixel_squared, axis=[1,2,3])\n",
        "      avg[j,:] = pixel_squared\n",
        "    losses_per_image = np.append(losses_per_image, np.min(avg, axis=0))\n",
        "  return losses_per_image\n",
        "\n",
        "def Loss_4(model, x):\n",
        "  losses_per_image = []\n",
        "  for images in x:\n",
        "    z_mean, z_logvar = model.encode(images)\n",
        "    pixel_prob = model.decode(z_mean)\n",
        "    logpx_z_pixels = tf.math.log(pixel_prob + 1e-10)*images + tf.math.log(1-pixel_prob + 1e-10)*(1-images)\n",
        "    logpx_z_images = -tf.reduce_sum(logpx_z_pixels, axis=[1, 2, 3])\n",
        "    losses_per_image = np.append(losses_per_image, logpx_z_images)\n",
        "  return losses_per_image\n",
        "\n",
        "def Loss_5(model, x):\n",
        "  losses_per_image = []\n",
        "  for images in x:\n",
        "    z_mean, z_logvar = model.encode(images)\n",
        "    avg = np.empty([50, len(images)])\n",
        "    for j in range(50):\n",
        "      z = model.reparameterize(z_mean, z_logvar)\n",
        "      pixel_prob = model.decode(z)\n",
        "      logpx_z_pixels = tf.math.log(pixel_prob + 1e-10)*images + tf.math.log(1-pixel_prob + 1e-10)*(1-images)\n",
        "      logpx_z_images = -tf.reduce_sum(logpx_z_pixels, axis=[1, 2, 3])\n",
        "      avg[j,:] = logpx_z_images\n",
        "    losses_per_image = np.append(losses_per_image, np.mean(avg, axis=0))\n",
        "  return losses_per_image\n",
        "\n",
        "def Loss_6(model, x):\n",
        "  losses_per_image = []\n",
        "  for images in x:\n",
        "    z_mean, z_logvar = model.encode(images)\n",
        "    avg = np.empty([50, len(images)])\n",
        "    for j in range(50):\n",
        "      z = model.reparameterize(z_mean, z_logvar)\n",
        "      pixel_prob = model.decode(z)\n",
        "      logpx_z_pixels = tf.math.log(pixel_prob + 1e-10)*images + tf.math.log(1-pixel_prob + 1e-10)*(1-images)\n",
        "      logpx_z_images = -tf.reduce_sum(logpx_z_pixels, axis=[1, 2, 3])\n",
        "      avg[j,:] = logpx_z_images\n",
        "    losses_per_image = np.append(losses_per_image, np.min(avg, axis=0))\n",
        "  return losses_per_image\n",
        "\n",
        "def Loss_7(model, x_train, x_test):\n",
        "  losses_per_image = []\n",
        "  pixel_prob_per_image_train = []\n",
        "  pixel_prob_per_image_test = []\n",
        "  a = 0; b = 0\n",
        "  for images in x_train:\n",
        "    z_mean, z_logvar = model.encode(images)\n",
        "    pixel_prob = model.decode(z_mean)\n",
        "    if a != 0: pixel_prob_per_image_train = np.append(pixel_prob_per_image_train, pixel_prob, axis=0)\n",
        "    else: pixel_prob_per_image_train = pixel_prob; a = 1\n",
        "  for images in x_test:\n",
        "    z_mean, z_logvar = model.encode(images)\n",
        "    pixel_prob = model.decode(z_mean)\n",
        "    if b != 0: pixel_prob_per_image_test = np.append(pixel_prob_per_image_test, pixel_prob, axis=0)\n",
        "    else: pixel_prob_per_image_test = pixel_prob; b = 1  \n",
        "  num = len(pixel_prob_per_image_test)\n",
        "  for i in range(num):\n",
        "    if not i%100: clear_output(); print('Progress Loss_7:{}%'.format(100*(i)/num))\n",
        "    temporary = np.abs(pixel_prob_per_image_test[i] - pixel_prob_per_image_train)\n",
        "    temporary = tf.reduce_sum(temporary, axis=[1,2,3])\n",
        "    losses_per_image = np.append(losses_per_image, np.min(temporary))\n",
        "  return losses_per_image\n",
        "\n",
        "def Loss_8(model, x_train, x_test):\n",
        "  losses_per_image = []\n",
        "  image_train = []\n",
        "  pixel_prob_per_image_test = []\n",
        "  a = 0; b = 0\n",
        "  for images in x_train:\n",
        "    if a != 0: image_train = np.append(image_train, images, axis=0)\n",
        "    else: image_train = images; a = 1\n",
        "  for images in x_test:\n",
        "    z_mean, z_logvar = model.encode(images)\n",
        "    pixel_prob = model.decode(z_mean)\n",
        "    if b != 0: pixel_prob_per_image_test = np.append(pixel_prob_per_image_test, pixel_prob, axis=0)\n",
        "    else: pixel_prob_per_image_test = pixel_prob; b = 1  \n",
        "  num = len(pixel_prob_per_image_test)\n",
        "  for i in range(num):\n",
        "    if not i%100: clear_output(); print('Progress Loss_9:{}%'.format(100*(i)/num))\n",
        "    temporary = np.abs(pixel_prob_per_image_test[i] - image_train)\n",
        "    temporary = tf.reduce_sum(temporary, axis=[1,2,3])\n",
        "    losses_per_image = np.append(losses_per_image, np.min(temporary))\n",
        "  return losses_per_image\n",
        "\n",
        "def Loss_9(model, x_train, x_test):\n",
        "  losses_per_image = []\n",
        "  pixel_prob_per_image_train = []\n",
        "  image_test = []\n",
        "  a = 0; b = 0\n",
        "  for images in x_train:\n",
        "    z_mean, z_logvar = model.encode(images)\n",
        "    pixel_prob = model.decode(z_mean)\n",
        "    if a != 0: pixel_prob_per_image_train = np.append(pixel_prob_per_image_train, pixel_prob, axis=0)\n",
        "    else: pixel_prob_per_image_train = pixel_prob; a = 1\n",
        "  for images in x_test:\n",
        "    z_mean, z_logvar = model.encode(images)\n",
        "    pixel_prob = model.decode(z_mean)\n",
        "    if b != 0: image_test = np.append(image_test, images, axis=0)\n",
        "    else: image_test = images; b = 1  \n",
        "  num = len(image_test)\n",
        "  for i in range(num):\n",
        "    if not i%100: clear_output(); print('Progress Loss_10:{}%'.format(100*(i)/num))\n",
        "    temporary = np.abs(image_test[i] - pixel_prob_per_image_train)\n",
        "    temporary = tf.reduce_sum(temporary, axis=[1,2,3])\n",
        "    losses_per_image = np.append(losses_per_image, np.min(temporary))\n",
        "  return losses_per_image\n",
        "\n",
        "def Loss_10(model, x_train, x_test):\n",
        "  losses_per_image = []\n",
        "  pixel_prob_per_image_train = []\n",
        "  pixel_prob_per_image_test = []\n",
        "  a = 0; b = 0\n",
        "  for images in x_train:\n",
        "    z_mean, z_logvar = model.encode(images)\n",
        "    pixel_prob = model.decode(z_mean)\n",
        "    if a != 0: pixel_prob_per_image_train = np.append(pixel_prob_per_image_train, pixel_prob, axis=0)\n",
        "    else: pixel_prob_per_image_train = pixel_prob; a = 1\n",
        "  for images in x_test:\n",
        "    z_mean, z_logvar = model.encode(images)\n",
        "    pixel_prob = model.decode(z_mean)\n",
        "    if b != 0: pixel_prob_per_image_test = np.append(pixel_prob_per_image_test, pixel_prob, axis=0)\n",
        "    else: pixel_prob_per_image_test = pixel_prob; b = 1  \n",
        "  num = len(pixel_prob_per_image_test)\n",
        "  for i in range(num):\n",
        "    if not i%100: clear_output(); print('Progress Loss_8:{}%'.format(100*(i)/num))\n",
        "    temporary = np.sqrt(np.multiply(1-pixel_prob_per_image_test[i],np.subtract(1,pixel_prob_per_image_train)))+np.sqrt(np.multiply(pixel_prob_per_image_test[i],pixel_prob_per_image_train))\n",
        "    temporary = np.log(temporary)\n",
        "    temporary = tf.reduce_sum(temporary, axis=[1,2,3])\n",
        "    losses_per_image = np.append(losses_per_image, np.min(temporary))\n",
        "  return losses_per_image\n",
        "\n",
        "def Loss_11(model, x):\n",
        "  losses_per_image = Loss_4(model, x)-Loss_14(model, x)\n",
        "  return losses_per_image\n",
        "\n",
        "def Loss_12(model, x):\n",
        "  losses_per_image = Loss_5(model, x)-Loss_14(model, x)\n",
        "  return losses_per_image\n",
        "\n",
        "def Loss_13(model, x):\n",
        "  losses_per_image = Loss_6(model, x)-Loss_14(model, x)\n",
        "  return losses_per_image\n",
        "\n",
        "def Loss_14(model, x):\n",
        "  losses_per_image = []\n",
        "  for images in x:\n",
        "    z_mean, z_logvar = model.encode(images)\n",
        "    KL_parameters = 0.5 * (1 + z_logvar - (z_mean ** 2.0) - tf.exp(z_logvar))\n",
        "    KL_vectors = tf.reduce_sum(KL_parameters, axis=1)\n",
        "    losses_per_image = np.append(losses_per_image, KL_vectors)\n",
        "  return losses_per_image\n",
        "\n",
        "def Loss_15(model, x_train, x_test):\n",
        "  losses_per_image = []\n",
        "  z_mean_per_image_train = []\n",
        "  z_mean_per_image_test = []\n",
        "  a = 0; b = 0\n",
        "  for images in x_train:\n",
        "    z_mean, z_logvar = model.encode(images)\n",
        "    if a != 0: z_mean_per_image_train = np.append(z_mean_per_image_train, z_mean, axis=0)\n",
        "    else: z_mean_per_image_train = z_mean; a = 1\n",
        "  for images in x_test:\n",
        "    z_mean, z_logvar = model.encode(images)\n",
        "    if b != 0: z_mean_per_image_test = np.append(z_mean_per_image_test, z_mean, axis=0)\n",
        "    else: z_mean_per_image_test = z_mean; b = 1 \n",
        "  num = len(z_mean_per_image_test)\n",
        "  for i in range(num):\n",
        "    if not i%500: clear_output(); print('Progress Loss_15:{}%'.format(100*(i)/num))\n",
        "    temporary = np.abs(z_mean_per_image_test[i] - z_mean_per_image_train)\n",
        "    temporary = tf.reduce_sum(temporary, axis=1)\n",
        "    losses_per_image = np.append(losses_per_image, np.min(temporary)) \n",
        "  return losses_per_image\n",
        "\n",
        "def Loss_16(model, x_train, x_test):\n",
        "  losses_per_image = []\n",
        "  z_mean_train = []; z_var_train = []\n",
        "  z_mean_test = []; z_var_test = []\n",
        "  a = 0; b = 0\n",
        "  for images in x_train:\n",
        "    z_mean, z_logvar = model.encode(images)\n",
        "    if a != 0: \n",
        "      z_mean_train = np.append(z_mean_train, z_mean, axis=0)\n",
        "      z_var_train = np.append(z_var_train, np.exp(z_logvar), axis=0)\n",
        "    else: \n",
        "      z_mean_train = z_mean\n",
        "      z_var_train = np.exp(z_logvar)\n",
        "      a = 1\n",
        "  for images in x_test:\n",
        "    z_mean, z_logvar = model.encode(images)\n",
        "    if b != 0: \n",
        "      z_mean_test = np.append(z_mean_test, z_mean, axis=0)\n",
        "      z_var_test = np.append(z_var_test, np.exp(z_logvar), axis=0)\n",
        "    else: \n",
        "      z_mean_test = z_mean\n",
        "      z_var_test = np.exp(z_logvar)\n",
        "      b = 1 \n",
        "  num = len(z_mean_test)\n",
        "  for i in range(num):\n",
        "    if not i%100: clear_output(); print('Progress Loss_16:{}%'.format(100*(i)/num))\n",
        "    temporary_1 = np.log(np.multiply(0.25, (np.add(np.divide(z_var_test[i], z_var_train), np.add(np.divide(z_var_train, z_var_test[i]),2)))))\n",
        "    temporary_2 = np.divide(np.square(np.subtract(z_mean_test[i], z_mean_train)), np.add(z_var_test[i], z_var_train))\n",
        "    temporary = np.multiply(0.25, temporary_1) + np.multiply(0.25, temporary_2)\n",
        "    losses_per_image = np.append(losses_per_image, np.min(np.sum(temporary)))\n",
        "  return losses_per_image\n",
        "\n",
        "def Loss_17(model, x_train, x_test):\n",
        "  losses_per_image = []\n",
        "  z_mean_train = []; z_var_train = []\n",
        "  z_mean_test = []\n",
        "  a = 0; b = 0\n",
        "  for images in x_train:\n",
        "    z_mean, z_logvar = model.encode(images)\n",
        "    if a != 0: \n",
        "      z_mean_train = np.append(z_mean_train, z_mean, axis=0)\n",
        "      z_var_train = np.append(z_var_train, np.exp(z_logvar), axis=0)\n",
        "    else: \n",
        "      z_mean_train = z_mean\n",
        "      z_var_train = np.exp(z_logvar)\n",
        "      a = 1\n",
        "  for images in x_test:\n",
        "    z_mean, z_logvar = model.encode(images)\n",
        "    if b != 0: z_mean_test = np.append(z_mean_test, z_mean, axis=0)\n",
        "    else: z_mean_test = z_mean; b = 1 \n",
        "  \n",
        "  num = len(z_mean_test)\n",
        "  for i in range(num):\n",
        "    if not i%100: clear_output(); print('Progress Loss_17:{}%'.format(100*(i)/num))\n",
        "    A = np.divide(0.39894, np.sqrt(z_var_train))\n",
        "    B1 = np.subtract(z_mean_test[i], z_mean_train)\n",
        "    B2 = np.sqrt(z_var_train)\n",
        "    B = np.multiply(-0.5, np.square(np.divide(B1,B2)))\n",
        "    temporary = np.multiply(A, np.exp(B))\n",
        "    temporary = np.mean(temporary)\n",
        "    losses_per_image = np.append(losses_per_image, temporary) \n",
        "  return -losses_per_image"
      ],
      "execution_count": 0,
      "outputs": []
    },
    {
      "cell_type": "code",
      "metadata": {
        "id": "xdedfRW6-eHX",
        "colab_type": "code",
        "colab": {
          "base_uri": "https://localhost:8080/",
          "height": 68
        },
        "outputId": "13da7aa6-c4d2-4d32-f409-3aa4b7daac50"
      },
      "source": [
        "losses_typical_img = dict([])\n",
        "losses_novel_img = dict([])\n",
        "\n",
        "for j in [1]:\n",
        "  start_time = time.time()\n",
        "  \n",
        "  losses_typical_img[j] = np.empty((0, 32, 32))\n",
        "  print('LOSS {} Pogress/20: '.format(j), end='')\n",
        "  for i in range(20):\n",
        "    print('{}, '.format(i+1), end='')\n",
        "    if i != 19: num = 5000\n",
        "    if i == 19: num = 3700\n",
        "    dataset = setup_dataset(typical_images[i*5000:i*5000+num].astype('float32'))\n",
        "    losses_typical_img[j] = np.append(losses_typical_img[j], Loss_1_img(CVAE_25, dataset), axis=0)\n",
        "\n",
        "  print('novel')\n",
        "  dataset = setup_dataset(novel_images[0:300].astype('float32'))\n",
        "  losses_novel_img[j] = Loss_1_img(CVAE_25, dataset)\n",
        "\n",
        "  print('LOSS {} Time ---> {} sec \\n'.format(j, time.time()-start_time))"
      ],
      "execution_count": 65,
      "outputs": [
        {
          "output_type": "stream",
          "text": [
            "LOSS 1 Pogress/20: 1, 2, 3, 4, 5, 6, 7, 8, 9, 10, 11, 12, 13, 14, 15, 16, 17, 18, 19, 20, novel\n",
            "LOSS 1 Time ---> 59.5670006275177 sec \n",
            "\n"
          ],
          "name": "stdout"
        }
      ]
    },
    {
      "cell_type": "code",
      "metadata": {
        "id": "u15Axevs_Btz",
        "colab_type": "code",
        "colab": {
          "base_uri": "https://localhost:8080/",
          "height": 51
        },
        "outputId": "5e4cac9c-d0c1-4337-8857-25a8475aa3e6"
      },
      "source": [
        "print(np.shape(losses_typical_img[1]))\n",
        "print(np.shape(losses_novel_img[1]))"
      ],
      "execution_count": 64,
      "outputs": [
        {
          "output_type": "stream",
          "text": [
            "(98700, 32, 32)\n",
            "(300, 32, 32)\n"
          ],
          "name": "stdout"
        }
      ]
    },
    {
      "cell_type": "code",
      "metadata": {
        "id": "V2PJ0ODsSzVM",
        "colab_type": "code",
        "colab": {}
      },
      "source": [
        ""
      ],
      "execution_count": 0,
      "outputs": []
    },
    {
      "cell_type": "code",
      "metadata": {
        "id": "OKzFqzC5_1K9",
        "colab_type": "code",
        "colab": {}
      },
      "source": [
        "model = keras.Sequential([\n",
        "    keras.layers.Flatten(input_shape=(32, 32)),\n",
        "    keras.layers.Dense(128, activation='relu'),\n",
        "    keras.layers.Dense(10, activation='softmax')\n",
        "])\n",
        "\n",
        "model.compile(optimizer='adam',\n",
        "              loss='sparse_categorical_crossentropy',\n",
        "              metrics=['accuracy'])\n",
        "\n",
        "train_images = np.append(losses_novel_img[1], losses_typical_img[1])\n",
        "train_labels = np.zeros([len(train_images),])\n",
        "train_labels[0:300] = 1\n",
        "\n",
        "class_weights = class_weight.compute_class_weight('balanced', np.unique(train_labels), train_labels)\n",
        "class_weights = dict(enumerate(class_weights))\n",
        "\n",
        "model.fit(train_images, train_labels, epochs=10)\n",
        "classifier.fit(train_images, train_labels, batch_size=50, epochs=5, class_weight=class_weights, shuffle=True)"
      ],
      "execution_count": 0,
      "outputs": []
    }
  ]
}