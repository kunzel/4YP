{
  "nbformat": 4,
  "nbformat_minor": 0,
  "metadata": {
    "accelerator": "GPU",
    "colab": {
      "name": "CVAE_MNIST_Numbers.ipynb",
      "provenance": [],
      "include_colab_link": true
    },
    "kernelspec": {
      "name": "python3",
      "display_name": "Python 3"
    },
    "language_info": {
      "codemirror_mode": {
        "name": "ipython",
        "version": 3
      },
      "file_extension": ".py",
      "mimetype": "text/x-python",
      "name": "python",
      "nbconvert_exporter": "python",
      "pygments_lexer": "ipython3",
      "version": "3.7.3"
    }
  },
  "cells": [
    {
      "cell_type": "markdown",
      "metadata": {
        "id": "view-in-github",
        "colab_type": "text"
      },
      "source": [
        "<a href=\"https://colab.research.google.com/github/lorenzosintini/4YP/blob/master/Models_v2/Conv_VAE_Novel_v2.ipynb\" target=\"_parent\"><img src=\"https://colab.research.google.com/assets/colab-badge.svg\" alt=\"Open In Colab\"/></a>"
      ]
    },
    {
      "cell_type": "markdown",
      "metadata": {
        "colab_type": "text",
        "id": "C8VH0HaF0eaI"
      },
      "source": [
        "#### Import Libraries"
      ]
    },
    {
      "cell_type": "code",
      "metadata": {
        "colab_type": "code",
        "id": "887mv3aj0eaL",
        "outputId": "14ce4de8-17bd-463b-994f-387161c9f761",
        "colab": {
          "base_uri": "https://localhost:8080/",
          "height": 139
        }
      },
      "source": [
        "try:\n",
        "    # %tensorflow_version only exists in Colab.\n",
        "    %tensorflow_version 2.x\n",
        "except Exception:\n",
        "    pass\n",
        "import tensorflow as tf\n",
        "\n",
        "import numpy as np\n",
        "import matplotlib.pyplot as plt\n",
        "import random\n",
        "import time\n",
        "import os\n",
        "import sys\n",
        "from IPython.display import clear_output\n",
        "import os\n",
        "import pandas as pd\n",
        "from sklearn.metrics import roc_curve\n",
        "tf.autograph.set_verbosity(0)\n",
        "from google.colab import drive\n",
        "drive.mount('/content/drive/')"
      ],
      "execution_count": 1,
      "outputs": [
        {
          "output_type": "stream",
          "text": [
            "TensorFlow 2.x selected.\n",
            "Go to this URL in a browser: https://accounts.google.com/o/oauth2/auth?client_id=947318989803-6bn6qk8qdgf4n4g3pfee6491hc0brc4i.apps.googleusercontent.com&redirect_uri=urn%3aietf%3awg%3aoauth%3a2.0%3aoob&response_type=code&scope=email%20https%3a%2f%2fwww.googleapis.com%2fauth%2fdocs.test%20https%3a%2f%2fwww.googleapis.com%2fauth%2fdrive%20https%3a%2f%2fwww.googleapis.com%2fauth%2fdrive.photos.readonly%20https%3a%2f%2fwww.googleapis.com%2fauth%2fpeopleapi.readonly\n",
            "\n",
            "Enter your authorization code:\n",
            "··········\n",
            "Mounted at /content/drive/\n"
          ],
          "name": "stdout"
        }
      ]
    },
    {
      "cell_type": "markdown",
      "metadata": {
        "colab_type": "text",
        "id": "sUEIvx3I0eaT"
      },
      "source": [
        "#### Import Data and plot it"
      ]
    },
    {
      "cell_type": "code",
      "metadata": {
        "colab_type": "code",
        "id": "tkekihPQ0eaU",
        "colab": {}
      },
      "source": [
        "def plot_images(x_train, y_train, figures_to_plot, pick_random=False, include_labels=True):\n",
        "    n_rows = np.ceil((figures_to_plot[1])/10)\n",
        "    plot = plt.figure(figsize=[20,2*n_rows])\n",
        "    for i in range(figures_to_plot[0],figures_to_plot[1]):\n",
        "        if pick_random: \n",
        "            pic_n = random.randint(0,len(x_train))\n",
        "        else: pic_n = i\n",
        "        plt.subplot(n_rows,10,i+1)\n",
        "        plt.xticks([]); plt.yticks([])\n",
        "        plt.imshow(x_train[pic_n], cmap=plt.cm.binary)\n",
        "        if include_labels:\n",
        "            plt.xlabel(y_train[pic_n])\n",
        "    plt.show()\n",
        "\n",
        "#plot_images(x_train, y_train, [0,10])"
      ],
      "execution_count": 0,
      "outputs": []
    },
    {
      "cell_type": "markdown",
      "metadata": {
        "colab_type": "text",
        "id": "lv1qfPcr0eaZ"
      },
      "source": [
        "#### Select data, pre-process it and create dataset"
      ]
    },
    {
      "cell_type": "code",
      "metadata": {
        "colab_type": "code",
        "id": "SXK5XnqV0eab",
        "colab": {}
      },
      "source": [
        "def pick_class(x, y, class_n):\n",
        "    pics = (y == class_n[0])\n",
        "    for i in range(len(class_n)-1):\n",
        "      pics = pics + (y == class_n[i+1])\n",
        "    new_x = x[pics]\n",
        "    new_y = y[pics]\n",
        "    return new_x, new_y\n",
        "\n",
        "def set_pixels_binary(images):\n",
        "    images = images/input_range\n",
        "    images[images >= 0.5] = 1.0\n",
        "    images[images < 0.5] = 0.0\n",
        "    return images\n",
        "\n",
        "def make_categorical(y):\n",
        "    y_cat = tf.keras.utils.to_categorical(y)\n",
        "    return y_cat\n",
        "\n",
        "def cut_data(data, data_number):\n",
        "    data = data[0:data_number]\n",
        "    return data\n",
        "\n",
        "def setup_dataset(x_train, y_train, x_test, y_test, chosen_classes=[0,1,2,3,4,5,6,7,8,9], data_number = -1):\n",
        "  x_train, y_train = pick_class(x_train, y_train, chosen_classes)\n",
        "  x_test, y_test = pick_class(x_test, y_test, chosen_classes)\n",
        "  \n",
        "  x_train = cut_data(x_train, data_number)\n",
        "  y_train = cut_data(y_train, data_number)\n",
        "\n",
        "  train_images = set_pixels_binary(x_train)\n",
        "  test_images = set_pixels_binary(x_test)\n",
        "\n",
        "  train_images = train_images.reshape(len(y_train), image_shape[0], image_shape[1], N_image_channels).astype('float32')\n",
        "  test_images = test_images.reshape(len(y_test), image_shape[0], image_shape[1], N_image_channels).astype('float32')\n",
        "\n",
        "  batch_size = 100\n",
        "  train_dataset = tf.data.Dataset.from_tensor_slices((train_images)).shuffle(len(y_train)).batch(batch_size)\n",
        "  test_dataset = tf.data.Dataset.from_tensor_slices((test_images)).shuffle(len(y_test)).batch(batch_size)\n",
        "  return x_train, y_train, x_test, y_test, train_dataset, test_dataset"
      ],
      "execution_count": 0,
      "outputs": []
    },
    {
      "cell_type": "markdown",
      "metadata": {
        "colab_type": "text",
        "id": "RXAUM1Hh0ea0"
      },
      "source": [
        "#### Create Variational Autoencoder (VAE) Model"
      ]
    },
    {
      "cell_type": "code",
      "metadata": {
        "colab_type": "code",
        "id": "oiLqehle0ea2",
        "colab": {}
      },
      "source": [
        "class CVAE(tf.keras.Model):\n",
        "    def __init__(self, z_size):\n",
        "        super(CVAE, self).__init__()\n",
        "        self.z_size = z_size\n",
        "        self.encoder_nn = tf.keras.models.Sequential([ \n",
        "                          tf.keras.layers.Conv2D(32, (3,3), activation='relu', input_shape=(28, 28, 1)),\n",
        "                          tf.keras.layers.Conv2D(64, (3,3), activation='relu'),\n",
        "                          tf.keras.layers.Flatten(),\n",
        "                          tf.keras.layers.Dense(z_size*2)\n",
        "                          ])\n",
        "\n",
        "        self.decoder_nn = tf.keras.models.Sequential([\n",
        "                          tf.keras.layers.Dense(units=24*24*64, activation='relu', input_shape=(z_size,)),\n",
        "                          tf.keras.layers.Reshape(target_shape=(24, 24, 64)),\n",
        "                          tf.keras.layers.Conv2DTranspose(32, (3,3), activation='relu'),\n",
        "                          tf.keras.layers.Conv2DTranspose(1, (3,3)),\n",
        "                          ])\n",
        "\n",
        "    def encode(self, x):\n",
        "        encoder_nn_output = self.encoder_nn(x)\n",
        "        z_mean, z_logvar = tf.split(encoder_nn_output, num_or_size_splits=2, axis=1)\n",
        "        return z_mean, z_logvar\n",
        "\n",
        "    def reparameterize(self, z_mean, z_logvar):\n",
        "        epsilon = tf.random.normal(shape=z_mean.shape)\n",
        "        z_sampled = epsilon * tf.exp(z_logvar * 0.5) + z_mean\n",
        "        return z_sampled    \n",
        "\n",
        "    def decode(self, z):\n",
        "        pixel_output = self.decoder_nn(z)\n",
        "        pixel_mean = tf.math.sigmoid(pixel_output)\n",
        "        return pixel_mean"
      ],
      "execution_count": 0,
      "outputs": []
    },
    {
      "cell_type": "markdown",
      "metadata": {
        "colab_type": "text",
        "id": "ruRl4I4K0ea8"
      },
      "source": [
        "#### Define the loss function "
      ]
    },
    {
      "cell_type": "code",
      "metadata": {
        "colab_type": "code",
        "id": "Y1QqvVSV0ea-",
        "colab": {}
      },
      "source": [
        "def calculate_KL(model, x):\n",
        "    z_mean, z_logvar = model.encode(x)\n",
        "    z = model.reparameterize(z_mean, z_logvar)\n",
        "    \n",
        "    KL_parameters = -0.5 * (1 + z_logvar - (z_mean ** 2.0) - tf.exp(z_logvar))\n",
        "    KL_vectors = tf.reduce_sum(KL_parameters, axis=1)\n",
        "    KL = tf.reduce_mean(KL_vectors)\n",
        "    return KL\n",
        "\n",
        "def calculate_logpx_z(model, x):\n",
        "    z_mean, z_logvar = model.encode(x)\n",
        "    z = model.reparameterize(z_mean, z_logvar)\n",
        "    pixel_prob = model.decode(z)\n",
        "    \n",
        "    logpx_z_pixels = tf.math.log(pixel_prob + 1e-10)*x + tf.math.log(1-pixel_prob + 1e-10)*(1-x)\n",
        "    logpx_z_images = tf.reduce_sum(logpx_z_pixels, axis=[1, 2, 3])\n",
        "    logpx_z = tf.reduce_mean (logpx_z_images)\n",
        "    return logpx_z\n",
        "\n",
        "def calculate_ELBO(model, x):\n",
        "    logpx_z = calculate_logpx_z(model, x)\n",
        "    KL = calculate_KL(model, x)\n",
        "    \n",
        "    ELBO = logpx_z - KL \n",
        "    return -ELBO #Negative because we want to maximise it"
      ],
      "execution_count": 0,
      "outputs": []
    },
    {
      "cell_type": "code",
      "metadata": {
        "id": "v-uLxJpldXo_",
        "colab_type": "code",
        "colab": {}
      },
      "source": [
        "def calculate_pixel_squared(model, x):\n",
        "    z_mean, z_logvar = model.encode(x)\n",
        "    pixel_prob = model.decode(z_mean)\n",
        "    pixel_squared = np.square(pixel_prob - x)\n",
        "    pixel_squared = tf.reduce_sum(pixel_squared, axis=[1,2,3])\n",
        "    pixel_squared = tf.reduce_mean (pixel_squared)\n",
        "    return pixel_squared"
      ],
      "execution_count": 0,
      "outputs": []
    },
    {
      "cell_type": "code",
      "metadata": {
        "id": "toxPmTwwy0TE",
        "colab_type": "code",
        "colab": {}
      },
      "source": [
        "def calculate_ssim(model, x):\n",
        "  z_mean, z_logvar = model.encode(x)\n",
        "  z = model.reparameterize(z_mean, z_logvar)\n",
        "  y = model.decode(z)\n",
        "\n",
        "  x = tf.convert_to_tensor(x)\n",
        "  y = tf.convert_to_tensor(y)\n",
        "  ssim = tf.image.ssim(x[:,:,:,:],y[:,:,:,:], input_range, filter_size=11,filter_sigma=0.1,k1=0.1,k2=0.01)\n",
        "  ssim = tf.reduce_mean(ssim)\n",
        "  return (1-ssim)*1000"
      ],
      "execution_count": 0,
      "outputs": []
    },
    {
      "cell_type": "markdown",
      "metadata": {
        "colab_type": "text",
        "id": "vLIG3YRm0ebE"
      },
      "source": [
        "#### Define the optimizer"
      ]
    },
    {
      "cell_type": "code",
      "metadata": {
        "colab_type": "code",
        "id": "n5eaPpso0ebG",
        "colab": {}
      },
      "source": [
        "optimizer = tf.keras.optimizers.Adam(learning_rate = 0.00005)"
      ],
      "execution_count": 0,
      "outputs": []
    },
    {
      "cell_type": "markdown",
      "metadata": {
        "colab_type": "text",
        "id": "NvoBcADVjvek"
      },
      "source": [
        "#### Define loss metrics"
      ]
    },
    {
      "cell_type": "code",
      "metadata": {
        "colab_type": "code",
        "id": "DhYcUUvYjven",
        "colab": {}
      },
      "source": [
        "train_loss = tf.keras.metrics.Mean(name='train_loss')\n",
        "test_loss = tf.keras.metrics.Mean(name='test_loss')"
      ],
      "execution_count": 0,
      "outputs": []
    },
    {
      "cell_type": "markdown",
      "metadata": {
        "colab_type": "text",
        "id": "VngH-amb0ebM"
      },
      "source": [
        "#### Define train and test steps"
      ]
    },
    {
      "cell_type": "code",
      "metadata": {
        "colab_type": "code",
        "id": "dNN76Ed_0ebO",
        "colab": {}
      },
      "source": [
        "def train_step(model, x, optimizer):\n",
        "    with tf.GradientTape() as tape:\n",
        "        loss = calculate_ELBO(model, x)\n",
        "        gradients = tape.gradient(loss, model.trainable_variables)\n",
        "        optimizer.apply_gradients(zip(gradients, model.trainable_variables))\n",
        "        train_loss(loss)\n",
        "\n",
        "def test_step(model, x, optimizer):\n",
        "    loss = calculate_ELBO(model, x)\n",
        "    test_loss(loss)"
      ],
      "execution_count": 0,
      "outputs": []
    },
    {
      "cell_type": "markdown",
      "metadata": {
        "id": "Q6eTvDNOZGjW",
        "colab_type": "text"
      },
      "source": [
        "#### Generate random image from latent vector"
      ]
    },
    {
      "cell_type": "code",
      "metadata": {
        "colab_type": "code",
        "id": "JUG20q7J0ebW",
        "colab": {}
      },
      "source": [
        "def generate_images(model, z_random, figures_to_plot):\n",
        "    generated_prob = model.decode(z_random)\n",
        "    generated_prob = np.squeeze(generated_prob, axis=3)\n",
        "    plot_images(generated_prob, _, figures_to_plot, include_labels=False)"
      ],
      "execution_count": 0,
      "outputs": []
    },
    {
      "cell_type": "code",
      "metadata": {
        "id": "SprYQb15_4ta",
        "colab_type": "code",
        "colab": {}
      },
      "source": [
        "def train_test_dataset(model, train_dataset, test_dataset, epochs, generate=True):\n",
        "  plots_per_epoch = 10\n",
        "  z_random = tf.random.normal(shape=[plots_per_epoch, z_size])\n",
        "  \n",
        "  test_ELBO = []\n",
        "  train_ELBO = []\n",
        "  epoch_number = []  \n",
        "  for epoch in range(epochs):\n",
        "    print('Epoch {}'.format(epoch))\n",
        "    for train_x in train_dataset: \n",
        "      train_step(model, train_x, optimizer)\n",
        "  \n",
        "    for test_x in test_dataset:\n",
        "      test_step(model, test_x, optimizer)\n",
        "    \n",
        "    test_ELBO.append(-test_loss.result())\n",
        "    train_ELBO.append(-train_loss.result())\n",
        "    epoch_number.append(epoch)\n",
        "    \n",
        "    clear_output()\n",
        "    if generate:\n",
        "      generate_images(model, z_random, [0,plots_per_epoch])\n",
        "    plt.plot(epoch_number, test_ELBO, train_ELBO)\n",
        "    plt.legend(['test','train'])\n",
        "    plt.title('model')\n",
        "    plt.show()\n",
        "  train_loss.reset_states()\n",
        "  test_loss.reset_states()"
      ],
      "execution_count": 0,
      "outputs": []
    },
    {
      "cell_type": "markdown",
      "metadata": {
        "colab_type": "text",
        "id": "b4MLsF1E0ebZ"
      },
      "source": [
        "#### Train the data"
      ]
    },
    {
      "cell_type": "code",
      "metadata": {
        "id": "Y_uvcaHy-Zcf",
        "colab_type": "code",
        "colab": {}
      },
      "source": [
        "def change_ratio(x, y, chosen_classes, chosen_numbers):\n",
        "    x_new = np.zeros([0,image_shape[0], image_shape[1]])\n",
        "    y_new = np.zeros([0])\n",
        "    n_classes = len(chosen_classes)\n",
        "    for i in range (n_classes):\n",
        "        x_class, y_class = pick_class(x, y, [chosen_classes[i]])\n",
        "        x_class = cut_data(x_class, chosen_numbers[i])\n",
        "        y_class = cut_data(y_class, chosen_numbers[i])\n",
        "        x_new = np.concatenate((x_new, x_class))\n",
        "        y_new = np.concatenate((y_new, y_class))\n",
        "    return x_new, y_new"
      ],
      "execution_count": 0,
      "outputs": []
    },
    {
      "cell_type": "code",
      "metadata": {
        "id": "8_cbixyTqI40",
        "colab_type": "code",
        "colab": {
          "base_uri": "https://localhost:8080/",
          "height": 153
        },
        "outputId": "c200119c-c074-4b57-eab2-a89b6d7ce617"
      },
      "source": [
        "mnist = tf.keras.datasets.mnist\n",
        "fashion_mnist = tf.keras.datasets.fashion_mnist\n",
        "(x_train, y_train), (x_test, y_test) = fashion_mnist.load_data()\n",
        "\n",
        "class_names = ['Zero','One', 'Two', 'Three', 'Four', 'Five','Six', 'Seven', 'Eight', 'Nine']\n",
        "N_image_channels = 1\n",
        "N_class = len(class_names)\n",
        "image_shape = x_train.shape[1:3]\n",
        "input_range = np.amax(x_train)\n",
        "\n",
        "chosen_classes=[0,1,2,3,4,5,6,7,8,9]\n",
        "chosen_numbers = [2000, 2000, 2000, 2000, 2000, 2000, 2000, 2000, 2000, 2000]\n",
        "x_train, y_train = change_ratio(x_train, y_train, chosen_classes, chosen_numbers)\n",
        "chosen_numbers = [1000, 1000, 1000, 1000, 1000, 1000, 1000, 1000, 1000, 1000]\n",
        "x_test, y_test = change_ratio(x_test, y_test, chosen_classes, chosen_numbers)"
      ],
      "execution_count": 14,
      "outputs": [
        {
          "output_type": "stream",
          "text": [
            "Downloading data from https://storage.googleapis.com/tensorflow/tf-keras-datasets/train-labels-idx1-ubyte.gz\n",
            "32768/29515 [=================================] - 0s 0us/step\n",
            "Downloading data from https://storage.googleapis.com/tensorflow/tf-keras-datasets/train-images-idx3-ubyte.gz\n",
            "26427392/26421880 [==============================] - 1s 0us/step\n",
            "Downloading data from https://storage.googleapis.com/tensorflow/tf-keras-datasets/t10k-labels-idx1-ubyte.gz\n",
            "8192/5148 [===============================================] - 0s 0us/step\n",
            "Downloading data from https://storage.googleapis.com/tensorflow/tf-keras-datasets/t10k-images-idx3-ubyte.gz\n",
            "4423680/4422102 [==============================] - 0s 0us/step\n"
          ],
          "name": "stdout"
        }
      ]
    },
    {
      "cell_type": "code",
      "metadata": {
        "colab_type": "code",
        "id": "pi8CDE0g0eba",
        "outputId": "f47423ef-5cb6-47ce-ef3f-2a220f5e508a",
        "colab": {
          "base_uri": "https://localhost:8080/",
          "height": 393
        }
      },
      "source": [
        "x_train_0, y_train_0, x_test_0, y_test_0, train_dataset_0, test_dataset_0 = setup_dataset(x_train, y_train, x_test, y_test, chosen_classes=[0,1,2,3,4,5,6,7])\n",
        "\n",
        "\n",
        "z_size = 25\n",
        "model_nov = CVAE(z_size)\n",
        "\n",
        "train_test_dataset(model_nov, train_dataset_0, test_dataset_0, 40, generate=True)"
      ],
      "execution_count": 15,
      "outputs": [
        {
          "output_type": "display_data",
          "data": {
            "image/png": "[encoded data removed]",
            "text/plain": [
              "<Figure size 1440x144 with 10 Axes>"
            ]
          },
          "metadata": {
            "tags": []
          }
        },
        {
          "output_type": "display_data",
          "data": {
            "image/png": "[encoded data removed]",
            "text/plain": [
              "<Figure size 432x288 with 1 Axes>"
            ]
          },
          "metadata": {
            "tags": []
          }
        }
      ]
    },
    {
      "cell_type": "markdown",
      "metadata": {
        "id": "Pnr-d-OQZCI5",
        "colab_type": "text"
      },
      "source": [
        "#### Reconstruct images"
      ]
    },
    {
      "cell_type": "code",
      "metadata": {
        "colab_type": "code",
        "id": "jz0G3WmQD2vI",
        "outputId": "2402acb2-b6ee-481c-8a7f-ff7ba403b771",
        "colab": {
          "base_uri": "https://localhost:8080/",
          "height": 285
        }
      },
      "source": [
        "def reconstruct_images(model, images):\n",
        "    images_n = len(images)\n",
        "    x = images/input_range\n",
        "    x[x >= 0.5] = 1.0\n",
        "    x[x < 0.5] = 0.0\n",
        "    x = x.reshape(images_n, image_shape[0], image_shape[1], N_image_channels).astype('float32')\n",
        "    \n",
        "    z_mean, z_logvar = model.encode(x)\n",
        "    z = model.reparameterize(z_mean, z_logvar)\n",
        "    pixel_output = model.decode(z)\n",
        "    pixel_prob = tf.math.sigmoid(pixel_output)\n",
        "    pixel_prob = np.squeeze(pixel_prob, axis=3)\n",
        "\n",
        "    loss = np.empty([images_n])\n",
        "    for i in range(images_n):\n",
        "        loss[i] = calculate_ELBO(model,x[i:i+1])\n",
        "    loss = loss.astype('float16')\n",
        "    \n",
        "    print('Original Pictures:')\n",
        "    plot_images(images, _, figures_to_plot=[0,images_n], include_labels=False)\n",
        "    print('Reconstructed Pictures, with ELBO loss:')\n",
        "    plot_images(pixel_prob, -loss, figures_to_plot=[0,images_n], include_labels=True)\n",
        "\n",
        "reconstruct_images(model_nov, x_test[1000:1010])"
      ],
      "execution_count": 16,
      "outputs": [
        {
          "output_type": "stream",
          "text": [
            "Original Pictures:\n"
          ],
          "name": "stdout"
        },
        {
          "output_type": "display_data",
          "data": {
            "image/png": "[encoded data removed]",
            "text/plain": [
              "<Figure size 1440x144 with 10 Axes>"
            ]
          },
          "metadata": {
            "tags": []
          }
        },
        {
          "output_type": "stream",
          "text": [
            "Reconstructed Pictures, with ELBO loss:\n"
          ],
          "name": "stdout"
        },
        {
          "output_type": "display_data",
          "data": {
            "image/png": "[encoded data removed]",
            "text/plain": [
              "<Figure size 1440x144 with 10 Axes>"
            ]
          },
          "metadata": {
            "tags": []
          }
        }
      ]
    },
    {
      "cell_type": "markdown",
      "metadata": {
        "id": "8juDbid_YrGS",
        "colab_type": "text"
      },
      "source": [
        "#### Visualize the latent space"
      ]
    },
    {
      "cell_type": "code",
      "metadata": {
        "colab_type": "code",
        "id": "nOgW1CZIjvfG",
        "outputId": "feb293d8-98f4-441e-f9f8-9bb474ba374d",
        "colab": {
          "base_uri": "https://localhost:8080/",
          "height": 448
        }
      },
      "source": [
        "def visualize_latent_space(model, range1, range2, data_x, data_y, a, b):\n",
        "  plot = plt.figure(figsize=[7,7])\n",
        "  outliers=0\n",
        "  outlier = []\n",
        "  for i in range(range1, range2):\n",
        "    pic_visualize = data_x[i]\n",
        "    pic_visualize = pic_visualize.reshape(1, image_shape[0], image_shape[1], N_image_channels).astype('float32')\n",
        "    \n",
        "    z_mean, z_logvar = model.encode(pic_visualize)\n",
        "    z = model.reparameterize(z_mean, z_logvar)\n",
        "    \n",
        "    if any(z_logvar[:,i]>10 for i in range(z_size)):\n",
        "      outliers +=1\n",
        "      outlier.append(i)\n",
        "      continue\n",
        "      \n",
        "    if data_y[i] == 0:\n",
        "      color = 'blue'\n",
        "    if data_y[i] == 1:\n",
        "      color = 'orange'\n",
        "    if data_y[i] == 2:\n",
        "      color = 'green'\n",
        "    if data_y[i] == 3:\n",
        "      color = 'red'\n",
        "    if data_y[i] == 4:\n",
        "      color = 'purple'  \n",
        "    if data_y[i] == 5:\n",
        "      color = 'brown'\n",
        "    if data_y[i] == 6:\n",
        "      color = 'pink'\n",
        "    if data_y[i] == 7:\n",
        "      color = 'gray'\n",
        "    if data_y[i] == 8:\n",
        "      color = 'black'\n",
        "    if data_y[i] == 9:\n",
        "      color = 'yellow'\n",
        "    plt.scatter(z[:,a],z[:,b], color=color, s=10)\n",
        "  print('{} Outliers detected'.format(outliers))\n",
        "  return outlier\n",
        "\n",
        "outlier = visualize_latent_space(model_nov, 0, len(x_test_0), x_test_0, y_test_0, 0,1)"
      ],
      "execution_count": 17,
      "outputs": [
        {
          "output_type": "stream",
          "text": [
            "0 Outliers detected\n"
          ],
          "name": "stdout"
        },
        {
          "output_type": "display_data",
          "data": {
            "image/png": "[encoded data removed]",
            "text/plain": [
              "<Figure size 504x504 with 1 Axes>"
            ]
          },
          "metadata": {
            "tags": []
          }
        }
      ]
    },
    {
      "cell_type": "markdown",
      "metadata": {
        "id": "ohcKBv7HYyaS",
        "colab_type": "text"
      },
      "source": [
        "#### Check reconstruction performance for untrained classes and create table of losses\n"
      ]
    },
    {
      "cell_type": "code",
      "metadata": {
        "id": "tOUcblcZ4Djo",
        "colab_type": "code",
        "outputId": "29984bef-a625-4bd4-bb45-bd0ff45f1cde",
        "colab": {
          "base_uri": "https://localhost:8080/",
          "height": 1000
        }
      },
      "source": [
        "table_of_losses = np.zeros([N_class, 5])\n",
        "for i in range(1):\n",
        "  model = model_nov\n",
        "  #print('Model trained with class {}'.format(i))\n",
        "  plt.figure(1, figsize=[9,4])\n",
        "  plt.figure(2, figsize=[9,4])\n",
        "  plt.figure(3, figsize=[9,4])\n",
        "  plt.figure(4, figsize=[9,4])\n",
        "  plt.figure(5, figsize=[9,4])\n",
        "  for j in range(N_class):\n",
        "    test_images = x_train[(y_train==j)]\n",
        "    test_images = set_pixels_binary(test_images)\n",
        "    test_images = test_images.reshape(len(test_images), image_shape[0], image_shape[1], N_image_channels).astype('float32')\n",
        "    ELBO_loss = calculate_ELBO(model, test_images)\n",
        "    logpx_z_loss = calculate_logpx_z(model, test_images)\n",
        "    KL_loss = calculate_KL(model, test_images)\n",
        "    pixel_squared_loss = calculate_pixel_squared(model,test_images)\n",
        "    ssim_loss = calculate_ssim(model, test_images)\n",
        "    table_of_losses[j,0] = ELBO_loss\n",
        "    table_of_losses[j,1] = -logpx_z_loss\n",
        "    table_of_losses[j,2] = KL_loss\n",
        "    table_of_losses[j,3] = pixel_squared_loss\n",
        "    table_of_losses[j,4] = ssim_loss\n",
        "    if j==8 or j==9:\n",
        "      color='red'\n",
        "    else:\n",
        "      color='blue'\n",
        "    plt.figure(1)\n",
        "    plt.bar(j,ELBO_loss.numpy(),color=color)\n",
        "    plt.figure(2)\n",
        "    plt.bar(j,-logpx_z_loss.numpy(),color=color)\n",
        "    plt.figure(3)\n",
        "    plt.bar(j,KL_loss.numpy(),color=color)\n",
        "    plt.figure(4)\n",
        "    plt.bar(j,pixel_squared_loss.numpy(),color=color)\n",
        "    plt.figure(5)\n",
        "    plt.bar(j,ssim_loss.numpy(),color=color)\n",
        "\n",
        "#for i in range(N_class):\n",
        "#    table_of_losses[i,:] = table_of_losses[i,:]/np.min(table_of_losses[i,:])\n",
        " \n",
        "index = list(str('-') * N_class)\n",
        "columns = list(str('-') * (N_class))\n",
        "for i in range(N_class):\n",
        "    index[i]= 'Class '+ str(i)\n",
        "    columns[i] = 'Model ' + str(i)\n",
        "\n",
        "table_loss = pd.DataFrame.from_records(np.around(np.transpose(table_of_losses), decimals=2), index=['ELBO', 'Recon_likelihood', 'KL_divergence', 'Recon_error', 'SSIM'])\n",
        "table_loss\n"
      ],
      "execution_count": 0,
      "outputs": [
        {
          "output_type": "execute_result",
          "data": {
            "text/html": [
              "<div>\n",
              "<style scoped>\n",
              "    .dataframe tbody tr th:only-of-type {\n",
              "        vertical-align: middle;\n",
              "    }\n",
              "\n",
              "    .dataframe tbody tr th {\n",
              "        vertical-align: top;\n",
              "    }\n",
              "\n",
              "    .dataframe thead th {\n",
              "        text-align: right;\n",
              "    }\n",
              "</style>\n",
              "<table border=\"1\" class=\"dataframe\">\n",
              "  <thead>\n",
              "    <tr style=\"text-align: right;\">\n",
              "      <th></th>\n",
              "      <th>0</th>\n",
              "      <th>1</th>\n",
              "      <th>2</th>\n",
              "      <th>3</th>\n",
              "      <th>4</th>\n",
              "      <th>5</th>\n",
              "      <th>6</th>\n",
              "      <th>7</th>\n",
              "      <th>8</th>\n",
              "      <th>9</th>\n",
              "    </tr>\n",
              "  </thead>\n",
              "  <tbody>\n",
              "    <tr>\n",
              "      <th>ELBO</th>\n",
              "      <td>125.80</td>\n",
              "      <td>86.56</td>\n",
              "      <td>130.17</td>\n",
              "      <td>114.78</td>\n",
              "      <td>118.98</td>\n",
              "      <td>143.04</td>\n",
              "      <td>145.31</td>\n",
              "      <td>104.14</td>\n",
              "      <td>222.31</td>\n",
              "      <td>160.23</td>\n",
              "    </tr>\n",
              "    <tr>\n",
              "      <th>Recon_likelihood</th>\n",
              "      <td>94.72</td>\n",
              "      <td>58.31</td>\n",
              "      <td>97.26</td>\n",
              "      <td>86.21</td>\n",
              "      <td>88.23</td>\n",
              "      <td>112.05</td>\n",
              "      <td>114.25</td>\n",
              "      <td>77.90</td>\n",
              "      <td>181.00</td>\n",
              "      <td>117.34</td>\n",
              "    </tr>\n",
              "    <tr>\n",
              "      <th>KL_divergence</th>\n",
              "      <td>30.83</td>\n",
              "      <td>27.93</td>\n",
              "      <td>33.02</td>\n",
              "      <td>28.72</td>\n",
              "      <td>31.14</td>\n",
              "      <td>30.94</td>\n",
              "      <td>31.11</td>\n",
              "      <td>26.20</td>\n",
              "      <td>41.97</td>\n",
              "      <td>42.45</td>\n",
              "    </tr>\n",
              "    <tr>\n",
              "      <th>Recon_error</th>\n",
              "      <td>25.72</td>\n",
              "      <td>13.94</td>\n",
              "      <td>25.93</td>\n",
              "      <td>22.97</td>\n",
              "      <td>23.03</td>\n",
              "      <td>31.28</td>\n",
              "      <td>31.79</td>\n",
              "      <td>20.33</td>\n",
              "      <td>50.13</td>\n",
              "      <td>32.16</td>\n",
              "    </tr>\n",
              "    <tr>\n",
              "      <th>SSIM</th>\n",
              "      <td>0.08</td>\n",
              "      <td>0.05</td>\n",
              "      <td>0.07</td>\n",
              "      <td>0.07</td>\n",
              "      <td>0.06</td>\n",
              "      <td>0.11</td>\n",
              "      <td>0.09</td>\n",
              "      <td>0.08</td>\n",
              "      <td>0.11</td>\n",
              "      <td>0.08</td>\n",
              "    </tr>\n",
              "  </tbody>\n",
              "</table>\n",
              "</div>"
            ],
            "text/plain": [
              "                       0      1       2       3  ...       6       7       8       9\n",
              "ELBO              125.80  86.56  130.17  114.78  ...  145.31  104.14  222.31  160.23\n",
              "Recon_likelihood   94.72  58.31   97.26   86.21  ...  114.25   77.90  181.00  117.34\n",
              "KL_divergence      30.83  27.93   33.02   28.72  ...   31.11   26.20   41.97   42.45\n",
              "Recon_error        25.72  13.94   25.93   22.97  ...   31.79   20.33   50.13   32.16\n",
              "SSIM                0.08   0.05    0.07    0.07  ...    0.09    0.08    0.11    0.08\n",
              "\n",
              "[5 rows x 10 columns]"
            ]
          },
          "metadata": {
            "tags": []
          },
          "execution_count": 226
        },
        {
          "output_type": "display_data",
          "data": {
            "image/png": "[encoded data removed]",
            "text/plain": [
              "<Figure size 648x288 with 1 Axes>"
            ]
          },
          "metadata": {
            "tags": []
          }
        },
        {
          "output_type": "display_data",
          "data": {
            "image/png": "[encoded data removed]",
            "text/plain": [
              "<Figure size 648x288 with 1 Axes>"
            ]
          },
          "metadata": {
            "tags": []
          }
        },
        {
          "output_type": "display_data",
          "data": {
            "image/png": "[encoded data removed]",
            "text/plain": [
              "<Figure size 648x288 with 1 Axes>"
            ]
          },
          "metadata": {
            "tags": []
          }
        },
        {
          "output_type": "display_data",
          "data": {
            "image/png": "[encoded data removed]",
            "text/plain": [
              "<Figure size 648x288 with 1 Axes>"
            ]
          },
          "metadata": {
            "tags": []
          }
        },
        {
          "output_type": "display_data",
          "data": {
            "image/png": "[encoded data removed]",
            "text/plain": [
              "<Figure size 648x288 with 1 Axes>"
            ]
          },
          "metadata": {
            "tags": []
          }
        }
      ]
    },
    {
      "cell_type": "code",
      "metadata": {
        "id": "IZbgPEvBJDxQ",
        "colab_type": "code",
        "outputId": "62d80b0e-8c34-4c17-f9bd-dacda56efb99",
        "colab": {
          "base_uri": "https://localhost:8080/",
          "height": 34
        }
      },
      "source": [
        "print('hello')"
      ],
      "execution_count": 0,
      "outputs": [
        {
          "output_type": "stream",
          "text": [
            "hello\n"
          ],
          "name": "stdout"
        }
      ]
    },
    {
      "cell_type": "markdown",
      "metadata": {
        "id": "AO32aw-geBRj",
        "colab_type": "text"
      },
      "source": [
        "#### Classify test images"
      ]
    },
    {
      "cell_type": "code",
      "metadata": {
        "id": "BbzrkU3FweFO",
        "colab_type": "code",
        "colab": {}
      },
      "source": [
        "chosen_numbers = [1000, 1000, 1000, 1000, 1000, 1000, 1000, 1000, 1000, 1000]\n",
        "x_test_classes, y_test_classes = change_ratio(x_test, y_test, chosen_classes, chosen_numbers)\n",
        "\n",
        "predicted_class = np.zeros([1,len(x_test_classes)])\n",
        "predicted_probabilities = np.zeros([len(x_test_classes),10])\n",
        "for i in range(len(x_test_classes)):\n",
        "  if not i%10:\n",
        "    clear_output()\n",
        "    print('Progress:{}%'.format(100*(i+1)/len(x_test_classes)))\n",
        "  test_image = x_test_classes[i]/input_range\n",
        "  test_image = test_image.reshape(1, image_shape[0], image_shape[1], N_image_channels).astype('float32')\n",
        "  \n",
        "  loss_per_model = np.empty([1,10])\n",
        "  a = np.empty([1,10])\n",
        "  for j in range(0,10):\n",
        "    model = model_dict[str(j)]\n",
        "    loss1 = calculate_ELBO(model,test_image)\n",
        "    loss_per_model[0,j]= -loss1\n",
        "  a[0,:] = loss_per_model[0,:]/np.min(loss_per_model[0,:])\n",
        "  a = np.multiply(a,-2)\n",
        "  e_x = np.exp(a)\n",
        "  predicted_probabilities[i,:] = (e_x[0,:] / e_x[0,:].sum())*100\n",
        "  max_index = np.argmax(predicted_probabilities[i,:])\n",
        "  predicted_class[0,i] = max_index%10\n",
        "print(predicted_class)"
      ],
      "execution_count": 0,
      "outputs": []
    },
    {
      "cell_type": "markdown",
      "metadata": {
        "id": "fXQXpNK5zsnB",
        "colab_type": "text"
      },
      "source": [
        "### Calculate losses for each VAE"
      ]
    },
    {
      "cell_type": "code",
      "metadata": {
        "id": "BeH1yZn3tdoB",
        "colab_type": "code",
        "colab": {}
      },
      "source": [
        "def compute_losses(x):\n",
        "  losses_per_image = np.zeros([len(x),5])\n",
        "  for i in range(len(x)):\n",
        "    if not i%10:\n",
        "      clear_output()\n",
        "      print('Progress:{}%'.format(100*(i)/len(x)))\n",
        "    image = x[i]/input_range\n",
        "    image = image.reshape(1, image_shape[0], image_shape[1], N_image_channels).astype('float32')\n",
        "    loss1,loss2,loss3 = calculate_ELBO(model_nov, image)\n",
        "    loss4 = -calculate_pixel_squared(model_nov, image)\n",
        "    loss5 = calculate_ssim(model_nov, image)\n",
        "    losses_per_image[i,0]= loss1\n",
        "    losses_per_image[i,1]= -loss2\n",
        "    losses_per_image[i,2]= loss3\n",
        "    losses_per_image[i,3]= -loss4\n",
        "    losses_per_image[i,4]= loss5\n",
        "  return losses_per_image"
      ],
      "execution_count": 0,
      "outputs": []
    },
    {
      "cell_type": "code",
      "metadata": {
        "id": "-Q9lnVYIuCjv",
        "colab_type": "code",
        "outputId": "826b071c-4dd8-4522-e426-bcf9d391eb0f",
        "colab": {
          "base_uri": "https://localhost:8080/",
          "height": 34
        }
      },
      "source": [
        "losses_per_image_test = compute_losses(x_test)\n",
        "losses_per_image_train = compute_losses(x_train)"
      ],
      "execution_count": 0,
      "outputs": [
        {
          "output_type": "stream",
          "text": [
            "Progress:99.98333333333333%\n"
          ],
          "name": "stdout"
        }
      ]
    },
    {
      "cell_type": "code",
      "metadata": {
        "id": "RuCaRwy-vHdl",
        "colab_type": "code",
        "colab": {}
      },
      "source": [
        "train_losses_novel = np.load('/content/drive/My Drive/4YP/train_losses_novel.npy')\n",
        "test_losses_novel = np.load('/content/drive/My Drive/4YP/test_losses_novel.npy')"
      ],
      "execution_count": 0,
      "outputs": []
    },
    {
      "cell_type": "markdown",
      "metadata": {
        "id": "eJtQzUuH3cEr",
        "colab_type": "text"
      },
      "source": [
        "### Predict classes"
      ]
    },
    {
      "cell_type": "code",
      "metadata": {
        "id": "Zp-AFL1o4n03",
        "colab_type": "code",
        "outputId": "6d4071d6-8e59-4461-f910-39daafb6c783",
        "colab": {
          "base_uri": "https://localhost:8080/",
          "height": 51
        }
      },
      "source": [
        "train_losses_novel_known = train_losses_novel[np.where(y_train < 8)]\n",
        "train_losses_novel_novel = train_losses_novel[np.where(y_train >= 8)]\n",
        "\n",
        "averages = []; avrg_batch = 50\n",
        "for i in range(len(train_losses_novel_known)-avrg_batch):\n",
        "  averages.append(np.mean(train_losses_novel_known[i:i+avrg_batch], axis=0))\n",
        "\n",
        "thresholds = np.max(averages, axis=0)\n",
        "\n",
        "predictions = np.zeros([len(test_losses_novel),])\n",
        "for i in range(len(test_losses_novel)):\n",
        "  if test_losses_novel[i,3] >= thresholds[3]:\n",
        "    predictions[i] = 1\n",
        "  if test_losses_novel[i,3] < thresholds[3]:\n",
        "    predictions[i] = 0\n",
        "\n",
        "wrong_novel=0; correct_known=0; correct_novel=0; wrong_known=0\n",
        "\n",
        "for i in range(len(predictions)):\n",
        "  if predictions[i]==1:\n",
        "    if y_test[i] < 8:\n",
        "      wrong_novel += 1\n",
        "    if y_test[i] >= 8:\n",
        "      correct_novel +=1\n",
        "  if predictions[i]==0:\n",
        "    if y_test[i] < 8:\n",
        "      correct_known +=1\n",
        "    if y_test[i] >= 8:\n",
        "      wrong_known +=1\n",
        "\n",
        "accuracy = (correct_known+correct_novel)/(len(predictions))\n",
        "print(100*correct_novel/2000)\n",
        "print(100*accuracy)"
      ],
      "execution_count": 0,
      "outputs": [
        {
          "output_type": "stream",
          "text": [
            "63.15\n",
            "82.25\n"
          ],
          "name": "stdout"
        }
      ]
    },
    {
      "cell_type": "markdown",
      "metadata": {
        "id": "oZrCtjHgzwjX",
        "colab_type": "text"
      },
      "source": [
        "### Find classes"
      ]
    },
    {
      "cell_type": "code",
      "metadata": {
        "id": "gyKb1zabz2kX",
        "colab_type": "code",
        "colab": {}
      },
      "source": [
        "def losses_softmax(x):\n",
        "  x_normalized = np.zeros(np.shape(x))\n",
        "  softmax_probabilities = np.zeros(np.shape(x))\n",
        "  for i in range(len(x)):\n",
        "    x_normalized[i,:] = x[i,:]/np.min(x[i,:])\n",
        "    x_normalized[i,:] = np.multiply(x_normalized[i,:],-2)\n",
        "    e_x = np.exp(x_normalized)\n",
        "    softmax_probabilities[i,:] = (np.exp(x_normalized[i,:]) / np.exp(x_normalized[i,:]).sum())*100\n",
        "  return softmax_probabilities"
      ],
      "execution_count": 0,
      "outputs": []
    },
    {
      "cell_type": "code",
      "metadata": {
        "id": "gmLbOWyz0OVP",
        "colab_type": "code",
        "colab": {}
      },
      "source": [
        "softmax_probabilities_test = losses_softmax(losses_per_image_test)\n",
        "softmax_probabilities_train = losses_softmax(losses_per_image_train)"
      ],
      "execution_count": 0,
      "outputs": []
    },
    {
      "cell_type": "markdown",
      "metadata": {
        "id": "eGQpmifzL33f",
        "colab_type": "text"
      },
      "source": [
        "### Classify using highest softmax probability"
      ]
    },
    {
      "cell_type": "code",
      "metadata": {
        "id": "Nqs_wubP2dc-",
        "colab_type": "code",
        "colab": {}
      },
      "source": [
        "def classify_highest_softmax(x):\n",
        "  predicted_class = np.zeros([len(x)],)\n",
        "  for i in range(len(x)):\n",
        "    predicted_class[i] = np.argmax(x[i,:])\n",
        "  return predicted_class"
      ],
      "execution_count": 0,
      "outputs": []
    },
    {
      "cell_type": "code",
      "metadata": {
        "id": "iOW0bRb227Me",
        "colab_type": "code",
        "colab": {}
      },
      "source": [
        "predicted_class_1 = classify_highest_softmax(softmax_probabilities_test)"
      ],
      "execution_count": 0,
      "outputs": []
    },
    {
      "cell_type": "markdown",
      "metadata": {
        "id": "XEwFlXDV4n6v",
        "colab_type": "text"
      },
      "source": [
        "#### Classify using ROC curves"
      ]
    },
    {
      "cell_type": "code",
      "metadata": {
        "id": "jPnysfBC3QSD",
        "colab_type": "code",
        "colab": {}
      },
      "source": [
        "def ROC_thresholds(y, prob_x, plot_ROC_curves=1):\n",
        "  y_true = np.zeros([10,len(y)])\n",
        "  for i in range(len(y)):\n",
        "    y_true[y[i].astype('int'),i]=1 #each row has all the images, each row is a class. Values are 1 where the image corresponds to that class\n",
        "\n",
        "  y_score = np.zeros([10,len(y)])\n",
        "  for i in range(len(y)):\n",
        "    y_score[:,i] = prob_x[i] #each column is the softmax distribution for each image\n",
        "\n",
        "  \n",
        "  optimal_thresholds = np.zeros([10,])\n",
        "  for i in range(10):\n",
        "    fpr, tpr, threshold = roc_curve(y_true[i,:], y_score[i,:])\n",
        "    optimal_idx = np.argmin(np.sqrt(np.square(1-tpr) + np.square(fpr)))\n",
        "    optimal_threshold = threshold[optimal_idx]\n",
        "    optimal_thresholds[i] = optimal_threshold\n",
        "    if plot_ROC_curves == 1:\n",
        "      plot = plt.figure()\n",
        "      plt.plot(fpr, tpr, color='red')\n",
        "      plt.plot([0, 1], [0, 1], color='navy', linestyle='--')\n",
        "      plt.xlabel('False Positive Rate')\n",
        "      plt.ylabel('True Positive Rate')\n",
        "      plt.title('ROC curve for class '+str(i))\n",
        "      plt.show()\n",
        "  return optimal_thresholds"
      ],
      "execution_count": 0,
      "outputs": []
    },
    {
      "cell_type": "code",
      "metadata": {
        "id": "naTedHJJ709w",
        "colab_type": "code",
        "colab": {}
      },
      "source": [
        "optimal_thresholds = ROC_thresholds(y_test, softmax_probabilities_test, 0)"
      ],
      "execution_count": 0,
      "outputs": []
    },
    {
      "cell_type": "code",
      "metadata": {
        "id": "FI9P38cC6733",
        "colab_type": "code",
        "colab": {}
      },
      "source": [
        "def classify_ROC_thresholds(prob_x, thresholds, y):\n",
        "  predicted_class = np.zeros([len(y),])\n",
        "  for i in range(len(y)):\n",
        "    diff = prob_x[i,:]-thresholds\n",
        "    predicted_class[i]=np.argmax(diff)\n",
        "  return predicted_class"
      ],
      "execution_count": 0,
      "outputs": []
    },
    {
      "cell_type": "code",
      "metadata": {
        "id": "6SyMAiq39GtB",
        "colab_type": "code",
        "colab": {}
      },
      "source": [
        "predicted_class_2 = classify_ROC_thresholds(softmax_probabilities_test, optimal_thresholds, y_test)"
      ],
      "execution_count": 0,
      "outputs": []
    },
    {
      "cell_type": "markdown",
      "metadata": {
        "id": "szNTAGjDMAkM",
        "colab_type": "text"
      },
      "source": [
        "### Classify using a NN classifier"
      ]
    },
    {
      "cell_type": "code",
      "metadata": {
        "id": "TklN_hEIZTDY",
        "colab_type": "code",
        "colab": {}
      },
      "source": [
        "from sklearn.utils import class_weight\n",
        "\n",
        "class MyModel(tf.keras.Model):\n",
        "  def __init__(self):\n",
        "    super(MyModel, self).__init__()\n",
        "    self.d1 = tf.keras.layers.Dense(128, activation= tf.nn.relu)\n",
        "    self.d2 = tf.keras.layers.Dense(128, activation= tf.nn.relu)\n",
        "    self.d3 = tf.keras.layers.Dense(10, activation = tf.nn.softmax)\n",
        "\n",
        "  def call(self, x):\n",
        "    x = self.d1(x)\n",
        "    x = self.d2(x)\n",
        "    x = self.d3(x)\n",
        "    return x\n",
        "\n",
        "model = MyModel()"
      ],
      "execution_count": 0,
      "outputs": []
    },
    {
      "cell_type": "code",
      "metadata": {
        "id": "f3QmPKYlMX93",
        "colab_type": "code",
        "outputId": "05e93819-172e-4184-9607-c6d854cb7bfd",
        "colab": {
          "base_uri": "https://localhost:8080/",
          "height": 748
        }
      },
      "source": [
        "model.compile(optimizer='adam', loss='sparse_categorical_crossentropy', metrics=['accuracy'])\n",
        "\n",
        "class_weights = class_weight.compute_class_weight('balanced', np.unique(y_train), y_train)\n",
        "class_weights = dict(enumerate(class_weights))\n",
        "\n",
        "model.fit(losses_per_image_train, y_train, batch_size=50, epochs=20, class_weight=class_weights, validation_data=(losses_per_image_test, y_test), shuffle=True)\n",
        "model.evaluate(losses_per_image_test, y_test, verbose=2)"
      ],
      "execution_count": 0,
      "outputs": [
        {
          "output_type": "stream",
          "text": [
            "Train on 17165 samples, validate on 10000 samples\n",
            "Epoch 1/20\n",
            "17165/17165 [==============================] - 3s 155us/sample - loss: 30.0355 - accuracy: 0.5486 - val_loss: 1092.4309 - val_accuracy: 0.4995\n",
            "Epoch 2/20\n",
            "17165/17165 [==============================] - 2s 107us/sample - loss: 11.7232 - accuracy: 0.6615 - val_loss: 749.6966 - val_accuracy: 0.3649\n",
            "Epoch 3/20\n",
            "17165/17165 [==============================] - 2s 106us/sample - loss: 7.1429 - accuracy: 0.6986 - val_loss: 846.0963 - val_accuracy: 0.5682\n",
            "Epoch 4/20\n",
            "17165/17165 [==============================] - 2s 104us/sample - loss: 5.3050 - accuracy: 0.7304 - val_loss: 1732.1148 - val_accuracy: 0.4752\n",
            "Epoch 5/20\n",
            "17165/17165 [==============================] - 2s 106us/sample - loss: 6.5025 - accuracy: 0.7161 - val_loss: 937.0735 - val_accuracy: 0.5911\n",
            "Epoch 6/20\n",
            "17165/17165 [==============================] - 2s 105us/sample - loss: 2.6884 - accuracy: 0.7672 - val_loss: 717.9117 - val_accuracy: 0.6395\n",
            "Epoch 7/20\n",
            "17165/17165 [==============================] - 2s 110us/sample - loss: 3.2175 - accuracy: 0.7389 - val_loss: 831.2491 - val_accuracy: 0.5259\n",
            "Epoch 8/20\n",
            "17165/17165 [==============================] - 2s 108us/sample - loss: 3.7936 - accuracy: 0.7491 - val_loss: 1275.6979 - val_accuracy: 0.5562\n",
            "Epoch 9/20\n",
            "17165/17165 [==============================] - 2s 105us/sample - loss: 2.8691 - accuracy: 0.7520 - val_loss: 237.2480 - val_accuracy: 0.6188\n",
            "Epoch 10/20\n",
            "17165/17165 [==============================] - 2s 106us/sample - loss: 1.6067 - accuracy: 0.7871 - val_loss: 460.8055 - val_accuracy: 0.6554\n",
            "Epoch 11/20\n",
            "17165/17165 [==============================] - 2s 106us/sample - loss: 1.2587 - accuracy: 0.7928 - val_loss: 463.5779 - val_accuracy: 0.6245\n",
            "Epoch 12/20\n",
            "17165/17165 [==============================] - 2s 105us/sample - loss: 1.1368 - accuracy: 0.7920 - val_loss: 642.3806 - val_accuracy: 0.6020\n",
            "Epoch 13/20\n",
            "17165/17165 [==============================] - 2s 105us/sample - loss: 1.1523 - accuracy: 0.7932 - val_loss: 294.2737 - val_accuracy: 0.6333\n",
            "Epoch 14/20\n",
            "17165/17165 [==============================] - 2s 105us/sample - loss: 1.1201 - accuracy: 0.8115 - val_loss: 164.8812 - val_accuracy: 0.5010\n",
            "Epoch 15/20\n",
            "17165/17165 [==============================] - 2s 101us/sample - loss: 2.1490 - accuracy: 0.7302 - val_loss: 259.9273 - val_accuracy: 0.6269\n",
            "Epoch 16/20\n",
            "17165/17165 [==============================] - 2s 104us/sample - loss: 1.0934 - accuracy: 0.7897 - val_loss: 329.8373 - val_accuracy: 0.5758\n",
            "Epoch 17/20\n",
            "17165/17165 [==============================] - 2s 106us/sample - loss: 0.9465 - accuracy: 0.7977 - val_loss: 309.3332 - val_accuracy: 0.5539\n",
            "Epoch 18/20\n",
            "17165/17165 [==============================] - 2s 102us/sample - loss: 0.9508 - accuracy: 0.7941 - val_loss: 191.9104 - val_accuracy: 0.6218\n",
            "Epoch 19/20\n",
            "17165/17165 [==============================] - 2s 104us/sample - loss: 0.8266 - accuracy: 0.8049 - val_loss: 118.7965 - val_accuracy: 0.6286\n",
            "Epoch 20/20\n",
            "17165/17165 [==============================] - 2s 104us/sample - loss: 0.7303 - accuracy: 0.8064 - val_loss: 232.9236 - val_accuracy: 0.6122\n",
            "10000/1 - 1s - loss: 0.7612 - accuracy: 0.6122\n"
          ],
          "name": "stdout"
        },
        {
          "output_type": "execute_result",
          "data": {
            "text/plain": [
              "[1.4148480807781219, 0.6122]"
            ]
          },
          "metadata": {
            "tags": []
          },
          "execution_count": 31
        }
      ]
    },
    {
      "cell_type": "code",
      "metadata": {
        "id": "awOf8_dld5bV",
        "colab_type": "code",
        "outputId": "9c4d98ae-8c77-4e18-f950-e5c44ca83c76",
        "colab": {
          "base_uri": "https://localhost:8080/",
          "height": 139
        }
      },
      "source": [
        "predicted_class_3 = np.argmax(model(losses_per_image_test), axis=1)"
      ],
      "execution_count": 0,
      "outputs": [
        {
          "output_type": "stream",
          "text": [
            "WARNING:tensorflow:Layer my_model is casting an input tensor from dtype float64 to the layer's dtype of float32, which is new behavior in TensorFlow 2.  The layer has dtype float32 because it's dtype defaults to floatx.\n",
            "\n",
            "If you intended to run this layer in float32, you can safely ignore this warning. If in doubt, this warning is likely only an issue if you are porting a TensorFlow 1.X model to TensorFlow 2.\n",
            "\n",
            "To change all layers to have dtype float64 by default, call `tf.keras.backend.set_floatx('float64')`. To change just this layer, pass dtype='float64' to the layer constructor. If you are the author of this layer, you can disable autocasting by passing autocast=False to the base Layer constructor.\n",
            "\n"
          ],
          "name": "stdout"
        }
      ]
    },
    {
      "cell_type": "markdown",
      "metadata": {
        "id": "J8fLaFXBuzOs",
        "colab_type": "text"
      },
      "source": [
        "#### Check accuracy and plot misslabeled images"
      ]
    },
    {
      "cell_type": "code",
      "metadata": {
        "id": "v37g0zTrabrK",
        "colab_type": "code",
        "colab": {}
      },
      "source": [
        "def compute_accuracy(predictions, y):\n",
        "  predictions = predictions.astype('int')\n",
        "  y = y.astype('int')\n",
        "\n",
        "  wrong_guesses = []\n",
        "  table_of_counts = np.zeros([N_class+1, N_class+1])\n",
        "  for i in range(len(predictions)):\n",
        "    table_of_counts[y[i], predictions[i]]+=1\n",
        "    if y[i] != predictions[i]:\n",
        "        wrong_guesses.append(i)\n",
        "  \n",
        "  for i in range(N_class):\n",
        "    accuracy_of_class = 100*table_of_counts[i,i]/np.sum(table_of_counts[i,0:-1])\n",
        "    table_of_counts[i,-1] = accuracy_of_class.astype('float16')\n",
        "  for i in range(N_class):\n",
        "    table_of_counts[-1,i] = np.sum(table_of_counts[0:10,i])-table_of_counts[i,i]\n",
        "\n",
        "  index = list(str('-') * (N_class+1))\n",
        "  columns = list(str('-') * (N_class+1))\n",
        "  for i in range(N_class):\n",
        "    index[i]= 'Class '+ str(i)\n",
        "    columns[i] = '|' + str(i) + '_Counts|'\n",
        "  index[-1] = 'False Positives'\n",
        "  columns[-1] = 'Percentage'\n",
        "  table = pd.DataFrame.from_records(table_of_counts, index=index, columns=columns)\n",
        "\n",
        "  accuracy = 100*table_of_counts.trace()/np.sum(table_of_counts[0:10,0:10])\n",
        "  average_accuracy = np.sum(table['Percentage'])/10\n",
        "\n",
        "  return table, accuracy, average_accuracy, wrong_guesses"
      ],
      "execution_count": 0,
      "outputs": []
    },
    {
      "cell_type": "code",
      "metadata": {
        "id": "gV655SxYLN--",
        "colab_type": "code",
        "colab": {}
      },
      "source": [
        "table_1, accuracy_1, average_accuracy_1, wrong_guesses_1 = compute_accuracy(predicted_class_1, y_test)\n",
        "table_2, accuracy_2, average_accuracy_2, wrong_guesses_2 = compute_accuracy(predicted_class_2, y_test)\n",
        "table_3, accuracy_3, average_accuracy_3, wrong_guesses_3 = compute_accuracy(predicted_class_3, y_test)"
      ],
      "execution_count": 0,
      "outputs": []
    },
    {
      "cell_type": "code",
      "metadata": {
        "id": "YEbO5cLJZlfn",
        "colab_type": "code",
        "colab": {}
      },
      "source": [
        "print(accuracy_3)\n",
        "table_3"
      ],
      "execution_count": 0,
      "outputs": []
    },
    {
      "cell_type": "code",
      "metadata": {
        "id": "GV4d1Py2sXEd",
        "colab_type": "code",
        "colab": {}
      },
      "source": [
        "# Convolutional VAE for each class results in accuracy of 98.16% with z_size = 10\n",
        "# Convolutional VAE for each class results in accuracy of 89.90% with z_size = 2"
      ],
      "execution_count": 0,
      "outputs": []
    },
    {
      "cell_type": "code",
      "metadata": {
        "id": "J1qjNT_wICoX",
        "colab_type": "code",
        "colab": {}
      },
      "source": [
        "import pandas as pd\n",
        "table_same = pd.read_csv('/content/drive/My Drive/4YP/table_same.csv')\n",
        "table_increase = pd.read_csv('/content/drive/My Drive/4YP/table_increase.csv')\n",
        "table_decrease = pd.read_csv('/content/drive/My Drive/4YP/table_decrease.csv')\n",
        "table_loss_same = pd.read_csv('/content/drive/My Drive/4YP/table_loss_same.csv')\n",
        "table_loss_increase = pd.read_csv('/content/drive/My Drive/4YP/table_loss_increase.csv')\n",
        "table_loss_decrease = pd.read_csv('/content/drive/My Drive/4YP/table_loss_decrease.csv')\n",
        "predicted_prob_same = np.load('/content/drive/My Drive/4YP/predicted_prob_same.npy')\n",
        "predicted_prob_increase = np.load('/content/drive/My Drive/4YP/predicted_prob_increase.npy')\n",
        "predicted_prob_decrease = np.load('/content/drive/My Drive/4YP/predicted_prob_decrease.npy')\n",
        "losses_per_image_test = np.load('/content/drive/My Drive/4YP/losses_per_image_test.npy')\n",
        "losses_per_image_train = np.load('/content/drive/My Drive/4YP/losses_per_image_train.npy')"
      ],
      "execution_count": 0,
      "outputs": []
    },
    {
      "cell_type": "markdown",
      "metadata": {
        "id": "T80ki3UympBu",
        "colab_type": "text"
      },
      "source": [
        "### Classifier"
      ]
    },
    {
      "cell_type": "code",
      "metadata": {
        "id": "s8iJVeKvXZwY",
        "colab_type": "code",
        "colab": {}
      },
      "source": [
        "def find_loss_probs(losses_per_image, y):\n",
        "  covariances = []\n",
        "  means = []\n",
        "  for i in range(N_class):\n",
        "    losses = losses_per_image[y==i]\n",
        "    covariance = np.cov(np.transpose(losses[:,i]))\n",
        "    mean = np.mean(losses[:,i], axis=0)\n",
        "    covariances.append(covariance)\n",
        "    means.append(mean)\n",
        "  return means, covariances"
      ],
      "execution_count": 0,
      "outputs": []
    },
    {
      "cell_type": "code",
      "metadata": {
        "id": "mA-XeCZZQnSz",
        "colab_type": "code",
        "colab": {}
      },
      "source": [
        "means, covariances = find_loss_probs(losses_per_image_train, y_train)"
      ],
      "execution_count": 0,
      "outputs": []
    },
    {
      "cell_type": "code",
      "metadata": {
        "id": "bTd2pNSQUp43",
        "colab_type": "code",
        "colab": {}
      },
      "source": [
        "losses_distribution_dict = {}\n",
        "for i in range(N_class):\n",
        "  losses_distribution_dict[str(i)] = multivariate_normal(mean=means[i], cov=covariances[i])"
      ],
      "execution_count": 0,
      "outputs": []
    },
    {
      "cell_type": "code",
      "metadata": {
        "id": "Ju9wE8pWeTjc",
        "colab_type": "code",
        "colab": {}
      },
      "source": [
        "max_losses_distribution = np.zeros([10,])\n",
        "for i in range(10): \n",
        "  max_losses_distribution[i] = losses_distribution_dict[str(i)].pdf(means[i])\n",
        "\n",
        "cdf_value = np.zeros([len(y_test),10])\n",
        "predicted_class_4 = np.zeros([len(y_test)])\n",
        "for j in range(len(y_test)):\n",
        "  for i in range(10):\n",
        "    cdf_value[j,i] = losses_distribution_dict[str(i)].cdf(losses_per_image_test[j,i])\n",
        "    cdf_value[j,i] = 1-cdf_value[j,i]\n",
        "    #cdf_value[i] = pdf_value[i]/max_losses_distribution[i]\n",
        "  predicted_class_4[j] = np.argmax(cdf_value[j,:])\n",
        "predicted_class_4 = predicted_class_4.astype('int')"
      ],
      "execution_count": 0,
      "outputs": []
    },
    {
      "cell_type": "code",
      "metadata": {
        "id": "Mx18AWijgzpz",
        "colab_type": "code",
        "outputId": "697f8ed1-3cdd-4b64-d750-d0ff211864f7",
        "colab": {
          "base_uri": "https://localhost:8080/",
          "height": 407
        }
      },
      "source": [
        "table_4, accuracy_4, average_accuracy_4, wrong_guesses_4 = compute_accuracy(predicted_class_4, y_test)\n",
        "print(average_accuracy_4)\n",
        "table_4"
      ],
      "execution_count": 0,
      "outputs": [
        {
          "output_type": "stream",
          "text": [
            "0.740234375\n"
          ],
          "name": "stdout"
        },
        {
          "output_type": "execute_result",
          "data": {
            "text/html": [
              "<div>\n",
              "<style scoped>\n",
              "    .dataframe tbody tr th:only-of-type {\n",
              "        vertical-align: middle;\n",
              "    }\n",
              "\n",
              "    .dataframe tbody tr th {\n",
              "        vertical-align: top;\n",
              "    }\n",
              "\n",
              "    .dataframe thead th {\n",
              "        text-align: right;\n",
              "    }\n",
              "</style>\n",
              "<table border=\"1\" class=\"dataframe\">\n",
              "  <thead>\n",
              "    <tr style=\"text-align: right;\">\n",
              "      <th></th>\n",
              "      <th>|0_Counts|</th>\n",
              "      <th>|1_Counts|</th>\n",
              "      <th>|2_Counts|</th>\n",
              "      <th>|3_Counts|</th>\n",
              "      <th>|4_Counts|</th>\n",
              "      <th>|5_Counts|</th>\n",
              "      <th>|6_Counts|</th>\n",
              "      <th>|7_Counts|</th>\n",
              "      <th>|8_Counts|</th>\n",
              "      <th>|9_Counts|</th>\n",
              "      <th>Percentage</th>\n",
              "    </tr>\n",
              "  </thead>\n",
              "  <tbody>\n",
              "    <tr>\n",
              "      <th>Class 0</th>\n",
              "      <td>51.0</td>\n",
              "      <td>650.0</td>\n",
              "      <td>0.0</td>\n",
              "      <td>0.0</td>\n",
              "      <td>0.0</td>\n",
              "      <td>0.0</td>\n",
              "      <td>0.0</td>\n",
              "      <td>299.0</td>\n",
              "      <td>0.0</td>\n",
              "      <td>0.0</td>\n",
              "      <td>5.101562</td>\n",
              "    </tr>\n",
              "    <tr>\n",
              "      <th>Class 1</th>\n",
              "      <td>11.0</td>\n",
              "      <td>23.0</td>\n",
              "      <td>0.0</td>\n",
              "      <td>0.0</td>\n",
              "      <td>0.0</td>\n",
              "      <td>1.0</td>\n",
              "      <td>0.0</td>\n",
              "      <td>965.0</td>\n",
              "      <td>0.0</td>\n",
              "      <td>0.0</td>\n",
              "      <td>2.300781</td>\n",
              "    </tr>\n",
              "    <tr>\n",
              "      <th>Class 2</th>\n",
              "      <td>588.0</td>\n",
              "      <td>305.0</td>\n",
              "      <td>0.0</td>\n",
              "      <td>0.0</td>\n",
              "      <td>0.0</td>\n",
              "      <td>0.0</td>\n",
              "      <td>0.0</td>\n",
              "      <td>107.0</td>\n",
              "      <td>0.0</td>\n",
              "      <td>0.0</td>\n",
              "      <td>0.000000</td>\n",
              "    </tr>\n",
              "    <tr>\n",
              "      <th>Class 3</th>\n",
              "      <td>15.0</td>\n",
              "      <td>181.0</td>\n",
              "      <td>0.0</td>\n",
              "      <td>0.0</td>\n",
              "      <td>0.0</td>\n",
              "      <td>0.0</td>\n",
              "      <td>0.0</td>\n",
              "      <td>804.0</td>\n",
              "      <td>0.0</td>\n",
              "      <td>0.0</td>\n",
              "      <td>0.000000</td>\n",
              "    </tr>\n",
              "    <tr>\n",
              "      <th>Class 4</th>\n",
              "      <td>601.0</td>\n",
              "      <td>269.0</td>\n",
              "      <td>0.0</td>\n",
              "      <td>0.0</td>\n",
              "      <td>0.0</td>\n",
              "      <td>0.0</td>\n",
              "      <td>0.0</td>\n",
              "      <td>130.0</td>\n",
              "      <td>0.0</td>\n",
              "      <td>0.0</td>\n",
              "      <td>0.000000</td>\n",
              "    </tr>\n",
              "    <tr>\n",
              "      <th>Class 5</th>\n",
              "      <td>135.0</td>\n",
              "      <td>863.0</td>\n",
              "      <td>0.0</td>\n",
              "      <td>0.0</td>\n",
              "      <td>0.0</td>\n",
              "      <td>0.0</td>\n",
              "      <td>0.0</td>\n",
              "      <td>2.0</td>\n",
              "      <td>0.0</td>\n",
              "      <td>0.0</td>\n",
              "      <td>0.000000</td>\n",
              "    </tr>\n",
              "    <tr>\n",
              "      <th>Class 6</th>\n",
              "      <td>361.0</td>\n",
              "      <td>410.0</td>\n",
              "      <td>0.0</td>\n",
              "      <td>0.0</td>\n",
              "      <td>0.0</td>\n",
              "      <td>0.0</td>\n",
              "      <td>0.0</td>\n",
              "      <td>229.0</td>\n",
              "      <td>0.0</td>\n",
              "      <td>0.0</td>\n",
              "      <td>0.000000</td>\n",
              "    </tr>\n",
              "    <tr>\n",
              "      <th>Class 7</th>\n",
              "      <td>159.0</td>\n",
              "      <td>841.0</td>\n",
              "      <td>0.0</td>\n",
              "      <td>0.0</td>\n",
              "      <td>0.0</td>\n",
              "      <td>0.0</td>\n",
              "      <td>0.0</td>\n",
              "      <td>0.0</td>\n",
              "      <td>0.0</td>\n",
              "      <td>0.0</td>\n",
              "      <td>0.000000</td>\n",
              "    </tr>\n",
              "    <tr>\n",
              "      <th>Class 8</th>\n",
              "      <td>744.0</td>\n",
              "      <td>190.0</td>\n",
              "      <td>0.0</td>\n",
              "      <td>0.0</td>\n",
              "      <td>0.0</td>\n",
              "      <td>0.0</td>\n",
              "      <td>0.0</td>\n",
              "      <td>66.0</td>\n",
              "      <td>0.0</td>\n",
              "      <td>0.0</td>\n",
              "      <td>0.000000</td>\n",
              "    </tr>\n",
              "    <tr>\n",
              "      <th>Class 9</th>\n",
              "      <td>741.0</td>\n",
              "      <td>259.0</td>\n",
              "      <td>0.0</td>\n",
              "      <td>0.0</td>\n",
              "      <td>0.0</td>\n",
              "      <td>0.0</td>\n",
              "      <td>0.0</td>\n",
              "      <td>0.0</td>\n",
              "      <td>0.0</td>\n",
              "      <td>0.0</td>\n",
              "      <td>0.000000</td>\n",
              "    </tr>\n",
              "    <tr>\n",
              "      <th>False Positives</th>\n",
              "      <td>3355.0</td>\n",
              "      <td>3968.0</td>\n",
              "      <td>0.0</td>\n",
              "      <td>0.0</td>\n",
              "      <td>0.0</td>\n",
              "      <td>1.0</td>\n",
              "      <td>0.0</td>\n",
              "      <td>2602.0</td>\n",
              "      <td>0.0</td>\n",
              "      <td>0.0</td>\n",
              "      <td>0.000000</td>\n",
              "    </tr>\n",
              "  </tbody>\n",
              "</table>\n",
              "</div>"
            ],
            "text/plain": [
              "                 |0_Counts|  |1_Counts|  ...  |9_Counts|  Percentage\n",
              "Class 0                51.0       650.0  ...         0.0    5.101562\n",
              "Class 1                11.0        23.0  ...         0.0    2.300781\n",
              "Class 2               588.0       305.0  ...         0.0    0.000000\n",
              "Class 3                15.0       181.0  ...         0.0    0.000000\n",
              "Class 4               601.0       269.0  ...         0.0    0.000000\n",
              "Class 5               135.0       863.0  ...         0.0    0.000000\n",
              "Class 6               361.0       410.0  ...         0.0    0.000000\n",
              "Class 7               159.0       841.0  ...         0.0    0.000000\n",
              "Class 8               744.0       190.0  ...         0.0    0.000000\n",
              "Class 9               741.0       259.0  ...         0.0    0.000000\n",
              "False Positives      3355.0      3968.0  ...         0.0    0.000000\n",
              "\n",
              "[11 rows x 11 columns]"
            ]
          },
          "metadata": {
            "tags": []
          },
          "execution_count": 214
        }
      ]
    },
    {
      "cell_type": "code",
      "metadata": {
        "id": "VNcKwhY4xXGW",
        "colab_type": "code",
        "colab": {}
      },
      "source": [
        ""
      ],
      "execution_count": 0,
      "outputs": []
    }
  ]
}