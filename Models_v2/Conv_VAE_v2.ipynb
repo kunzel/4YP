{
  "nbformat": 4,
  "nbformat_minor": 0,
  "metadata": {
    "accelerator": "GPU",
    "colab": {
      "name": "CVAE_MNIST_Numbers.ipynb",
      "provenance": [],
      "include_colab_link": true
    },
    "kernelspec": {
      "name": "python3",
      "display_name": "Python 3"
    },
    "language_info": {
      "codemirror_mode": {
        "name": "ipython",
        "version": 3
      },
      "file_extension": ".py",
      "mimetype": "text/x-python",
      "name": "python",
      "nbconvert_exporter": "python",
      "pygments_lexer": "ipython3",
      "version": "3.7.3"
    }
  },
  "cells": [
    {
      "cell_type": "markdown",
      "metadata": {
        "id": "view-in-github",
        "colab_type": "text"
      },
      "source": [
        "<a href=\"https://colab.research.google.com/github/lorenzosintini/4YP/blob/master/Models_v2/Conv_VAE_v2.ipynb\" target=\"_parent\"><img src=\"https://colab.research.google.com/assets/colab-badge.svg\" alt=\"Open In Colab\"/></a>"
      ]
    },
    {
      "cell_type": "markdown",
      "metadata": {
        "colab_type": "text",
        "id": "C8VH0HaF0eaI"
      },
      "source": [
        "#### Import Libraries"
      ]
    },
    {
      "cell_type": "code",
      "metadata": {
        "colab_type": "code",
        "id": "887mv3aj0eaL",
        "colab": {}
      },
      "source": [
        "try:\n",
        "    # %tensorflow_version only exists in Colab.\n",
        "    %tensorflow_version 2.x\n",
        "except Exception:\n",
        "    pass\n",
        "import tensorflow as tf\n",
        "\n",
        "import numpy as np\n",
        "import matplotlib.pyplot as plt\n",
        "import random\n",
        "import time\n",
        "import os\n",
        "import sys\n",
        "from IPython.display import clear_output\n",
        "import os\n",
        "import pandas as pd\n",
        "tf.autograph.set_verbosity(0)"
      ],
      "execution_count": 0,
      "outputs": []
    },
    {
      "cell_type": "markdown",
      "metadata": {
        "colab_type": "text",
        "id": "sUEIvx3I0eaT"
      },
      "source": [
        "#### Import Data and plot it"
      ]
    },
    {
      "cell_type": "code",
      "metadata": {
        "colab_type": "code",
        "id": "tkekihPQ0eaU",
        "outputId": "d4285450-a55f-4d24-b8d3-b88fe1b52baf",
        "colab": {
          "base_uri": "https://localhost:8080/",
          "height": 173
        }
      },
      "source": [
        "mnist = tf.keras.datasets.mnist\n",
        "(x_train, y_train), (x_test, y_test) = mnist.load_data()\n",
        "\n",
        "class_names = ['Zero','One', 'Two', 'Three', 'Four', 'Five','Six', 'Seven', 'Eight', 'Nine']\n",
        "N_image_channels = 1\n",
        "N_class = len(class_names)\n",
        "image_shape = x_train.shape[1:3]\n",
        "input_range = np.amax(x_train)\n",
        "\n",
        "def plot_images(x_train, y_train, figures_to_plot, pick_random=False, include_labels=True):\n",
        "    n_rows = np.ceil((figures_to_plot[1])/10)\n",
        "    plot = plt.figure(figsize=[20,2*n_rows])\n",
        "    for i in range(figures_to_plot[0],figures_to_plot[1]):\n",
        "        if pick_random: \n",
        "            pic_n = random.randint(0,len(x_train))\n",
        "        else: pic_n = i\n",
        "        plt.subplot(n_rows,10,i+1)\n",
        "        plt.xticks([]); plt.yticks([])\n",
        "        plt.imshow(x_train[pic_n], cmap=plt.cm.binary)\n",
        "        if include_labels:\n",
        "            plt.xlabel(y_train[pic_n])\n",
        "    plt.show()\n",
        "\n",
        "plot_images(x_train, y_train, [0,10])"
      ],
      "execution_count": 2,
      "outputs": [
        {
          "output_type": "stream",
          "text": [
            "Downloading data from https://storage.googleapis.com/tensorflow/tf-keras-datasets/mnist.npz\n",
            "11493376/11490434 [==============================] - 0s 0us/step\n"
          ],
          "name": "stdout"
        },
        {
          "output_type": "display_data",
          "data": {
            "image/png": "[encoded data removed]",
            "text/plain": [
              "<Figure size 1440x144 with 10 Axes>"
            ]
          },
          "metadata": {
            "tags": []
          }
        }
      ]
    },
    {
      "cell_type": "markdown",
      "metadata": {
        "colab_type": "text",
        "id": "lv1qfPcr0eaZ"
      },
      "source": [
        "#### Select data, pre-process it and create dataset"
      ]
    },
    {
      "cell_type": "code",
      "metadata": {
        "colab_type": "code",
        "id": "SXK5XnqV0eab",
        "colab": {}
      },
      "source": [
        "def pick_class(x, y, class_n):\n",
        "    pics = (y == class_n[0])\n",
        "    for i in range(len(class_n)-1):\n",
        "      pics = pics + (y == class_n[i+1])\n",
        "    new_x = x[pics]\n",
        "    new_y = y[pics]\n",
        "    return new_x, new_y\n",
        "\n",
        "def set_pixels_binary(images):\n",
        "    images = images/input_range\n",
        "    images[images >= 0.5] = 1.0\n",
        "    images[images < 0.5] = 0.0\n",
        "    return images\n",
        "\n",
        "def make_categorical(y):\n",
        "    y_cat = tf.keras.utils.to_categorical(y)\n",
        "    return y_cat\n",
        "\n",
        "def cut_data(data, data_number):\n",
        "    data = data[0:data_number]\n",
        "    return data\n",
        "\n",
        "def setup_dataset(x_train, y_train, x_test, y_test, chosen_classes=[0,1,2,3,4,5,6,7,8,9], data_number = -1):\n",
        "  x_train, y_train = pick_class(x_train, y_train, chosen_classes)\n",
        "  x_test, y_test = pick_class(x_test, y_test, chosen_classes)\n",
        "  \n",
        "  x_train = cut_data(x_train, data_number)\n",
        "  y_train = cut_data(y_train, data_number)\n",
        "\n",
        "  train_images = set_pixels_binary(x_train)\n",
        "  test_images = set_pixels_binary(x_test)\n",
        "\n",
        "  train_images = train_images.reshape(len(y_train), image_shape[0], image_shape[1], N_image_channels).astype('float32')\n",
        "  test_images = test_images.reshape(len(y_test), image_shape[0], image_shape[1], N_image_channels).astype('float32')\n",
        "\n",
        "  batch_size = 100\n",
        "  train_dataset = tf.data.Dataset.from_tensor_slices((train_images)).shuffle(len(y_train)).batch(batch_size)\n",
        "  test_dataset = tf.data.Dataset.from_tensor_slices((test_images)).shuffle(len(y_test)).batch(batch_size)\n",
        "  return x_train, y_train, x_test, y_test, train_dataset, test_dataset"
      ],
      "execution_count": 0,
      "outputs": []
    },
    {
      "cell_type": "markdown",
      "metadata": {
        "colab_type": "text",
        "id": "RXAUM1Hh0ea0"
      },
      "source": [
        "#### Create Variational Autoencoder (VAE) Model"
      ]
    },
    {
      "cell_type": "code",
      "metadata": {
        "colab_type": "code",
        "id": "oiLqehle0ea2",
        "colab": {}
      },
      "source": [
        "class CVAE(tf.keras.Model):\n",
        "    def __init__(self, z_size):\n",
        "        super(CVAE, self).__init__()\n",
        "        self.z_size = z_size\n",
        "        self.encoder_nn = tf.keras.models.Sequential([ \n",
        "                          tf.keras.layers.Conv2D(32, (3,3), activation='relu', input_shape=(28, 28, 1)),\n",
        "                          tf.keras.layers.Conv2D(64, (3,3), activation='relu'),\n",
        "                          tf.keras.layers.Flatten(),\n",
        "                          tf.keras.layers.Dense(z_size*2)\n",
        "                          ])\n",
        "\n",
        "        self.decoder_nn = tf.keras.models.Sequential([\n",
        "                          tf.keras.layers.Dense(units=24*24*64, activation='relu', input_shape=(z_size,)),\n",
        "                          tf.keras.layers.Reshape(target_shape=(24, 24, 64)),\n",
        "                          tf.keras.layers.Conv2DTranspose(32, (3,3), activation='relu'),\n",
        "                          tf.keras.layers.Conv2DTranspose(1, (3,3)),\n",
        "                          ])\n",
        "\n",
        "    def encode(self, x):\n",
        "        encoder_nn_output = self.encoder_nn(x)\n",
        "        z_mean, z_logvar = tf.split(encoder_nn_output, num_or_size_splits=2, axis=1)\n",
        "        return z_mean, z_logvar\n",
        "\n",
        "    def reparameterize(self, z_mean, z_logvar):\n",
        "        epsilon = tf.random.normal(shape=z_mean.shape)\n",
        "        z_sampled = epsilon * tf.exp(z_logvar * 0.5) + z_mean\n",
        "        return z_sampled\n",
        "      \n",
        "\n",
        "    def decode(self, z):\n",
        "        pixel_output = self.decoder_nn(z)\n",
        "        pixel_prob = tf.math.sigmoid(pixel_output)\n",
        "        return pixel_prob"
      ],
      "execution_count": 0,
      "outputs": []
    },
    {
      "cell_type": "markdown",
      "metadata": {
        "colab_type": "text",
        "id": "ruRl4I4K0ea8"
      },
      "source": [
        "#### Define the loss function "
      ]
    },
    {
      "cell_type": "code",
      "metadata": {
        "colab_type": "code",
        "id": "Y1QqvVSV0ea-",
        "colab": {}
      },
      "source": [
        "def calculate_ELBO(model, x):\n",
        "    z_mean, z_logvar = model.encode(x)\n",
        "    z = model.reparameterize(z_mean, z_logvar)\n",
        "    \n",
        "    pixel_prob = model.decode(z)\n",
        "    \n",
        "    logpx_z_pixels = tf.math.log(pixel_prob + 1e-10)*x + tf.math.log(1-pixel_prob + 1e-10)*(1-x)\n",
        "    logpx_z_images = tf.reduce_sum(logpx_z_pixels, axis=[1, 2, 3])\n",
        "    logpx_z = tf.reduce_mean (logpx_z_images)\n",
        "    \n",
        "    KL_parameters = -0.5 * (1 + z_logvar - (z_mean ** 2.0) - tf.exp(z_logvar))\n",
        "    KL_vectors = tf.reduce_sum(KL_parameters, axis=1)\n",
        "    KL = tf.reduce_mean(KL_vectors)\n",
        "    \n",
        "    ELBO = (logpx_z - KL)\n",
        "    \n",
        "    return -ELBO, logpx_z, KL #Negative because we want to maximise it"
      ],
      "execution_count": 0,
      "outputs": []
    },
    {
      "cell_type": "code",
      "metadata": {
        "id": "v-uLxJpldXo_",
        "colab_type": "code",
        "colab": {}
      },
      "source": [
        "def calculate_pixel_squared(model, x):\n",
        "    z_mean, z_logvar = model.encode(x)\n",
        "    z = model.reparameterize(z_mean, z_logvar)\n",
        "    pixel_prob = model.decode(z)\n",
        "    pixel_squared = np.square(pixel_prob - x)\n",
        "    pixel_squared = tf.reduce_sum(pixel_squared, axis=[1,2,3])\n",
        "    pixel_squared = tf.reduce_mean (pixel_squared)\n",
        "    return pixel_squared"
      ],
      "execution_count": 0,
      "outputs": []
    },
    {
      "cell_type": "code",
      "metadata": {
        "id": "toxPmTwwy0TE",
        "colab_type": "code",
        "colab": {}
      },
      "source": [
        "def calculate_ssim(model, x):\n",
        "  z_mean, z_logvar = model.encode(x)\n",
        "  z = model.reparameterize(z_mean, z_logvar)\n",
        "  y = model.decode(z)\n",
        "\n",
        "  x = tf.convert_to_tensor(x)\n",
        "  y = tf.convert_to_tensor(y)\n",
        "  ssim = tf.image.ssim(x[:,:,:,:],y[:,:,:,:], input_range, filter_size=11,filter_sigma=0.1,k1=0.00001,k2=0.03)\n",
        "  ssim = tf.reduce_mean(ssim)\n",
        "  return 1-ssim"
      ],
      "execution_count": 0,
      "outputs": []
    },
    {
      "cell_type": "markdown",
      "metadata": {
        "colab_type": "text",
        "id": "vLIG3YRm0ebE"
      },
      "source": [
        "#### Define the optimizer"
      ]
    },
    {
      "cell_type": "code",
      "metadata": {
        "colab_type": "code",
        "id": "n5eaPpso0ebG",
        "colab": {}
      },
      "source": [
        "optimizer = tf.keras.optimizers.Adam(learning_rate = 0.001)"
      ],
      "execution_count": 0,
      "outputs": []
    },
    {
      "cell_type": "markdown",
      "metadata": {
        "colab_type": "text",
        "id": "NvoBcADVjvek"
      },
      "source": [
        "#### Define loss metrics"
      ]
    },
    {
      "cell_type": "code",
      "metadata": {
        "colab_type": "code",
        "id": "DhYcUUvYjven",
        "colab": {}
      },
      "source": [
        "train_loss = tf.keras.metrics.Mean(name='train_loss')\n",
        "test_loss = tf.keras.metrics.Mean(name='test_loss')"
      ],
      "execution_count": 0,
      "outputs": []
    },
    {
      "cell_type": "markdown",
      "metadata": {
        "colab_type": "text",
        "id": "VngH-amb0ebM"
      },
      "source": [
        "#### Define train and test steps"
      ]
    },
    {
      "cell_type": "code",
      "metadata": {
        "colab_type": "code",
        "id": "dNN76Ed_0ebO",
        "colab": {}
      },
      "source": [
        "def train_step(model, x, optimizer):\n",
        "    with tf.GradientTape() as tape:\n",
        "        loss,_,_ = calculate_ELBO(model, x)\n",
        "        gradients = tape.gradient(loss, model.trainable_variables)\n",
        "        optimizer.apply_gradients(zip(gradients, model.trainable_variables))\n",
        "        train_loss(loss)\n",
        "\n",
        "def test_step(model, x, optimizer):\n",
        "    loss,_,_ = calculate_ELBO(model, x)\n",
        "    test_loss(loss)"
      ],
      "execution_count": 0,
      "outputs": []
    },
    {
      "cell_type": "markdown",
      "metadata": {
        "id": "Q6eTvDNOZGjW",
        "colab_type": "text"
      },
      "source": [
        "#### Generate random image from latent vector"
      ]
    },
    {
      "cell_type": "code",
      "metadata": {
        "colab_type": "code",
        "id": "JUG20q7J0ebW",
        "colab": {}
      },
      "source": [
        "def generate_images(model, z_random, figures_to_plot):\n",
        "    generated_prob = model.decode(z_random)\n",
        "    generated_prob = np.squeeze(generated_prob, axis=3)\n",
        "    plot_images(generated_prob, _, figures_to_plot, include_labels=False)"
      ],
      "execution_count": 0,
      "outputs": []
    },
    {
      "cell_type": "code",
      "metadata": {
        "id": "SprYQb15_4ta",
        "colab_type": "code",
        "colab": {}
      },
      "source": [
        "def train_test_dataset(model, train_dataset, test_dataset, epochs, generate=True):\n",
        "  plots_per_epoch = 10\n",
        "  z_random = tf.random.normal(shape=[plots_per_epoch, z_size])\n",
        "  \n",
        "  test_ELBO = []\n",
        "  train_ELBO = []\n",
        "  epoch_number = []  \n",
        "  for epoch in range(epochs):\n",
        "    print('Epoch {}'.format(epoch))\n",
        "    for train_x in train_dataset: \n",
        "      train_step(model, train_x, optimizer)\n",
        "  \n",
        "    for test_x in test_dataset:\n",
        "      test_step(model, test_x, optimizer)\n",
        "    \n",
        "    test_ELBO.append(-test_loss.result())\n",
        "    train_ELBO.append(-train_loss.result())\n",
        "    epoch_number.append(epoch)\n",
        "    \n",
        "    clear_output()\n",
        "    if generate:\n",
        "      generate_images(model, z_random, [0,plots_per_epoch])\n",
        "    plt.plot(epoch_number, test_ELBO, train_ELBO)\n",
        "    plt.legend(['test','train'])\n",
        "    plt.title('model')\n",
        "    plt.show()\n",
        "  train_loss.reset_states()\n",
        "  test_loss.reset_states()"
      ],
      "execution_count": 0,
      "outputs": []
    },
    {
      "cell_type": "markdown",
      "metadata": {
        "colab_type": "text",
        "id": "b4MLsF1E0ebZ"
      },
      "source": [
        "#### Train the data"
      ]
    },
    {
      "cell_type": "code",
      "metadata": {
        "id": "Y_uvcaHy-Zcf",
        "colab_type": "code",
        "colab": {}
      },
      "source": [
        "def change_ratio(x, y, chosen_classes, chosen_numbers):\n",
        "    x_new = np.zeros([0,image_shape[0], image_shape[1]])\n",
        "    y_new = np.zeros([0])\n",
        "    n_classes = len(chosen_classes)\n",
        "    for i in range (n_classes):\n",
        "        if chosen_classes[i] != -1:\n",
        "            x_class, y_class = pick_class(x, y, [chosen_classes[i]])\n",
        "            x_class = cut_data(x_class, chosen_numbers[i])\n",
        "        y_class = cut_data(y_class, chosen_numbers[i])\n",
        "        x_new = np.concatenate((x_new, x_class))\n",
        "        y_new = np.concatenate((y_new, y_class))\n",
        "    return x_new, y_new"
      ],
      "execution_count": 0,
      "outputs": []
    },
    {
      "cell_type": "code",
      "metadata": {
        "colab_type": "code",
        "id": "pi8CDE0g0eba",
        "outputId": "05bc7af8-c111-4dd5-8722-e43903636a4f",
        "colab": {
          "base_uri": "https://localhost:8080/",
          "height": 393
        }
      },
      "source": [
        "chosen_classes=[0,1,2,3,4,5,6,7,8,9]\n",
        "chosen_numbers = [5400, 5400, 5400, 5400, 5400, 5400, 5400, 5400, 5400, 5400]\n",
        "x_train, y_train = change_ratio(x_train, y_train, chosen_classes, chosen_numbers)\n",
        "chosen_numbers = [850, 850, 850, 850, 850, 850, 850, 850, 850, 850]\n",
        "x_test, y_test = change_ratio(x_test, y_test, chosen_classes, chosen_numbers)\n",
        "\n",
        "x_train_0, y_train_0, x_test_0, y_test_0, train_dataset_0, test_dataset_0 = setup_dataset(x_train, y_train, x_test, y_test, chosen_classes=[0])\n",
        "x_train_1, y_train_1, x_test_1, y_test_1, train_dataset_1, test_dataset_1 = setup_dataset(x_train, y_train, x_test, y_test, chosen_classes=[1])\n",
        "x_train_2, y_train_2, x_test_2, y_test_2, train_dataset_2, test_dataset_2 = setup_dataset(x_train, y_train, x_test, y_test, chosen_classes=[2])\n",
        "x_train_3, y_train_3, x_test_3, y_test_3, train_dataset_3, test_dataset_3 = setup_dataset(x_train, y_train, x_test, y_test, chosen_classes=[3])\n",
        "x_train_4, y_train_4, x_test_4, y_test_4, train_dataset_4, test_dataset_4 = setup_dataset(x_train, y_train, x_test, y_test, chosen_classes=[4])\n",
        "x_train_5, y_train_5, x_test_5, y_test_5, train_dataset_5, test_dataset_5 = setup_dataset(x_train, y_train, x_test, y_test, chosen_classes=[5])\n",
        "x_train_6, y_train_6, x_test_6, y_test_6, train_dataset_6, test_dataset_6 = setup_dataset(x_train, y_train, x_test, y_test, chosen_classes=[6])\n",
        "x_train_7, y_train_7, x_test_7, y_test_7, train_dataset_7, test_dataset_7 = setup_dataset(x_train, y_train, x_test, y_test, chosen_classes=[7])\n",
        "x_train_8, y_train_8, x_test_8, y_test_8, train_dataset_8, test_dataset_8 = setup_dataset(x_train, y_train, x_test, y_test, chosen_classes=[8])\n",
        "x_train_9, y_train_9, x_test_9, y_test_9, train_dataset_9, test_dataset_9 = setup_dataset(x_train, y_train, x_test, y_test, chosen_classes=[9])\n",
        "\n",
        "z_size = 10\n",
        "model_0 = CVAE(z_size)\n",
        "model_1 = CVAE(z_size)\n",
        "model_2 = CVAE(z_size)\n",
        "model_3 = CVAE(z_size)\n",
        "model_4 = CVAE(z_size)\n",
        "model_5 = CVAE(z_size)\n",
        "model_6 = CVAE(z_size)\n",
        "model_7 = CVAE(z_size)\n",
        "model_8 = CVAE(z_size)\n",
        "model_9 = CVAE(z_size)\n",
        "\n",
        "model_dict = {'0' : model_0,\n",
        "              '1' : model_1,\n",
        "\t\t          '2' : model_2,\n",
        "              '3' : model_3,\n",
        "              '4' : model_4,\n",
        "              '5' : model_5,\n",
        "              '6' : model_6,\n",
        "              '7' : model_7,\n",
        "              '8' : model_8,\n",
        "              '9' : model_9,}\n",
        "\n",
        "train_test_dataset(model_0, train_dataset_0, test_dataset_0, 25, generate=True)\n",
        "train_test_dataset(model_1, train_dataset_1, test_dataset_1, 25, generate=True)\n",
        "train_test_dataset(model_2, train_dataset_2, test_dataset_2, 25, generate=True)\n",
        "train_test_dataset(model_3, train_dataset_3, test_dataset_3, 25, generate=True)\n",
        "train_test_dataset(model_4, train_dataset_4, test_dataset_4, 25, generate=True)\n",
        "train_test_dataset(model_5, train_dataset_5, test_dataset_5, 25, generate=True)\n",
        "train_test_dataset(model_6, train_dataset_6, test_dataset_6, 25, generate=True)\n",
        "train_test_dataset(model_7, train_dataset_7, test_dataset_7, 25, generate=True)\n",
        "train_test_dataset(model_8, train_dataset_8, test_dataset_8, 25, generate=True)\n",
        "train_test_dataset(model_9, train_dataset_9, test_dataset_9, 25, generate=True)"
      ],
      "execution_count": 12,
      "outputs": [
        {
          "output_type": "display_data",
          "data": {
            "image/png": "[encoded data removed]",
            "text/plain": [
              "<Figure size 1440x144 with 10 Axes>"
            ]
          },
          "metadata": {
            "tags": []
          }
        },
        {
          "output_type": "display_data",
          "data": {
            "image/png": "[encoded data removed]",
            "text/plain": [
              "<Figure size 432x288 with 1 Axes>"
            ]
          },
          "metadata": {
            "tags": []
          }
        }
      ]
    },
    {
      "cell_type": "code",
      "metadata": {
        "id": "t5EO369RTvjX",
        "colab_type": "code",
        "colab": {}
      },
      "source": [
        "#x_train_024, y_train_024, x_test_024, y_test_024, train_dataset_024, test_dataset_024 = setup_dataset(x_train, y_train, x_test, y_test, chosen_classes=[0,2,4])\n",
        "#z_size = 2\n",
        "#model_024 = CVAE(z_size)\n",
        "#train_test_dataset(model_024, train_dataset_024, test_dataset_024, 20, generate=True)"
      ],
      "execution_count": 0,
      "outputs": []
    },
    {
      "cell_type": "markdown",
      "metadata": {
        "id": "Pnr-d-OQZCI5",
        "colab_type": "text"
      },
      "source": [
        "#### Reconstruct images"
      ]
    },
    {
      "cell_type": "code",
      "metadata": {
        "colab_type": "code",
        "id": "jz0G3WmQD2vI",
        "outputId": "603cff9c-f9a7-4daf-d83e-6023f2a65810",
        "colab": {
          "base_uri": "https://localhost:8080/",
          "height": 285
        }
      },
      "source": [
        "def reconstruct_images(model, images):\n",
        "    images_n = len(images)\n",
        "    x = images/input_range\n",
        "    x[x >= 0.5] = 1.0\n",
        "    x[x < 0.5] = 0.0\n",
        "    x = x.reshape(images_n, image_shape[0], image_shape[1], N_image_channels).astype('float32')\n",
        "    \n",
        "    z_mean, z_logvar = model.encode(x)\n",
        "    z = model.reparameterize(z_mean, z_logvar)\n",
        "    pixel_output = model.decode(z)\n",
        "    pixel_prob = tf.math.sigmoid(pixel_output)\n",
        "    pixel_prob = np.squeeze(pixel_prob, axis=3)\n",
        "\n",
        "    loss = np.empty([images_n])\n",
        "    for i in range(images_n):\n",
        "        loss[i],_,_ = calculate_ELBO(model,x[i:i+1])\n",
        "    loss = loss.astype('float16')\n",
        "    \n",
        "    print('Original Pictures:')\n",
        "    plot_images(images, _, figures_to_plot=[0,images_n], include_labels=False)\n",
        "    print('Reconstructed Pictures, with ELBO loss:')\n",
        "    plot_images(pixel_prob, -loss, figures_to_plot=[0,images_n], include_labels=True)\n",
        "\n",
        "reconstruct_images(model_0, x_test_0[0:10])"
      ],
      "execution_count": 240,
      "outputs": [
        {
          "output_type": "stream",
          "text": [
            "Original Pictures:\n"
          ],
          "name": "stdout"
        },
        {
          "output_type": "display_data",
          "data": {
            "image/png": "[encoded data removed]",
            "text/plain": [
              "<Figure size 1440x144 with 10 Axes>"
            ]
          },
          "metadata": {
            "tags": []
          }
        },
        {
          "output_type": "stream",
          "text": [
            "Reconstructed Pictures, with ELBO loss:\n"
          ],
          "name": "stdout"
        },
        {
          "output_type": "display_data",
          "data": {
            "image/png": "[encoded data removed]",
            "text/plain": [
              "<Figure size 1440x144 with 10 Axes>"
            ]
          },
          "metadata": {
            "tags": []
          }
        }
      ]
    },
    {
      "cell_type": "markdown",
      "metadata": {
        "id": "8juDbid_YrGS",
        "colab_type": "text"
      },
      "source": [
        "#### Visualize the latent space"
      ]
    },
    {
      "cell_type": "code",
      "metadata": {
        "colab_type": "code",
        "id": "nOgW1CZIjvfG",
        "outputId": "a88c1a27-b174-47cb-c6a7-fbe627d578da",
        "colab": {
          "base_uri": "https://localhost:8080/",
          "height": 448
        }
      },
      "source": [
        "def visualize_latent_space(model, range1, range2, data_x, data_y, a, b):\n",
        "  plot = plt.figure(figsize=[7,7])\n",
        "  outliers=0\n",
        "  for i in range(range1, range2):\n",
        "    pic_visualize = data_x[i]\n",
        "    pic_visualize = pic_visualize.reshape(1, image_shape[0], image_shape[1], N_image_channels).astype('float32')\n",
        "    \n",
        "    z_mean, z_logvar = model.encode(pic_visualize)\n",
        "    z = model.reparameterize(z_mean, z_logvar)\n",
        "    \n",
        "    if any(z_logvar[:,i]>5 for i in range(z_size)):\n",
        "      outliers +=1\n",
        "      continue\n",
        "      \n",
        "    if data_y[i] == 0:\n",
        "      color = 'blue'\n",
        "    if data_y[i] == 1:\n",
        "      color = 'orange'\n",
        "    if data_y[i] == 2:\n",
        "      color = 'green'\n",
        "    if data_y[i] == 3:\n",
        "      color = 'red'\n",
        "    if data_y[i] == 4:\n",
        "      color = 'purple'  \n",
        "    if data_y[i] == 5:\n",
        "      color = 'brown'\n",
        "    if data_y[i] == 6:\n",
        "      color = 'pink'\n",
        "    if data_y[i] == 7:\n",
        "      color = 'gray'\n",
        "    if data_y[i] == 8:\n",
        "      color = 'black'\n",
        "    if data_y[i] == 9:\n",
        "      color = 'yellow'\n",
        "    plt.scatter(z[:,a],z[:,b], color=color, s=10)\n",
        "    #plt.xlim([-1000,1000])\n",
        "    #plt.ylim([-1000,1000])\n",
        "    #plt.annotate('{}'.format(i),(z[:,a],z[:,b]))\n",
        "  print('{} Outliers detected'.format(outliers))\n",
        "\n",
        "\n",
        "visualize_latent_space(model_0, 0,800, x_test_0, y_test_0, 0,1)\n",
        "\n",
        "#labels = []; \n",
        "#for i in range(N_train): labels.append(i)\n",
        "#plot_images(x_train, labels, [250,300])"
      ],
      "execution_count": 15,
      "outputs": [
        {
          "output_type": "stream",
          "text": [
            "0 Outliers detected\n"
          ],
          "name": "stdout"
        },
        {
          "output_type": "display_data",
          "data": {
            "image/png": "[encoded data removed]",
            "text/plain": [
              "<Figure size 504x504 with 1 Axes>"
            ]
          },
          "metadata": {
            "tags": []
          }
        }
      ]
    },
    {
      "cell_type": "markdown",
      "metadata": {
        "id": "ohcKBv7HYyaS",
        "colab_type": "text"
      },
      "source": [
        "#### Check reconstruction performance for untrained classes\n"
      ]
    },
    {
      "cell_type": "code",
      "metadata": {
        "id": "tOUcblcZ4Djo",
        "colab_type": "code",
        "outputId": "474a1a05-2df9-48f7-887d-dd9f06409dca",
        "colab": {
          "base_uri": "https://localhost:8080/",
          "height": 1000
        }
      },
      "source": [
        "table_of_losses = np.zeros([N_class, N_class])\n",
        "for i in range(0,N_class):\n",
        "  model = model_dict[str(i)]\n",
        "  print('Model trained with class {}'.format(i))\n",
        "  plt.figure(figsize=[9,4])\n",
        "  for j in range(N_class):\n",
        "    test_images = x_test[(y_test==j)]\n",
        "    test_images = set_pixels_binary(test_images)\n",
        "    test_images = test_images.reshape(len(test_images), image_shape[0], image_shape[1], N_image_channels).astype('float32')\n",
        "    #_,loss,_ = calculate_ELBO(model,test_images)\n",
        "    #loss = -calculate_pixel_squared(model,test_images)\n",
        "    loss = calculate_ssim(model, test_images)\n",
        "    table_of_losses[j,i] = loss\n",
        "    if j==i:\n",
        "      color='red'\n",
        "    else:\n",
        "      color='blue'\n",
        "    plt.bar(j,loss.numpy(),color=color)\n",
        "    #print('ELBO loss for class {}: {}'.format(i,loss))\n",
        "  plt.show()\n",
        "\n",
        "for i in range(N_class):\n",
        "    table_of_losses[i,:] = table_of_losses[i,:]/np.min(table_of_losses[i,:])\n",
        "  \n",
        "\n",
        "# reconstruct_images(x_test[(y_test==8)][0:10], test_images[(y_test==8)][0:10])\n",
        "\n",
        "#visualize_latent_space(0,1000, x_train, y_train, 0,1)\n",
        "#classes_to_pick = [1]\n",
        "#x_reconstruct_test, y_reconstruct_test = pick_class(x_test, y_test, classes_to_pick)\n",
        "#visualize_latent_space(0,100, x_reconstruct_test, y_reconstruct_test, 0,1)\n"
      ],
      "execution_count": 321,
      "outputs": [
        {
          "output_type": "stream",
          "text": [
            "Model trained with class 0\n"
          ],
          "name": "stdout"
        },
        {
          "output_type": "display_data",
          "data": {
            "image/png": "[encoded data removed]",
            "text/plain": [
              "<Figure size 648x288 with 1 Axes>"
            ]
          },
          "metadata": {
            "tags": []
          }
        },
        {
          "output_type": "stream",
          "text": [
            "Model trained with class 1\n"
          ],
          "name": "stdout"
        },
        {
          "output_type": "display_data",
          "data": {
            "image/png": "[encoded data removed]",
            "text/plain": [
              "<Figure size 648x288 with 1 Axes>"
            ]
          },
          "metadata": {
            "tags": []
          }
        },
        {
          "output_type": "stream",
          "text": [
            "Model trained with class 2\n"
          ],
          "name": "stdout"
        },
        {
          "output_type": "display_data",
          "data": {
            "image/png": "[encoded data removed]",
            "text/plain": [
              "<Figure size 648x288 with 1 Axes>"
            ]
          },
          "metadata": {
            "tags": []
          }
        },
        {
          "output_type": "stream",
          "text": [
            "Model trained with class 3\n"
          ],
          "name": "stdout"
        },
        {
          "output_type": "display_data",
          "data": {
            "image/png": "[encoded data removed]",
            "text/plain": [
              "<Figure size 648x288 with 1 Axes>"
            ]
          },
          "metadata": {
            "tags": []
          }
        },
        {
          "output_type": "stream",
          "text": [
            "Model trained with class 4\n"
          ],
          "name": "stdout"
        },
        {
          "output_type": "display_data",
          "data": {
            "image/png": "[encoded data removed]",
            "text/plain": [
              "<Figure size 648x288 with 1 Axes>"
            ]
          },
          "metadata": {
            "tags": []
          }
        },
        {
          "output_type": "stream",
          "text": [
            "Model trained with class 5\n"
          ],
          "name": "stdout"
        },
        {
          "output_type": "display_data",
          "data": {
            "image/png": "[encoded data removed]",
            "text/plain": [
              "<Figure size 648x288 with 1 Axes>"
            ]
          },
          "metadata": {
            "tags": []
          }
        },
        {
          "output_type": "stream",
          "text": [
            "Model trained with class 6\n"
          ],
          "name": "stdout"
        },
        {
          "output_type": "display_data",
          "data": {
            "image/png": "[encoded data removed]",
            "text/plain": [
              "<Figure size 648x288 with 1 Axes>"
            ]
          },
          "metadata": {
            "tags": []
          }
        },
        {
          "output_type": "stream",
          "text": [
            "Model trained with class 7\n"
          ],
          "name": "stdout"
        },
        {
          "output_type": "display_data",
          "data": {
            "image/png": "[encoded data removed]",
            "text/plain": [
              "<Figure size 648x288 with 1 Axes>"
            ]
          },
          "metadata": {
            "tags": []
          }
        },
        {
          "output_type": "stream",
          "text": [
            "Model trained with class 8\n"
          ],
          "name": "stdout"
        },
        {
          "output_type": "display_data",
          "data": {
            "image/png": "[encoded data removed]",
            "text/plain": [
              "<Figure size 648x288 with 1 Axes>"
            ]
          },
          "metadata": {
            "tags": []
          }
        },
        {
          "output_type": "stream",
          "text": [
            "Model trained with class 9\n"
          ],
          "name": "stdout"
        },
        {
          "output_type": "display_data",
          "data": {
            "image/png": "[encoded data removed]",
            "text/plain": [
              "<Figure size 648x288 with 1 Axes>"
            ]
          },
          "metadata": {
            "tags": []
          }
        }
      ]
    },
    {
      "cell_type": "markdown",
      "metadata": {
        "id": "AO32aw-geBRj",
        "colab_type": "text"
      },
      "source": [
        "#### Classify test images"
      ]
    },
    {
      "cell_type": "code",
      "metadata": {
        "id": "T0dF87RROVLe",
        "colab_type": "code",
        "colab": {}
      },
      "source": [
        ""
      ],
      "execution_count": 0,
      "outputs": []
    },
    {
      "cell_type": "code",
      "metadata": {
        "id": "BbzrkU3FweFO",
        "colab_type": "code",
        "colab": {}
      },
      "source": [
        "_, _, x_test_classes, y_test_classes, _, _ = setup_dataset(x_train, y_train, x_test, y_test, chosen_classes=[0,1,2,3,4,5,6,7,8,9])\n",
        "predicted_class = np.zeros([1,len(x_test_classes)])\n",
        "predicted_probabilities = np.zeros([len(x_test_classes),10])\n",
        "for i in range(len(x_test_classes)):\n",
        "  if not i%1:\n",
        "    clear_output()\n",
        "    print('Progress:{}%'.format(100*(i+1)/len(x_test_classes)))\n",
        "  test_image = x_test_classes[i]/input_range\n",
        "  test_image[test_image >= 0.5] = 1.0\n",
        "  test_image[test_image < 0.5] = 0.0\n",
        "  test_image = test_image.reshape(1, image_shape[0], image_shape[1], N_image_channels).astype('float32')\n",
        "  \n",
        "  loss_per_model = []\n",
        "  for j in range(0,10):\n",
        "    model = model_dict[str(j)]\n",
        "    #_,loss,_ = calculate_ELBO(model,test_image)\n",
        "    loss = calculate_ssim(model,x)\n",
        "    #print('ELBO loss for class {}: {}'.format(i,loss))\n",
        "    loss_per_model.append(loss)\n",
        "  a = loss_per_model/np.min(loss_per_model)\n",
        "  a = np.multiply(a,-15)\n",
        "  e_x = np.exp(a)\n",
        "  predicted_probabilities[i,:] = (e_x / e_x.sum())*100\n",
        "  #print(predicted_probabilities[i,:])\n",
        "  predicted_class[0,i] = loss_per_model.index(min(loss_per_model))\n",
        "  #print(predicted_class[0,i])\n",
        "print(predicted_class)"
      ],
      "execution_count": 0,
      "outputs": []
    },
    {
      "cell_type": "markdown",
      "metadata": {
        "id": "J8fLaFXBuzOs",
        "colab_type": "text"
      },
      "source": [
        "#### Check accuracy and plot misslabeled images"
      ]
    },
    {
      "cell_type": "code",
      "metadata": {
        "id": "v37g0zTrabrK",
        "colab_type": "code",
        "outputId": "c5c2bfdc-1016-45be-9338-43c818749f2d",
        "colab": {
          "base_uri": "https://localhost:8080/",
          "height": 589
        }
      },
      "source": [
        "import pandas as pd\n",
        "predicted_class = predicted_class.astype('int')\n",
        "y_test_classes = y_test_classes.astype('int')\n",
        "\n",
        "wrong_guesses = []\n",
        "table_of_counts = np.zeros([N_class, N_class+1])\n",
        "for i in range(predicted_class.shape[1]):\n",
        "    table_of_counts[y_test_classes[i], predicted_class[0,i]]+=1\n",
        "    if y_test_classes[i] != predicted_class[0,i]:\n",
        "        wrong_guesses.append(i)\n",
        "trace_count = table_of_counts.trace().astype('int')\n",
        "sum_count = table_of_counts.sum().astype('int')\n",
        "for i in range(N_class):\n",
        "    accuracy_of_class = 100*table_of_counts[i,i]/np.sum(table_of_counts[i,0:-1])\n",
        "    table_of_counts[i,-1] = accuracy_of_class.astype('float16')\n",
        "\n",
        "index = list(str('-') * N_class)\n",
        "columns = list(str('-') * (N_class+1))\n",
        "for i in range(N_class):\n",
        "    index[i]= 'Class '+ str(i)\n",
        "    columns[i] = '|' + str(i) + '_Counts|'\n",
        "columns[-1] = 'Percentage'\n",
        "table = pd.DataFrame.from_records(table_of_counts, index=index, columns=columns)\n",
        "\n",
        "probabilities = np.zeros([len(wrong_guesses)])\n",
        "pics_to_plot = list(x_test[i] for i in wrong_guesses)\n",
        "labels = list(predicted_class[0,i] for i in wrong_guesses)\n",
        "for i in range(len(wrong_guesses)):\n",
        "    probabilities[i] = predicted_probabilities[wrong_guesses[i],labels[i]]\n",
        "    probabilities = probabilities.astype('int')\n",
        "\n",
        "plot_images(pics_to_plot[0:50], probabilities[0:50], [0,len(labels[0:50])])\n",
        "\n",
        "all_probabilities = np.zeros([len(x_test_classes)])\n",
        "for i in range(len(x_test_classes)):\n",
        "    all_probabilities[i] = predicted_probabilities[i,predicted_class[0,i]]\n",
        "    all_probabilities = all_probabilities.astype('int')#\n",
        "\n",
        "#plot_images(x_test_classes[0:50], all_probabilities[0:50], [0,len(labels[0:50])])"
      ],
      "execution_count": 152,
      "outputs": [
        {
          "output_type": "display_data",
          "data": {
            "image/png": "[encoded data removed]",
            "text/plain": [
              "<Figure size 1440x720 with 50 Axes>"
            ]
          },
          "metadata": {
            "tags": []
          }
        }
      ]
    },
    {
      "cell_type": "code",
      "metadata": {
        "id": "l5gCsbK4HhSP",
        "colab_type": "code",
        "outputId": "eafcb2d2-5933-40ef-e715-7cfea8a1cfce",
        "colab": {
          "base_uri": "https://localhost:8080/",
          "height": 393
        }
      },
      "source": [
        "print('Correctly labelled pictures:{}/{} -> Accuracy: {}%'.format(trace_count, sum_count, trace_count/sum_count*100))\n",
        "print('Incorrectly labelled pictures:{}/{} -> Error: {}%'.format(sum_count-trace_count, sum_count, (sum_count-trace_count)/sum_count*100))\n",
        "table"
      ],
      "execution_count": 153,
      "outputs": [
        {
          "output_type": "stream",
          "text": [
            "Correctly labelled pictures:8292/8500 -> Accuracy: 97.55294117647058%\n",
            "Incorrectly labelled pictures:208/8500 -> Error: 2.447058823529412%\n"
          ],
          "name": "stdout"
        },
        {
          "output_type": "execute_result",
          "data": {
            "text/html": [
              "<div>\n",
              "<style scoped>\n",
              "    .dataframe tbody tr th:only-of-type {\n",
              "        vertical-align: middle;\n",
              "    }\n",
              "\n",
              "    .dataframe tbody tr th {\n",
              "        vertical-align: top;\n",
              "    }\n",
              "\n",
              "    .dataframe thead th {\n",
              "        text-align: right;\n",
              "    }\n",
              "</style>\n",
              "<table border=\"1\" class=\"dataframe\">\n",
              "  <thead>\n",
              "    <tr style=\"text-align: right;\">\n",
              "      <th></th>\n",
              "      <th>|0_Counts|</th>\n",
              "      <th>|1_Counts|</th>\n",
              "      <th>|2_Counts|</th>\n",
              "      <th>|3_Counts|</th>\n",
              "      <th>|4_Counts|</th>\n",
              "      <th>|5_Counts|</th>\n",
              "      <th>|6_Counts|</th>\n",
              "      <th>|7_Counts|</th>\n",
              "      <th>|8_Counts|</th>\n",
              "      <th>|9_Counts|</th>\n",
              "      <th>Percentage</th>\n",
              "    </tr>\n",
              "  </thead>\n",
              "  <tbody>\n",
              "    <tr>\n",
              "      <th>Class 0</th>\n",
              "      <td>844.0</td>\n",
              "      <td>0.0</td>\n",
              "      <td>0.0</td>\n",
              "      <td>0.0</td>\n",
              "      <td>0.0</td>\n",
              "      <td>2.0</td>\n",
              "      <td>2.0</td>\n",
              "      <td>1.0</td>\n",
              "      <td>1.0</td>\n",
              "      <td>0.0</td>\n",
              "      <td>99.3125</td>\n",
              "    </tr>\n",
              "    <tr>\n",
              "      <th>Class 1</th>\n",
              "      <td>0.0</td>\n",
              "      <td>828.0</td>\n",
              "      <td>3.0</td>\n",
              "      <td>3.0</td>\n",
              "      <td>2.0</td>\n",
              "      <td>2.0</td>\n",
              "      <td>4.0</td>\n",
              "      <td>4.0</td>\n",
              "      <td>4.0</td>\n",
              "      <td>0.0</td>\n",
              "      <td>97.4375</td>\n",
              "    </tr>\n",
              "    <tr>\n",
              "      <th>Class 2</th>\n",
              "      <td>2.0</td>\n",
              "      <td>0.0</td>\n",
              "      <td>838.0</td>\n",
              "      <td>4.0</td>\n",
              "      <td>1.0</td>\n",
              "      <td>0.0</td>\n",
              "      <td>1.0</td>\n",
              "      <td>4.0</td>\n",
              "      <td>0.0</td>\n",
              "      <td>0.0</td>\n",
              "      <td>98.5625</td>\n",
              "    </tr>\n",
              "    <tr>\n",
              "      <th>Class 3</th>\n",
              "      <td>2.0</td>\n",
              "      <td>0.0</td>\n",
              "      <td>0.0</td>\n",
              "      <td>830.0</td>\n",
              "      <td>0.0</td>\n",
              "      <td>14.0</td>\n",
              "      <td>0.0</td>\n",
              "      <td>0.0</td>\n",
              "      <td>3.0</td>\n",
              "      <td>1.0</td>\n",
              "      <td>97.6250</td>\n",
              "    </tr>\n",
              "    <tr>\n",
              "      <th>Class 4</th>\n",
              "      <td>0.0</td>\n",
              "      <td>0.0</td>\n",
              "      <td>0.0</td>\n",
              "      <td>0.0</td>\n",
              "      <td>838.0</td>\n",
              "      <td>0.0</td>\n",
              "      <td>4.0</td>\n",
              "      <td>2.0</td>\n",
              "      <td>1.0</td>\n",
              "      <td>5.0</td>\n",
              "      <td>98.5625</td>\n",
              "    </tr>\n",
              "    <tr>\n",
              "      <th>Class 5</th>\n",
              "      <td>0.0</td>\n",
              "      <td>0.0</td>\n",
              "      <td>0.0</td>\n",
              "      <td>9.0</td>\n",
              "      <td>0.0</td>\n",
              "      <td>833.0</td>\n",
              "      <td>1.0</td>\n",
              "      <td>0.0</td>\n",
              "      <td>6.0</td>\n",
              "      <td>1.0</td>\n",
              "      <td>98.0000</td>\n",
              "    </tr>\n",
              "    <tr>\n",
              "      <th>Class 6</th>\n",
              "      <td>3.0</td>\n",
              "      <td>0.0</td>\n",
              "      <td>1.0</td>\n",
              "      <td>0.0</td>\n",
              "      <td>5.0</td>\n",
              "      <td>10.0</td>\n",
              "      <td>826.0</td>\n",
              "      <td>0.0</td>\n",
              "      <td>5.0</td>\n",
              "      <td>0.0</td>\n",
              "      <td>97.1875</td>\n",
              "    </tr>\n",
              "    <tr>\n",
              "      <th>Class 7</th>\n",
              "      <td>0.0</td>\n",
              "      <td>1.0</td>\n",
              "      <td>2.0</td>\n",
              "      <td>3.0</td>\n",
              "      <td>4.0</td>\n",
              "      <td>0.0</td>\n",
              "      <td>0.0</td>\n",
              "      <td>835.0</td>\n",
              "      <td>2.0</td>\n",
              "      <td>3.0</td>\n",
              "      <td>98.2500</td>\n",
              "    </tr>\n",
              "    <tr>\n",
              "      <th>Class 8</th>\n",
              "      <td>3.0</td>\n",
              "      <td>0.0</td>\n",
              "      <td>2.0</td>\n",
              "      <td>8.0</td>\n",
              "      <td>1.0</td>\n",
              "      <td>4.0</td>\n",
              "      <td>0.0</td>\n",
              "      <td>3.0</td>\n",
              "      <td>826.0</td>\n",
              "      <td>3.0</td>\n",
              "      <td>97.1875</td>\n",
              "    </tr>\n",
              "    <tr>\n",
              "      <th>Class 9</th>\n",
              "      <td>1.0</td>\n",
              "      <td>1.0</td>\n",
              "      <td>0.0</td>\n",
              "      <td>10.0</td>\n",
              "      <td>23.0</td>\n",
              "      <td>10.0</td>\n",
              "      <td>0.0</td>\n",
              "      <td>5.0</td>\n",
              "      <td>6.0</td>\n",
              "      <td>794.0</td>\n",
              "      <td>93.4375</td>\n",
              "    </tr>\n",
              "  </tbody>\n",
              "</table>\n",
              "</div>"
            ],
            "text/plain": [
              "         |0_Counts|  |1_Counts|  |2_Counts|  ...  |8_Counts|  |9_Counts|  Percentage\n",
              "Class 0       844.0         0.0         0.0  ...         1.0         0.0     99.3125\n",
              "Class 1         0.0       828.0         3.0  ...         4.0         0.0     97.4375\n",
              "Class 2         2.0         0.0       838.0  ...         0.0         0.0     98.5625\n",
              "Class 3         2.0         0.0         0.0  ...         3.0         1.0     97.6250\n",
              "Class 4         0.0         0.0         0.0  ...         1.0         5.0     98.5625\n",
              "Class 5         0.0         0.0         0.0  ...         6.0         1.0     98.0000\n",
              "Class 6         3.0         0.0         1.0  ...         5.0         0.0     97.1875\n",
              "Class 7         0.0         1.0         2.0  ...         2.0         3.0     98.2500\n",
              "Class 8         3.0         0.0         2.0  ...       826.0         3.0     97.1875\n",
              "Class 9         1.0         1.0         0.0  ...         6.0       794.0     93.4375\n",
              "\n",
              "[10 rows x 11 columns]"
            ]
          },
          "metadata": {
            "tags": []
          },
          "execution_count": 153
        }
      ]
    },
    {
      "cell_type": "code",
      "metadata": {
        "id": "GV4d1Py2sXEd",
        "colab_type": "code",
        "colab": {}
      },
      "source": [
        "# Convolutional VAE for each class results in accuracy of 98.16% with z_size = 10\n",
        "# Convolutional VAE for each class results in accuracy of 89.90% with z_size = 2"
      ],
      "execution_count": 0,
      "outputs": []
    },
    {
      "cell_type": "code",
      "metadata": {
        "id": "yKrkYzGzH2Sh",
        "colab_type": "code",
        "outputId": "cf911dcc-0f62-450a-e4e5-7bd9cfa9f41d",
        "colab": {
          "base_uri": "https://localhost:8080/",
          "height": 359
        }
      },
      "source": [
        "index = list(str('-') * N_class)\n",
        "columns = list(str('-') * (N_class))\n",
        "for i in range(N_class):\n",
        "    index[i]= 'Class '+ str(i)\n",
        "    columns[i] = 'Model ' + str(i)\n",
        "\n",
        "table_loss = pd.DataFrame.from_records(np.around(table_of_losses, decimals=2), index=index, columns=columns)\n",
        "table_loss"
      ],
      "execution_count": 155,
      "outputs": [
        {
          "output_type": "execute_result",
          "data": {
            "text/html": [
              "<div>\n",
              "<style scoped>\n",
              "    .dataframe tbody tr th:only-of-type {\n",
              "        vertical-align: middle;\n",
              "    }\n",
              "\n",
              "    .dataframe tbody tr th {\n",
              "        vertical-align: top;\n",
              "    }\n",
              "\n",
              "    .dataframe thead th {\n",
              "        text-align: right;\n",
              "    }\n",
              "</style>\n",
              "<table border=\"1\" class=\"dataframe\">\n",
              "  <thead>\n",
              "    <tr style=\"text-align: right;\">\n",
              "      <th></th>\n",
              "      <th>Model 0</th>\n",
              "      <th>Model 1</th>\n",
              "      <th>Model 2</th>\n",
              "      <th>Model 3</th>\n",
              "      <th>Model 4</th>\n",
              "      <th>Model 5</th>\n",
              "      <th>Model 6</th>\n",
              "      <th>Model 7</th>\n",
              "      <th>Model 8</th>\n",
              "      <th>Model 9</th>\n",
              "    </tr>\n",
              "  </thead>\n",
              "  <tbody>\n",
              "    <tr>\n",
              "      <th>Class 0</th>\n",
              "      <td>1.00</td>\n",
              "      <td>16.62</td>\n",
              "      <td>3.60</td>\n",
              "      <td>4.36</td>\n",
              "      <td>6.68</td>\n",
              "      <td>3.46</td>\n",
              "      <td>2.73</td>\n",
              "      <td>5.72</td>\n",
              "      <td>3.62</td>\n",
              "      <td>3.60</td>\n",
              "    </tr>\n",
              "    <tr>\n",
              "      <th>Class 1</th>\n",
              "      <td>8.67</td>\n",
              "      <td>1.00</td>\n",
              "      <td>3.34</td>\n",
              "      <td>3.36</td>\n",
              "      <td>3.74</td>\n",
              "      <td>3.97</td>\n",
              "      <td>4.59</td>\n",
              "      <td>3.86</td>\n",
              "      <td>2.55</td>\n",
              "      <td>5.44</td>\n",
              "    </tr>\n",
              "    <tr>\n",
              "      <th>Class 2</th>\n",
              "      <td>4.04</td>\n",
              "      <td>5.28</td>\n",
              "      <td>1.00</td>\n",
              "      <td>2.46</td>\n",
              "      <td>4.84</td>\n",
              "      <td>4.05</td>\n",
              "      <td>4.48</td>\n",
              "      <td>4.22</td>\n",
              "      <td>4.00</td>\n",
              "      <td>4.59</td>\n",
              "    </tr>\n",
              "    <tr>\n",
              "      <th>Class 3</th>\n",
              "      <td>3.41</td>\n",
              "      <td>6.10</td>\n",
              "      <td>3.37</td>\n",
              "      <td>1.00</td>\n",
              "      <td>5.40</td>\n",
              "      <td>2.28</td>\n",
              "      <td>5.09</td>\n",
              "      <td>5.24</td>\n",
              "      <td>3.02</td>\n",
              "      <td>3.37</td>\n",
              "    </tr>\n",
              "    <tr>\n",
              "      <th>Class 4</th>\n",
              "      <td>4.80</td>\n",
              "      <td>7.78</td>\n",
              "      <td>4.52</td>\n",
              "      <td>3.97</td>\n",
              "      <td>1.00</td>\n",
              "      <td>3.44</td>\n",
              "      <td>4.04</td>\n",
              "      <td>3.21</td>\n",
              "      <td>3.45</td>\n",
              "      <td>3.06</td>\n",
              "    </tr>\n",
              "    <tr>\n",
              "      <th>Class 5</th>\n",
              "      <td>3.13</td>\n",
              "      <td>6.85</td>\n",
              "      <td>4.37</td>\n",
              "      <td>2.39</td>\n",
              "      <td>5.22</td>\n",
              "      <td>1.00</td>\n",
              "      <td>3.57</td>\n",
              "      <td>5.68</td>\n",
              "      <td>2.60</td>\n",
              "      <td>3.75</td>\n",
              "    </tr>\n",
              "    <tr>\n",
              "      <th>Class 6</th>\n",
              "      <td>3.19</td>\n",
              "      <td>7.99</td>\n",
              "      <td>4.74</td>\n",
              "      <td>4.62</td>\n",
              "      <td>3.21</td>\n",
              "      <td>2.74</td>\n",
              "      <td>1.00</td>\n",
              "      <td>6.42</td>\n",
              "      <td>2.95</td>\n",
              "      <td>4.45</td>\n",
              "    </tr>\n",
              "    <tr>\n",
              "      <th>Class 7</th>\n",
              "      <td>5.16</td>\n",
              "      <td>6.98</td>\n",
              "      <td>4.17</td>\n",
              "      <td>2.83</td>\n",
              "      <td>4.11</td>\n",
              "      <td>4.94</td>\n",
              "      <td>7.35</td>\n",
              "      <td>1.00</td>\n",
              "      <td>3.93</td>\n",
              "      <td>3.23</td>\n",
              "    </tr>\n",
              "    <tr>\n",
              "      <th>Class 8</th>\n",
              "      <td>2.87</td>\n",
              "      <td>5.69</td>\n",
              "      <td>2.74</td>\n",
              "      <td>2.12</td>\n",
              "      <td>3.62</td>\n",
              "      <td>2.25</td>\n",
              "      <td>3.00</td>\n",
              "      <td>3.54</td>\n",
              "      <td>1.00</td>\n",
              "      <td>2.77</td>\n",
              "    </tr>\n",
              "    <tr>\n",
              "      <th>Class 9</th>\n",
              "      <td>4.38</td>\n",
              "      <td>7.57</td>\n",
              "      <td>3.84</td>\n",
              "      <td>2.68</td>\n",
              "      <td>1.95</td>\n",
              "      <td>2.56</td>\n",
              "      <td>4.71</td>\n",
              "      <td>2.50</td>\n",
              "      <td>2.63</td>\n",
              "      <td>1.00</td>\n",
              "    </tr>\n",
              "  </tbody>\n",
              "</table>\n",
              "</div>"
            ],
            "text/plain": [
              "         Model 0  Model 1  Model 2  Model 3  ...  Model 6  Model 7  Model 8  Model 9\n",
              "Class 0     1.00    16.62     3.60     4.36  ...     2.73     5.72     3.62     3.60\n",
              "Class 1     8.67     1.00     3.34     3.36  ...     4.59     3.86     2.55     5.44\n",
              "Class 2     4.04     5.28     1.00     2.46  ...     4.48     4.22     4.00     4.59\n",
              "Class 3     3.41     6.10     3.37     1.00  ...     5.09     5.24     3.02     3.37\n",
              "Class 4     4.80     7.78     4.52     3.97  ...     4.04     3.21     3.45     3.06\n",
              "Class 5     3.13     6.85     4.37     2.39  ...     3.57     5.68     2.60     3.75\n",
              "Class 6     3.19     7.99     4.74     4.62  ...     1.00     6.42     2.95     4.45\n",
              "Class 7     5.16     6.98     4.17     2.83  ...     7.35     1.00     3.93     3.23\n",
              "Class 8     2.87     5.69     2.74     2.12  ...     3.00     3.54     1.00     2.77\n",
              "Class 9     4.38     7.57     3.84     2.68  ...     4.71     2.50     2.63     1.00\n",
              "\n",
              "[10 rows x 10 columns]"
            ]
          },
          "metadata": {
            "tags": []
          },
          "execution_count": 155
        }
      ]
    },
    {
      "cell_type": "code",
      "metadata": {
        "id": "ZSB3UKmZJVZV",
        "colab_type": "code",
        "colab": {
          "base_uri": "https://localhost:8080/",
          "height": 359
        },
        "outputId": "5381cbd2-879a-4caf-b6a3-e5225fd50bfa"
      },
      "source": [
        "index = list(str('-') * N_class)\n",
        "columns = list(str('-') * (N_class))\n",
        "for i in range(N_class):\n",
        "    index[i]= 'Class '+ str(i)\n",
        "    columns[i] = 'Model ' + str(i)\n",
        "\n",
        "table_loss = pd.DataFrame.from_records(np.around(table_of_losses, decimals=2), index=index, columns=columns)\n",
        "table_loss"
      ],
      "execution_count": 314,
      "outputs": [
        {
          "output_type": "execute_result",
          "data": {
            "text/html": [
              "<div>\n",
              "<style scoped>\n",
              "    .dataframe tbody tr th:only-of-type {\n",
              "        vertical-align: middle;\n",
              "    }\n",
              "\n",
              "    .dataframe tbody tr th {\n",
              "        vertical-align: top;\n",
              "    }\n",
              "\n",
              "    .dataframe thead th {\n",
              "        text-align: right;\n",
              "    }\n",
              "</style>\n",
              "<table border=\"1\" class=\"dataframe\">\n",
              "  <thead>\n",
              "    <tr style=\"text-align: right;\">\n",
              "      <th></th>\n",
              "      <th>Model 0</th>\n",
              "      <th>Model 1</th>\n",
              "      <th>Model 2</th>\n",
              "      <th>Model 3</th>\n",
              "      <th>Model 4</th>\n",
              "      <th>Model 5</th>\n",
              "      <th>Model 6</th>\n",
              "      <th>Model 7</th>\n",
              "      <th>Model 8</th>\n",
              "      <th>Model 9</th>\n",
              "    </tr>\n",
              "  </thead>\n",
              "  <tbody>\n",
              "    <tr>\n",
              "      <th>Class 0</th>\n",
              "      <td>1.00</td>\n",
              "      <td>1.46</td>\n",
              "      <td>1.39</td>\n",
              "      <td>1.66</td>\n",
              "      <td>1.53</td>\n",
              "      <td>1.52</td>\n",
              "      <td>1.28</td>\n",
              "      <td>1.21</td>\n",
              "      <td>1.46</td>\n",
              "      <td>1.33</td>\n",
              "    </tr>\n",
              "    <tr>\n",
              "      <th>Class 1</th>\n",
              "      <td>1.82</td>\n",
              "      <td>1.00</td>\n",
              "      <td>1.15</td>\n",
              "      <td>1.35</td>\n",
              "      <td>1.19</td>\n",
              "      <td>1.30</td>\n",
              "      <td>1.23</td>\n",
              "      <td>1.15</td>\n",
              "      <td>1.09</td>\n",
              "      <td>1.18</td>\n",
              "    </tr>\n",
              "    <tr>\n",
              "      <th>Class 2</th>\n",
              "      <td>1.28</td>\n",
              "      <td>1.34</td>\n",
              "      <td>1.00</td>\n",
              "      <td>1.33</td>\n",
              "      <td>1.47</td>\n",
              "      <td>1.61</td>\n",
              "      <td>1.55</td>\n",
              "      <td>1.17</td>\n",
              "      <td>1.39</td>\n",
              "      <td>1.38</td>\n",
              "    </tr>\n",
              "    <tr>\n",
              "      <th>Class 3</th>\n",
              "      <td>1.24</td>\n",
              "      <td>1.48</td>\n",
              "      <td>1.18</td>\n",
              "      <td>1.00</td>\n",
              "      <td>1.31</td>\n",
              "      <td>1.15</td>\n",
              "      <td>1.24</td>\n",
              "      <td>1.12</td>\n",
              "      <td>1.13</td>\n",
              "      <td>1.09</td>\n",
              "    </tr>\n",
              "    <tr>\n",
              "      <th>Class 4</th>\n",
              "      <td>1.36</td>\n",
              "      <td>1.21</td>\n",
              "      <td>1.43</td>\n",
              "      <td>1.52</td>\n",
              "      <td>1.00</td>\n",
              "      <td>1.38</td>\n",
              "      <td>1.28</td>\n",
              "      <td>1.18</td>\n",
              "      <td>1.40</td>\n",
              "      <td>1.10</td>\n",
              "    </tr>\n",
              "    <tr>\n",
              "      <th>Class 5</th>\n",
              "      <td>1.33</td>\n",
              "      <td>1.40</td>\n",
              "      <td>1.35</td>\n",
              "      <td>1.21</td>\n",
              "      <td>1.39</td>\n",
              "      <td>1.00</td>\n",
              "      <td>1.16</td>\n",
              "      <td>1.23</td>\n",
              "      <td>1.13</td>\n",
              "      <td>1.09</td>\n",
              "    </tr>\n",
              "    <tr>\n",
              "      <th>Class 6</th>\n",
              "      <td>1.22</td>\n",
              "      <td>1.32</td>\n",
              "      <td>1.45</td>\n",
              "      <td>1.43</td>\n",
              "      <td>1.28</td>\n",
              "      <td>1.24</td>\n",
              "      <td>1.00</td>\n",
              "      <td>1.38</td>\n",
              "      <td>1.29</td>\n",
              "      <td>1.32</td>\n",
              "    </tr>\n",
              "    <tr>\n",
              "      <th>Class 7</th>\n",
              "      <td>1.43</td>\n",
              "      <td>1.24</td>\n",
              "      <td>1.29</td>\n",
              "      <td>1.27</td>\n",
              "      <td>1.31</td>\n",
              "      <td>1.49</td>\n",
              "      <td>1.38</td>\n",
              "      <td>1.00</td>\n",
              "      <td>1.28</td>\n",
              "      <td>1.17</td>\n",
              "    </tr>\n",
              "    <tr>\n",
              "      <th>Class 8</th>\n",
              "      <td>1.18</td>\n",
              "      <td>1.39</td>\n",
              "      <td>1.23</td>\n",
              "      <td>1.28</td>\n",
              "      <td>1.24</td>\n",
              "      <td>1.21</td>\n",
              "      <td>1.13</td>\n",
              "      <td>1.22</td>\n",
              "      <td>1.00</td>\n",
              "      <td>1.08</td>\n",
              "    </tr>\n",
              "    <tr>\n",
              "      <th>Class 9</th>\n",
              "      <td>1.31</td>\n",
              "      <td>1.35</td>\n",
              "      <td>1.38</td>\n",
              "      <td>1.33</td>\n",
              "      <td>1.12</td>\n",
              "      <td>1.32</td>\n",
              "      <td>1.36</td>\n",
              "      <td>1.13</td>\n",
              "      <td>1.26</td>\n",
              "      <td>1.00</td>\n",
              "    </tr>\n",
              "  </tbody>\n",
              "</table>\n",
              "</div>"
            ],
            "text/plain": [
              "         Model 0  Model 1  Model 2  Model 3  ...  Model 6  Model 7  Model 8  Model 9\n",
              "Class 0     1.00     1.46     1.39     1.66  ...     1.28     1.21     1.46     1.33\n",
              "Class 1     1.82     1.00     1.15     1.35  ...     1.23     1.15     1.09     1.18\n",
              "Class 2     1.28     1.34     1.00     1.33  ...     1.55     1.17     1.39     1.38\n",
              "Class 3     1.24     1.48     1.18     1.00  ...     1.24     1.12     1.13     1.09\n",
              "Class 4     1.36     1.21     1.43     1.52  ...     1.28     1.18     1.40     1.10\n",
              "Class 5     1.33     1.40     1.35     1.21  ...     1.16     1.23     1.13     1.09\n",
              "Class 6     1.22     1.32     1.45     1.43  ...     1.00     1.38     1.29     1.32\n",
              "Class 7     1.43     1.24     1.29     1.27  ...     1.38     1.00     1.28     1.17\n",
              "Class 8     1.18     1.39     1.23     1.28  ...     1.13     1.22     1.00     1.08\n",
              "Class 9     1.31     1.35     1.38     1.33  ...     1.36     1.13     1.26     1.00\n",
              "\n",
              "[10 rows x 10 columns]"
            ]
          },
          "metadata": {
            "tags": []
          },
          "execution_count": 314
        }
      ]
    },
    {
      "cell_type": "code",
      "metadata": {
        "id": "ikF3WdX0e8yq",
        "colab_type": "code",
        "colab": {
          "base_uri": "https://localhost:8080/",
          "height": 34
        },
        "outputId": "cc78118d-32a7-4965-9a6b-77a697ed53fc"
      },
      "source": [
        "x = x_test_classes.reshape(len(x_test_classes), image_shape[0], image_shape[1], N_image_channels).astype('float32')\n",
        "\n",
        "def calculate_ssim(model, x):\n",
        "  x = set_pixels_binary(x)\n",
        "  z_mean, z_logvar = model.encode(x)\n",
        "  z = model.reparameterize(z_mean, z_logvar)\n",
        "  y = model.decode(z)\n",
        "\n",
        "  x = tf.convert_to_tensor(x)\n",
        "  y = tf.convert_to_tensor(y)\n",
        "  ssim = tf.image.ssim(x[:,:,:,:],y[:,:,:,:], input_range, filter_size=11,filter_sigma=0.1,k1=1e-3,k2=1e-2)\n",
        "  x = np.squeeze(x, axis=3)\n",
        "  y = np.squeeze(y, axis=3)\n",
        "  return ssim\n",
        "\n",
        "qq = calculate_ssim(model_0, x[:5])\n",
        "tf.reduce_mean(qq)"
      ],
      "execution_count": 305,
      "outputs": [
        {
          "output_type": "execute_result",
          "data": {
            "text/plain": [
              "<tf.Tensor: id=32693368, shape=(), dtype=float32, numpy=0.9140067>"
            ]
          },
          "metadata": {
            "tags": []
          },
          "execution_count": 305
        }
      ]
    },
    {
      "cell_type": "code",
      "metadata": {
        "id": "zBcYSWispx46",
        "colab_type": "code",
        "colab": {}
      },
      "source": [
        ""
      ],
      "execution_count": 0,
      "outputs": []
    }
  ]
}