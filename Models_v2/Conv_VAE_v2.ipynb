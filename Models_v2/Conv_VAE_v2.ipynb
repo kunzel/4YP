{
  "nbformat": 4,
  "nbformat_minor": 0,
  "metadata": {
    "accelerator": "GPU",
    "colab": {
      "name": "CVAE_MNIST_Numbers.ipynb",
      "provenance": [],
      "include_colab_link": true
    },
    "kernelspec": {
      "name": "python3",
      "display_name": "Python 3"
    },
    "language_info": {
      "codemirror_mode": {
        "name": "ipython",
        "version": 3
      },
      "file_extension": ".py",
      "mimetype": "text/x-python",
      "name": "python",
      "nbconvert_exporter": "python",
      "pygments_lexer": "ipython3",
      "version": "3.7.3"
    }
  },
  "cells": [
    {
      "cell_type": "markdown",
      "metadata": {
        "id": "view-in-github",
        "colab_type": "text"
      },
      "source": [
        "<a href=\"https://colab.research.google.com/github/lorenzosintini/4YP/blob/master/Models_v2/Conv_VAE_v2.ipynb\" target=\"_parent\"><img src=\"https://colab.research.google.com/assets/colab-badge.svg\" alt=\"Open In Colab\"/></a>"
      ]
    },
    {
      "cell_type": "markdown",
      "metadata": {
        "colab_type": "text",
        "id": "C8VH0HaF0eaI"
      },
      "source": [
        "#### Import Libraries"
      ]
    },
    {
      "cell_type": "code",
      "metadata": {
        "colab_type": "code",
        "id": "887mv3aj0eaL",
        "colab": {
          "base_uri": "https://localhost:8080/",
          "height": 34
        },
        "outputId": "9e992f72-8e34-459b-817e-f0b38a7bec5d"
      },
      "source": [
        "try:\n",
        "    # %tensorflow_version only exists in Colab.\n",
        "    %tensorflow_version 2.x\n",
        "except Exception:\n",
        "    pass\n",
        "import tensorflow as tf\n",
        "\n",
        "import numpy as np\n",
        "import matplotlib.pyplot as plt\n",
        "import random\n",
        "import time\n",
        "import os\n",
        "import sys\n",
        "from IPython.display import clear_output\n",
        "import os\n",
        "import pandas as pd\n",
        "tf.autograph.set_verbosity(0)"
      ],
      "execution_count": 2,
      "outputs": [
        {
          "output_type": "stream",
          "text": [
            "TensorFlow 2.x selected.\n"
          ],
          "name": "stdout"
        }
      ]
    },
    {
      "cell_type": "markdown",
      "metadata": {
        "colab_type": "text",
        "id": "sUEIvx3I0eaT"
      },
      "source": [
        "#### Import Data and plot it"
      ]
    },
    {
      "cell_type": "code",
      "metadata": {
        "colab_type": "code",
        "id": "tkekihPQ0eaU",
        "outputId": "446e1a9b-5e02-4c59-c5c0-a00e83543a2b",
        "colab": {
          "base_uri": "https://localhost:8080/",
          "height": 139
        }
      },
      "source": [
        "mnist = tf.keras.datasets.mnist\n",
        "(x_train, y_train), (x_test, y_test) = mnist.load_data()\n",
        "\n",
        "class_names = ['Zero','One', 'Two', 'Three', 'Four', 'Five','Six', 'Seven', 'Eight', 'Nine']\n",
        "N_image_channels = 1\n",
        "N_class = len(class_names)\n",
        "image_shape = x_train.shape[1:3]\n",
        "input_range = np.amax(x_train)\n",
        "\n",
        "def plot_images(x_train, y_train, figures_to_plot, pick_random=False, include_labels=True):\n",
        "    n_rows = np.ceil((figures_to_plot[1])/10)\n",
        "    plot = plt.figure(figsize=[20,2*n_rows])\n",
        "    for i in range(figures_to_plot[0],figures_to_plot[1]):\n",
        "        if pick_random: \n",
        "            pic_n = random.randint(0,len(x_train))\n",
        "        else: pic_n = i\n",
        "        plt.subplot(n_rows,10,i+1)\n",
        "        plt.xticks([]); plt.yticks([])\n",
        "        plt.imshow(x_train[pic_n], cmap=plt.cm.binary)\n",
        "        if include_labels:\n",
        "            plt.xlabel(y_train[pic_n])\n",
        "    plt.show()\n",
        "\n",
        "plot_images(x_train, y_train, [0,10])"
      ],
      "execution_count": 3,
      "outputs": [
        {
          "output_type": "display_data",
          "data": {
            "image/png": "[encoded data removed]",
            "text/plain": [
              "<Figure size 1440x144 with 10 Axes>"
            ]
          },
          "metadata": {
            "tags": []
          }
        }
      ]
    },
    {
      "cell_type": "markdown",
      "metadata": {
        "colab_type": "text",
        "id": "lv1qfPcr0eaZ"
      },
      "source": [
        "#### Select data, pre-process it and create dataset"
      ]
    },
    {
      "cell_type": "code",
      "metadata": {
        "colab_type": "code",
        "id": "SXK5XnqV0eab",
        "colab": {}
      },
      "source": [
        "def pick_class(x, y, class_n):\n",
        "    pics = (y == class_n[0])\n",
        "    for i in range(len(class_n)-1):\n",
        "      pics = pics + (y == class_n[i+1])\n",
        "    new_x = x[pics]\n",
        "    new_y = y[pics]\n",
        "    return new_x, new_y\n",
        "\n",
        "def set_pixels_binary(images):\n",
        "    images = images/input_range\n",
        "    images[images >= 0.5] = 1.0\n",
        "    images[images < 0.5] = 0.0\n",
        "    return images\n",
        "\n",
        "def make_categorical(y):\n",
        "    y_cat = tf.keras.utils.to_categorical(y)\n",
        "    return y_cat\n",
        "\n",
        "def cut_data(data, data_number):\n",
        "    data = data[0:data_number]\n",
        "    return data\n",
        "\n",
        "def setup_dataset(x_train, y_train, x_test, y_test, chosen_classes=[0,1,2,3,4,5,6,7,8,9], data_number = -1):\n",
        "  x_train, y_train = pick_class(x_train, y_train, chosen_classes)\n",
        "  x_test, y_test = pick_class(x_test, y_test, chosen_classes)\n",
        "  \n",
        "  x_train = cut_data(x_train, data_number)\n",
        "  y_train = cut_data(y_train, data_number)\n",
        "\n",
        "  train_images = set_pixels_binary(x_train)\n",
        "  test_images = set_pixels_binary(x_test)\n",
        "\n",
        "  train_images = train_images.reshape(len(y_train), image_shape[0], image_shape[1], N_image_channels).astype('float32')\n",
        "  test_images = test_images.reshape(len(y_test), image_shape[0], image_shape[1], N_image_channels).astype('float32')\n",
        "\n",
        "  batch_size = 100\n",
        "  train_dataset = tf.data.Dataset.from_tensor_slices((train_images)).shuffle(len(y_train)).batch(batch_size)\n",
        "  test_dataset = tf.data.Dataset.from_tensor_slices((test_images)).shuffle(len(y_test)).batch(batch_size)\n",
        "  return x_train, y_train, x_test, y_test, train_dataset, test_dataset"
      ],
      "execution_count": 0,
      "outputs": []
    },
    {
      "cell_type": "markdown",
      "metadata": {
        "colab_type": "text",
        "id": "RXAUM1Hh0ea0"
      },
      "source": [
        "#### Create Variational Autoencoder (VAE) Model"
      ]
    },
    {
      "cell_type": "code",
      "metadata": {
        "colab_type": "code",
        "id": "oiLqehle0ea2",
        "colab": {}
      },
      "source": [
        "class CVAE(tf.keras.Model):\n",
        "    def __init__(self, z_size):\n",
        "        super(CVAE, self).__init__()\n",
        "        self.z_size = z_size\n",
        "        self.encoder_nn = tf.keras.models.Sequential([ \n",
        "                          tf.keras.layers.Conv2D(32, (3,3), activation='relu', input_shape=(28, 28, 1)),\n",
        "                          tf.keras.layers.Conv2D(64, (3,3), activation='relu'),\n",
        "                          tf.keras.layers.Flatten(),\n",
        "                          tf.keras.layers.Dense(z_size*2)\n",
        "                          ])\n",
        "\n",
        "        self.decoder_nn = tf.keras.models.Sequential([\n",
        "                          tf.keras.layers.Dense(units=24*24*64, activation='relu', input_shape=(z_size,)),\n",
        "                          tf.keras.layers.Reshape(target_shape=(24, 24, 64)),\n",
        "                          tf.keras.layers.Conv2DTranspose(32, (3,3), activation='relu'),\n",
        "                          tf.keras.layers.Conv2DTranspose(1, (3,3)),\n",
        "                          ])\n",
        "\n",
        "    def encode(self, x):\n",
        "        encoder_nn_output = self.encoder_nn(x)\n",
        "        z_mean, z_logvar = tf.split(encoder_nn_output, num_or_size_splits=2, axis=1)\n",
        "        return z_mean, z_logvar\n",
        "\n",
        "    def reparameterize(self, z_mean, z_logvar):\n",
        "        epsilon = tf.random.normal(shape=z_mean.shape)\n",
        "        z_sampled = epsilon * tf.exp(z_logvar * 0.5) + z_mean\n",
        "        return z_sampled\n",
        "      \n",
        "\n",
        "    def decode(self, z):\n",
        "        pixel_output = self.decoder_nn(z)\n",
        "        pixel_prob = tf.math.sigmoid(pixel_output)\n",
        "        return pixel_prob"
      ],
      "execution_count": 0,
      "outputs": []
    },
    {
      "cell_type": "markdown",
      "metadata": {
        "colab_type": "text",
        "id": "ruRl4I4K0ea8"
      },
      "source": [
        "#### Define the loss function "
      ]
    },
    {
      "cell_type": "code",
      "metadata": {
        "colab_type": "code",
        "id": "Y1QqvVSV0ea-",
        "colab": {}
      },
      "source": [
        "def calculate_ELBO(model, x):\n",
        "    z_mean, z_logvar = model.encode(x)\n",
        "    z = model.reparameterize(z_mean, z_logvar)\n",
        "    \n",
        "    pixel_prob = model.decode(z)\n",
        "    \n",
        "    logpx_z_pixels = tf.math.log(pixel_prob + 1e-10)*x + tf.math.log(1-pixel_prob + 1e-10)*(1-x)\n",
        "    logpx_z_images = tf.reduce_sum(logpx_z_pixels, axis=[1, 2, 3])\n",
        "    logpx_z = tf.reduce_mean (logpx_z_images)\n",
        "    \n",
        "    KL_parameters = -0.5 * (1 + z_logvar - (z_mean ** 2.0) - tf.exp(z_logvar))\n",
        "    KL_vectors = tf.reduce_sum(KL_parameters, axis=1)\n",
        "    KL = tf.reduce_mean(KL_vectors)\n",
        "    \n",
        "    ELBO = (logpx_z - KL)\n",
        "    \n",
        "    return -ELBO, logpx_z, KL #Negative because we want to maximise it"
      ],
      "execution_count": 0,
      "outputs": []
    },
    {
      "cell_type": "code",
      "metadata": {
        "id": "v-uLxJpldXo_",
        "colab_type": "code",
        "colab": {}
      },
      "source": [
        "def calculate_pixel_squared(model, x):\n",
        "    z_mean, z_logvar = model.encode(x)\n",
        "    z = model.reparameterize(z_mean, z_logvar)\n",
        "    pixel_prob = model.decode(z)\n",
        "    pixel_squared = np.square(pixel_prob - x)\n",
        "    pixel_squared = tf.reduce_sum(pixel_squared, axis=[1,2,3])\n",
        "    pixel_squared = tf.reduce_mean (pixel_squared)\n",
        "    return pixel_squared"
      ],
      "execution_count": 0,
      "outputs": []
    },
    {
      "cell_type": "code",
      "metadata": {
        "id": "toxPmTwwy0TE",
        "colab_type": "code",
        "colab": {}
      },
      "source": [
        "def calculate_ssim(model, x):\n",
        "  z_mean, z_logvar = model.encode(x)\n",
        "  z = model.reparameterize(z_mean, z_logvar)\n",
        "  y = model.decode(z)\n",
        "\n",
        "  x = tf.convert_to_tensor(x)\n",
        "  y = tf.convert_to_tensor(y)\n",
        "  ssim = tf.image.ssim(x[:,:,:,:],y[:,:,:,:], input_range, filter_size=11,filter_sigma=0.1,k1=0.1,k2=0.01)\n",
        "  ssim = tf.reduce_mean(ssim)\n",
        "  return (1-ssim)*1000"
      ],
      "execution_count": 0,
      "outputs": []
    },
    {
      "cell_type": "markdown",
      "metadata": {
        "colab_type": "text",
        "id": "vLIG3YRm0ebE"
      },
      "source": [
        "#### Define the optimizer"
      ]
    },
    {
      "cell_type": "code",
      "metadata": {
        "colab_type": "code",
        "id": "n5eaPpso0ebG",
        "colab": {}
      },
      "source": [
        "optimizer = tf.keras.optimizers.Adam(learning_rate = 0.001)"
      ],
      "execution_count": 0,
      "outputs": []
    },
    {
      "cell_type": "markdown",
      "metadata": {
        "colab_type": "text",
        "id": "NvoBcADVjvek"
      },
      "source": [
        "#### Define loss metrics"
      ]
    },
    {
      "cell_type": "code",
      "metadata": {
        "colab_type": "code",
        "id": "DhYcUUvYjven",
        "colab": {}
      },
      "source": [
        "train_loss = tf.keras.metrics.Mean(name='train_loss')\n",
        "test_loss = tf.keras.metrics.Mean(name='test_loss')"
      ],
      "execution_count": 0,
      "outputs": []
    },
    {
      "cell_type": "markdown",
      "metadata": {
        "colab_type": "text",
        "id": "VngH-amb0ebM"
      },
      "source": [
        "#### Define train and test steps"
      ]
    },
    {
      "cell_type": "code",
      "metadata": {
        "colab_type": "code",
        "id": "dNN76Ed_0ebO",
        "colab": {}
      },
      "source": [
        "def train_step(model, x, optimizer):\n",
        "    with tf.GradientTape() as tape:\n",
        "        loss,_,_ = calculate_ELBO(model, x)\n",
        "        gradients = tape.gradient(loss, model.trainable_variables)\n",
        "        optimizer.apply_gradients(zip(gradients, model.trainable_variables))\n",
        "        train_loss(loss)\n",
        "\n",
        "def test_step(model, x, optimizer):\n",
        "    loss,_,_ = calculate_ELBO(model, x)\n",
        "    test_loss(loss)"
      ],
      "execution_count": 0,
      "outputs": []
    },
    {
      "cell_type": "markdown",
      "metadata": {
        "id": "Q6eTvDNOZGjW",
        "colab_type": "text"
      },
      "source": [
        "#### Generate random image from latent vector"
      ]
    },
    {
      "cell_type": "code",
      "metadata": {
        "colab_type": "code",
        "id": "JUG20q7J0ebW",
        "colab": {}
      },
      "source": [
        "def generate_images(model, z_random, figures_to_plot):\n",
        "    generated_prob = model.decode(z_random)\n",
        "    generated_prob = np.squeeze(generated_prob, axis=3)\n",
        "    plot_images(generated_prob, _, figures_to_plot, include_labels=False)"
      ],
      "execution_count": 0,
      "outputs": []
    },
    {
      "cell_type": "code",
      "metadata": {
        "id": "SprYQb15_4ta",
        "colab_type": "code",
        "colab": {}
      },
      "source": [
        "def train_test_dataset(model, train_dataset, test_dataset, epochs, generate=True):\n",
        "  plots_per_epoch = 10\n",
        "  z_random = tf.random.normal(shape=[plots_per_epoch, z_size])\n",
        "  \n",
        "  test_ELBO = []\n",
        "  train_ELBO = []\n",
        "  epoch_number = []  \n",
        "  for epoch in range(epochs):\n",
        "    print('Epoch {}'.format(epoch))\n",
        "    for train_x in train_dataset: \n",
        "      train_step(model, train_x, optimizer)\n",
        "  \n",
        "    for test_x in test_dataset:\n",
        "      test_step(model, test_x, optimizer)\n",
        "    \n",
        "    test_ELBO.append(-test_loss.result())\n",
        "    train_ELBO.append(-train_loss.result())\n",
        "    epoch_number.append(epoch)\n",
        "    \n",
        "    clear_output()\n",
        "    if generate:\n",
        "      generate_images(model, z_random, [0,plots_per_epoch])\n",
        "    plt.plot(epoch_number, test_ELBO, train_ELBO)\n",
        "    plt.legend(['test','train'])\n",
        "    plt.title('model')\n",
        "    plt.show()\n",
        "  train_loss.reset_states()\n",
        "  test_loss.reset_states()"
      ],
      "execution_count": 0,
      "outputs": []
    },
    {
      "cell_type": "markdown",
      "metadata": {
        "colab_type": "text",
        "id": "b4MLsF1E0ebZ"
      },
      "source": [
        "#### Train the data"
      ]
    },
    {
      "cell_type": "code",
      "metadata": {
        "id": "Y_uvcaHy-Zcf",
        "colab_type": "code",
        "colab": {}
      },
      "source": [
        "def change_ratio(x, y, chosen_classes, chosen_numbers):\n",
        "    x_new = np.zeros([0,image_shape[0], image_shape[1]])\n",
        "    y_new = np.zeros([0])\n",
        "    n_classes = len(chosen_classes)\n",
        "    for i in range (n_classes):\n",
        "        if chosen_classes[i] != -1:\n",
        "            x_class, y_class = pick_class(x, y, [chosen_classes[i]])\n",
        "            x_class = cut_data(x_class, chosen_numbers[i])\n",
        "        y_class = cut_data(y_class, chosen_numbers[i])\n",
        "        x_new = np.concatenate((x_new, x_class))\n",
        "        y_new = np.concatenate((y_new, y_class))\n",
        "    return x_new, y_new"
      ],
      "execution_count": 0,
      "outputs": []
    },
    {
      "cell_type": "code",
      "metadata": {
        "colab_type": "code",
        "id": "pi8CDE0g0eba",
        "outputId": "dda5c005-fa1c-4739-d254-4abbda5c5c7e",
        "colab": {
          "base_uri": "https://localhost:8080/",
          "height": 393
        }
      },
      "source": [
        "chosen_classes=[0,1,2,3,4,5,6,7,8,9]\n",
        "chosen_numbers = [5400, 5400, 5400, 5400, 5400, 5400, 5400, 5400, 5400, 5400]\n",
        "x_train, y_train = change_ratio(x_train, y_train, chosen_classes, chosen_numbers)\n",
        "chosen_numbers = [850, 850, 850, 850, 850, 850, 850, 850, 850, 850]\n",
        "x_test, y_test = change_ratio(x_test, y_test, chosen_classes, chosen_numbers)\n",
        "\n",
        "x_train_0, y_train_0, x_test_0, y_test_0, train_dataset_0, test_dataset_0 = setup_dataset(x_train, y_train, x_test, y_test, chosen_classes=[0])\n",
        "x_train_1, y_train_1, x_test_1, y_test_1, train_dataset_1, test_dataset_1 = setup_dataset(x_train, y_train, x_test, y_test, chosen_classes=[1])\n",
        "x_train_2, y_train_2, x_test_2, y_test_2, train_dataset_2, test_dataset_2 = setup_dataset(x_train, y_train, x_test, y_test, chosen_classes=[2])\n",
        "x_train_3, y_train_3, x_test_3, y_test_3, train_dataset_3, test_dataset_3 = setup_dataset(x_train, y_train, x_test, y_test, chosen_classes=[3])\n",
        "x_train_4, y_train_4, x_test_4, y_test_4, train_dataset_4, test_dataset_4 = setup_dataset(x_train, y_train, x_test, y_test, chosen_classes=[4])\n",
        "x_train_5, y_train_5, x_test_5, y_test_5, train_dataset_5, test_dataset_5 = setup_dataset(x_train, y_train, x_test, y_test, chosen_classes=[5])\n",
        "x_train_6, y_train_6, x_test_6, y_test_6, train_dataset_6, test_dataset_6 = setup_dataset(x_train, y_train, x_test, y_test, chosen_classes=[6])\n",
        "x_train_7, y_train_7, x_test_7, y_test_7, train_dataset_7, test_dataset_7 = setup_dataset(x_train, y_train, x_test, y_test, chosen_classes=[7])\n",
        "x_train_8, y_train_8, x_test_8, y_test_8, train_dataset_8, test_dataset_8 = setup_dataset(x_train, y_train, x_test, y_test, chosen_classes=[8])\n",
        "x_train_9, y_train_9, x_test_9, y_test_9, train_dataset_9, test_dataset_9 = setup_dataset(x_train, y_train, x_test, y_test, chosen_classes=[9])\n",
        "\n",
        "z_size = 10\n",
        "model_0 = CVAE(z_size)\n",
        "model_1 = CVAE(z_size)\n",
        "model_2 = CVAE(z_size)\n",
        "model_3 = CVAE(z_size)\n",
        "model_4 = CVAE(z_size)\n",
        "model_5 = CVAE(z_size)\n",
        "model_6 = CVAE(z_size)\n",
        "model_7 = CVAE(z_size)\n",
        "model_8 = CVAE(z_size)\n",
        "model_9 = CVAE(z_size)\n",
        "\n",
        "model_dict = {'0' : model_0,\n",
        "              '1' : model_1,\n",
        "\t\t          '2' : model_2,\n",
        "              '3' : model_3,\n",
        "              '4' : model_4,\n",
        "              '5' : model_5,\n",
        "              '6' : model_6,\n",
        "              '7' : model_7,\n",
        "              '8' : model_8,\n",
        "              '9' : model_9,}\n",
        "\n",
        "train_test_dataset(model_0, train_dataset_0, test_dataset_0, 25, generate=True)\n",
        "train_test_dataset(model_1, train_dataset_1, test_dataset_1, 25, generate=True)\n",
        "train_test_dataset(model_2, train_dataset_2, test_dataset_2, 25, generate=True)\n",
        "train_test_dataset(model_3, train_dataset_3, test_dataset_3, 25, generate=True)\n",
        "train_test_dataset(model_4, train_dataset_4, test_dataset_4, 25, generate=True)\n",
        "train_test_dataset(model_5, train_dataset_5, test_dataset_5, 25, generate=True)\n",
        "train_test_dataset(model_6, train_dataset_6, test_dataset_6, 25, generate=True)\n",
        "train_test_dataset(model_7, train_dataset_7, test_dataset_7, 25, generate=True)\n",
        "train_test_dataset(model_8, train_dataset_8, test_dataset_8, 25, generate=True)\n",
        "train_test_dataset(model_9, train_dataset_9, test_dataset_9, 25, generate=True)"
      ],
      "execution_count": 15,
      "outputs": [
        {
          "output_type": "display_data",
          "data": {
            "image/png": "[encoded data removed]",
            "text/plain": [
              "<Figure size 1440x144 with 10 Axes>"
            ]
          },
          "metadata": {
            "tags": []
          }
        },
        {
          "output_type": "display_data",
          "data": {
            "image/png": "[encoded data removed]",
            "text/plain": [
              "<Figure size 432x288 with 1 Axes>"
            ]
          },
          "metadata": {
            "tags": []
          }
        }
      ]
    },
    {
      "cell_type": "code",
      "metadata": {
        "id": "t5EO369RTvjX",
        "colab_type": "code",
        "colab": {}
      },
      "source": [
        "#x_train_024, y_train_024, x_test_024, y_test_024, train_dataset_024, test_dataset_024 = setup_dataset(x_train, y_train, x_test, y_test, chosen_classes=[0,2,4])\n",
        "#z_size = 2\n",
        "#model_024 = CVAE(z_size)\n",
        "#train_test_dataset(model_024, train_dataset_024, test_dataset_024, 20, generate=True)"
      ],
      "execution_count": 0,
      "outputs": []
    },
    {
      "cell_type": "markdown",
      "metadata": {
        "id": "Pnr-d-OQZCI5",
        "colab_type": "text"
      },
      "source": [
        "#### Reconstruct images"
      ]
    },
    {
      "cell_type": "code",
      "metadata": {
        "colab_type": "code",
        "id": "jz0G3WmQD2vI",
        "outputId": "1f78fcbd-e044-4ae9-e032-a845cb4c96bd",
        "colab": {
          "base_uri": "https://localhost:8080/",
          "height": 285
        }
      },
      "source": [
        "def reconstruct_images(model, images):\n",
        "    images_n = len(images)\n",
        "    x = images/input_range\n",
        "    x[x >= 0.5] = 1.0\n",
        "    x[x < 0.5] = 0.0\n",
        "    x = x.reshape(images_n, image_shape[0], image_shape[1], N_image_channels).astype('float32')\n",
        "    \n",
        "    z_mean, z_logvar = model.encode(x)\n",
        "    z = model.reparameterize(z_mean, z_logvar)\n",
        "    pixel_output = model.decode(z)\n",
        "    pixel_prob = tf.math.sigmoid(pixel_output)\n",
        "    pixel_prob = np.squeeze(pixel_prob, axis=3)\n",
        "\n",
        "    loss = np.empty([images_n])\n",
        "    for i in range(images_n):\n",
        "        loss[i],_,_ = calculate_ELBO(model,x[i:i+1])\n",
        "    loss = loss.astype('float16')\n",
        "    \n",
        "    print('Original Pictures:')\n",
        "    plot_images(images, _, figures_to_plot=[0,images_n], include_labels=False)\n",
        "    print('Reconstructed Pictures, with ELBO loss:')\n",
        "    plot_images(pixel_prob, -loss, figures_to_plot=[0,images_n], include_labels=True)\n",
        "\n",
        "reconstruct_images(model_0, x_test_0[0:10])"
      ],
      "execution_count": 17,
      "outputs": [
        {
          "output_type": "stream",
          "text": [
            "Original Pictures:\n"
          ],
          "name": "stdout"
        },
        {
          "output_type": "display_data",
          "data": {
            "image/png": "[encoded data removed]",
            "text/plain": [
              "<Figure size 1440x144 with 10 Axes>"
            ]
          },
          "metadata": {
            "tags": []
          }
        },
        {
          "output_type": "stream",
          "text": [
            "Reconstructed Pictures, with ELBO loss:\n"
          ],
          "name": "stdout"
        },
        {
          "output_type": "display_data",
          "data": {
            "image/png": "[encoded data removed]",
            "text/plain": [
              "<Figure size 1440x144 with 10 Axes>"
            ]
          },
          "metadata": {
            "tags": []
          }
        }
      ]
    },
    {
      "cell_type": "markdown",
      "metadata": {
        "id": "8juDbid_YrGS",
        "colab_type": "text"
      },
      "source": [
        "#### Visualize the latent space"
      ]
    },
    {
      "cell_type": "code",
      "metadata": {
        "colab_type": "code",
        "id": "nOgW1CZIjvfG",
        "outputId": "a88c1a27-b174-47cb-c6a7-fbe627d578da",
        "colab": {
          "base_uri": "https://localhost:8080/",
          "height": 448
        }
      },
      "source": [
        "def visualize_latent_space(model, range1, range2, data_x, data_y, a, b):\n",
        "  plot = plt.figure(figsize=[7,7])\n",
        "  outliers=0\n",
        "  for i in range(range1, range2):\n",
        "    pic_visualize = data_x[i]\n",
        "    pic_visualize = pic_visualize.reshape(1, image_shape[0], image_shape[1], N_image_channels).astype('float32')\n",
        "    \n",
        "    z_mean, z_logvar = model.encode(pic_visualize)\n",
        "    z = model.reparameterize(z_mean, z_logvar)\n",
        "    \n",
        "    if any(z_logvar[:,i]>5 for i in range(z_size)):\n",
        "      outliers +=1\n",
        "      continue\n",
        "      \n",
        "    if data_y[i] == 0:\n",
        "      color = 'blue'\n",
        "    if data_y[i] == 1:\n",
        "      color = 'orange'\n",
        "    if data_y[i] == 2:\n",
        "      color = 'green'\n",
        "    if data_y[i] == 3:\n",
        "      color = 'red'\n",
        "    if data_y[i] == 4:\n",
        "      color = 'purple'  \n",
        "    if data_y[i] == 5:\n",
        "      color = 'brown'\n",
        "    if data_y[i] == 6:\n",
        "      color = 'pink'\n",
        "    if data_y[i] == 7:\n",
        "      color = 'gray'\n",
        "    if data_y[i] == 8:\n",
        "      color = 'black'\n",
        "    if data_y[i] == 9:\n",
        "      color = 'yellow'\n",
        "    plt.scatter(z[:,a],z[:,b], color=color, s=10)\n",
        "    #plt.xlim([-1000,1000])\n",
        "    #plt.ylim([-1000,1000])\n",
        "    #plt.annotate('{}'.format(i),(z[:,a],z[:,b]))\n",
        "  print('{} Outliers detected'.format(outliers))\n",
        "\n",
        "\n",
        "visualize_latent_space(model_0, 0,800, x_test_0, y_test_0, 0,1)\n",
        "\n",
        "#labels = []; \n",
        "#for i in range(N_train): labels.append(i)\n",
        "#plot_images(x_train, labels, [250,300])"
      ],
      "execution_count": 0,
      "outputs": [
        {
          "output_type": "stream",
          "text": [
            "0 Outliers detected\n"
          ],
          "name": "stdout"
        },
        {
          "output_type": "display_data",
          "data": {
            "image/png": "[encoded data removed]",
            "text/plain": [
              "<Figure size 504x504 with 1 Axes>"
            ]
          },
          "metadata": {
            "tags": []
          }
        }
      ]
    },
    {
      "cell_type": "markdown",
      "metadata": {
        "id": "ohcKBv7HYyaS",
        "colab_type": "text"
      },
      "source": [
        "#### Check reconstruction performance for untrained classes\n"
      ]
    },
    {
      "cell_type": "code",
      "metadata": {
        "id": "tOUcblcZ4Djo",
        "colab_type": "code",
        "outputId": "fbe5efb2-a25c-448a-fecf-2d2cb247a70d",
        "colab": {
          "base_uri": "https://localhost:8080/",
          "height": 1000
        }
      },
      "source": [
        "table_of_losses = np.zeros([N_class, N_class])\n",
        "for i in range(0,N_class):\n",
        "  model = model_dict[str(i)]\n",
        "  print('Model trained with class {}'.format(i))\n",
        "  plt.figure(figsize=[9,4])\n",
        "  for j in range(N_class):\n",
        "    test_images = x_test[(y_test==j)]\n",
        "    test_images = set_pixels_binary(test_images)\n",
        "    test_images = test_images.reshape(len(test_images), image_shape[0], image_shape[1], N_image_channels).astype('float32')\n",
        "    #_,loss,_ = calculate_ELBO(model,test_images)\n",
        "    #loss = -calculate_pixel_squared(model,test_images)\n",
        "    loss = calculate_ssim(model, test_images)\n",
        "    table_of_losses[j,i] = loss\n",
        "    if j==i:\n",
        "      color='red'\n",
        "    else:\n",
        "      color='blue'\n",
        "    plt.bar(j,loss.numpy(),color=color)\n",
        "    #print('ELBO loss for class {}: {}'.format(i,loss))\n",
        "  plt.show()\n",
        "\n",
        "for i in range(N_class):\n",
        "    table_of_losses[i,:] = table_of_losses[i,:]/np.min(table_of_losses[i,:])\n",
        "  \n",
        "\n",
        "# reconstruct_images(x_test[(y_test==8)][0:10], test_images[(y_test==8)][0:10])\n",
        "\n",
        "#visualize_latent_space(0,1000, x_train, y_train, 0,1)\n",
        "#classes_to_pick = [1]\n",
        "#x_reconstruct_test, y_reconstruct_test = pick_class(x_test, y_test, classes_to_pick)\n",
        "#visualize_latent_space(0,100, x_reconstruct_test, y_reconstruct_test, 0,1)\n"
      ],
      "execution_count": 18,
      "outputs": [
        {
          "output_type": "stream",
          "text": [
            "Model trained with class 0\n"
          ],
          "name": "stdout"
        },
        {
          "output_type": "display_data",
          "data": {
            "image/png": "[encoded data removed]",
            "text/plain": [
              "<Figure size 648x288 with 1 Axes>"
            ]
          },
          "metadata": {
            "tags": []
          }
        },
        {
          "output_type": "stream",
          "text": [
            "Model trained with class 1\n"
          ],
          "name": "stdout"
        },
        {
          "output_type": "display_data",
          "data": {
            "image/png": "[encoded data removed]",
            "text/plain": [
              "<Figure size 648x288 with 1 Axes>"
            ]
          },
          "metadata": {
            "tags": []
          }
        },
        {
          "output_type": "stream",
          "text": [
            "Model trained with class 2\n"
          ],
          "name": "stdout"
        },
        {
          "output_type": "display_data",
          "data": {
            "image/png": "[encoded data removed]",
            "text/plain": [
              "<Figure size 648x288 with 1 Axes>"
            ]
          },
          "metadata": {
            "tags": []
          }
        },
        {
          "output_type": "stream",
          "text": [
            "Model trained with class 3\n"
          ],
          "name": "stdout"
        },
        {
          "output_type": "display_data",
          "data": {
            "image/png": "[encoded data removed]",
            "text/plain": [
              "<Figure size 648x288 with 1 Axes>"
            ]
          },
          "metadata": {
            "tags": []
          }
        },
        {
          "output_type": "stream",
          "text": [
            "Model trained with class 4\n"
          ],
          "name": "stdout"
        },
        {
          "output_type": "display_data",
          "data": {
            "image/png": "[encoded data removed]",
            "text/plain": [
              "<Figure size 648x288 with 1 Axes>"
            ]
          },
          "metadata": {
            "tags": []
          }
        },
        {
          "output_type": "stream",
          "text": [
            "Model trained with class 5\n"
          ],
          "name": "stdout"
        },
        {
          "output_type": "display_data",
          "data": {
            "image/png": "[encoded data removed]",
            "text/plain": [
              "<Figure size 648x288 with 1 Axes>"
            ]
          },
          "metadata": {
            "tags": []
          }
        },
        {
          "output_type": "stream",
          "text": [
            "Model trained with class 6\n"
          ],
          "name": "stdout"
        },
        {
          "output_type": "display_data",
          "data": {
            "image/png": "[encoded data removed]",
            "text/plain": [
              "<Figure size 648x288 with 1 Axes>"
            ]
          },
          "metadata": {
            "tags": []
          }
        },
        {
          "output_type": "stream",
          "text": [
            "Model trained with class 7\n"
          ],
          "name": "stdout"
        },
        {
          "output_type": "display_data",
          "data": {
            "image/png": "[encoded data removed]",
            "text/plain": [
              "<Figure size 648x288 with 1 Axes>"
            ]
          },
          "metadata": {
            "tags": []
          }
        },
        {
          "output_type": "stream",
          "text": [
            "Model trained with class 8\n"
          ],
          "name": "stdout"
        },
        {
          "output_type": "display_data",
          "data": {
            "image/png": "[encoded data removed]",
            "text/plain": [
              "<Figure size 648x288 with 1 Axes>"
            ]
          },
          "metadata": {
            "tags": []
          }
        },
        {
          "output_type": "stream",
          "text": [
            "Model trained with class 9\n"
          ],
          "name": "stdout"
        },
        {
          "output_type": "display_data",
          "data": {
            "image/png": "[encoded data removed]",
            "text/plain": [
              "<Figure size 648x288 with 1 Axes>"
            ]
          },
          "metadata": {
            "tags": []
          }
        }
      ]
    },
    {
      "cell_type": "markdown",
      "metadata": {
        "id": "AO32aw-geBRj",
        "colab_type": "text"
      },
      "source": [
        "#### Classify test images"
      ]
    },
    {
      "cell_type": "code",
      "metadata": {
        "id": "T0dF87RROVLe",
        "colab_type": "code",
        "colab": {}
      },
      "source": [
        ""
      ],
      "execution_count": 0,
      "outputs": []
    },
    {
      "cell_type": "code",
      "metadata": {
        "id": "BbzrkU3FweFO",
        "colab_type": "code",
        "colab": {
          "base_uri": "https://localhost:8080/",
          "height": 51
        },
        "outputId": "fc5fc04f-e5b9-411c-8d32-ebfe47ca1281"
      },
      "source": [
        "_, _, x_test_classes, y_test_classes, _, _ = setup_dataset(x_train, y_train, x_test, y_test, chosen_classes=[0,1,2,3,4,5,6,7,8,9])\n",
        "predicted_class = np.zeros([1,len(x_test_classes)])\n",
        "predicted_probabilities = np.zeros([len(x_test_classes)*2,10])\n",
        "for i in range(len(x_test_classes)):\n",
        "  if not i%10:\n",
        "    clear_output()\n",
        "    print('Progress:{}%'.format(100*(i+1)/len(x_test_classes)))\n",
        "  test_image = x_test_classes[i]/input_range\n",
        "  test_image[test_image >= 0.5] = 1.0\n",
        "  test_image[test_image < 0.5] = 0.0\n",
        "  test_image = test_image.reshape(1, image_shape[0], image_shape[1], N_image_channels).astype('float32')\n",
        "  \n",
        "  loss_per_model = np.empty([2,10])\n",
        "  a = np.empty([2,10])\n",
        "  for j in range(0,10):\n",
        "    model = model_dict[str(j)]\n",
        "    _,loss1,_ = calculate_ELBO(model,test_image)\n",
        "    loss2 = calculate_ssim(model,test_image)\n",
        "    #print('ELBO loss for class {}: {}'.format(i,loss))\n",
        "    loss_per_model[0,j]= -loss1\n",
        "    loss_per_model[1,j] = loss2\n",
        "  a[0,:] = loss_per_model[0,:]/np.min(loss_per_model[0,:])\n",
        "  a[1,:] = loss_per_model[1,:]/np.min(loss_per_model[1,:])\n",
        "  a = np.multiply(a,-2)\n",
        "  e_x = np.exp(a)\n",
        "  predicted_probabilities[2*i,:] = (e_x[0,:] / e_x[0,:].sum())*100\n",
        "  predicted_probabilities[2*i+1,:] = (e_x[1,:] / e_x[1,:].sum())*100\n",
        "  #print(predicted_probabilities[2*i:2*i+2,:])\n",
        "  max_index = np.argmax(predicted_probabilities[2*i:2*i+2,:])\n",
        "  if max_index < 10:\n",
        "    predicted_class[0,i] = max_index\n",
        "  else:\n",
        "    predicted_class[0,i] = max_index-10\n",
        "  #predicted_class[0,i] = loss_per_model.index(min(loss_per_model))\n",
        "  #print(predicted_class[0,i])\n",
        "print(predicted_class)"
      ],
      "execution_count": 95,
      "outputs": [
        {
          "output_type": "stream",
          "text": [
            "Progress:99.89411764705882%\n",
            "[[0. 0. 0. ... 9. 9. 9.]]\n"
          ],
          "name": "stdout"
        }
      ]
    },
    {
      "cell_type": "markdown",
      "metadata": {
        "id": "J8fLaFXBuzOs",
        "colab_type": "text"
      },
      "source": [
        "#### Check accuracy and plot misslabeled images"
      ]
    },
    {
      "cell_type": "code",
      "metadata": {
        "id": "v37g0zTrabrK",
        "colab_type": "code",
        "outputId": "c0cb60a2-a65c-4a0f-af82-259f98244c29",
        "colab": {
          "base_uri": "https://localhost:8080/",
          "height": 589
        }
      },
      "source": [
        "import pandas as pd\n",
        "predicted_class = predicted_class.astype('int')\n",
        "y_test_classes = y_test_classes.astype('int')\n",
        "\n",
        "wrong_guesses = []\n",
        "table_of_counts = np.zeros([N_class, N_class+1])\n",
        "for i in range(predicted_class.shape[1]):\n",
        "    table_of_counts[y_test_classes[i], predicted_class[0,i]]+=1\n",
        "    if y_test_classes[i] != predicted_class[0,i]:\n",
        "        wrong_guesses.append(i)\n",
        "trace_count = table_of_counts.trace().astype('int')\n",
        "sum_count = table_of_counts.sum().astype('int')\n",
        "for i in range(N_class):\n",
        "    accuracy_of_class = 100*table_of_counts[i,i]/np.sum(table_of_counts[i,0:-1])\n",
        "    table_of_counts[i,-1] = accuracy_of_class.astype('float16')\n",
        "\n",
        "index = list(str('-') * N_class)\n",
        "columns = list(str('-') * (N_class+1))\n",
        "for i in range(N_class):\n",
        "    index[i]= 'Class '+ str(i)\n",
        "    columns[i] = '|' + str(i) + '_Counts|'\n",
        "columns[-1] = 'Percentage'\n",
        "table = pd.DataFrame.from_records(table_of_counts, index=index, columns=columns)\n",
        "\n",
        "probabilities = np.zeros([len(wrong_guesses)])\n",
        "pics_to_plot = list(x_test[i] for i in wrong_guesses)\n",
        "labels = list(predicted_class[0,i] for i in wrong_guesses)\n",
        "for i in range(len(wrong_guesses)):\n",
        "    probabilities[i] = predicted_probabilities[wrong_guesses[i],labels[i]]\n",
        "    probabilities = probabilities.astype('int')\n",
        "\n",
        "plot_images(pics_to_plot[0:50], probabilities[0:50], [0,len(labels[0:50])])\n",
        "\n",
        "all_probabilities = np.zeros([len(x_test_classes)])\n",
        "for i in range(len(x_test_classes)):\n",
        "    all_probabilities[i] = predicted_probabilities[i,predicted_class[0,i]]\n",
        "    all_probabilities = all_probabilities.astype('int')#\n",
        "\n",
        "#plot_images(x_test_classes[0:50], all_probabilities[0:50], [0,len(labels[0:50])])"
      ],
      "execution_count": 96,
      "outputs": [
        {
          "output_type": "display_data",
          "data": {
            "image/png": "[encoded data removed]",
            "text/plain": [
              "<Figure size 1440x720 with 50 Axes>"
            ]
          },
          "metadata": {
            "tags": []
          }
        }
      ]
    },
    {
      "cell_type": "code",
      "metadata": {
        "id": "l5gCsbK4HhSP",
        "colab_type": "code",
        "outputId": "097e2e88-c3aa-44a2-90d8-74839cc9a535",
        "colab": {
          "base_uri": "https://localhost:8080/",
          "height": 393
        }
      },
      "source": [
        "print('Correctly labelled pictures:{}/{} -> Accuracy: {}%'.format(trace_count, sum_count, trace_count/sum_count*100))\n",
        "print('Incorrectly labelled pictures:{}/{} -> Error: {}%'.format(sum_count-trace_count, sum_count, (sum_count-trace_count)/sum_count*100))\n",
        "table"
      ],
      "execution_count": 97,
      "outputs": [
        {
          "output_type": "stream",
          "text": [
            "Correctly labelled pictures:8329/8500 -> Accuracy: 97.98823529411764%\n",
            "Incorrectly labelled pictures:171/8500 -> Error: 2.011764705882353%\n"
          ],
          "name": "stdout"
        },
        {
          "output_type": "execute_result",
          "data": {
            "text/html": [
              "<div>\n",
              "<style scoped>\n",
              "    .dataframe tbody tr th:only-of-type {\n",
              "        vertical-align: middle;\n",
              "    }\n",
              "\n",
              "    .dataframe tbody tr th {\n",
              "        vertical-align: top;\n",
              "    }\n",
              "\n",
              "    .dataframe thead th {\n",
              "        text-align: right;\n",
              "    }\n",
              "</style>\n",
              "<table border=\"1\" class=\"dataframe\">\n",
              "  <thead>\n",
              "    <tr style=\"text-align: right;\">\n",
              "      <th></th>\n",
              "      <th>|0_Counts|</th>\n",
              "      <th>|1_Counts|</th>\n",
              "      <th>|2_Counts|</th>\n",
              "      <th>|3_Counts|</th>\n",
              "      <th>|4_Counts|</th>\n",
              "      <th>|5_Counts|</th>\n",
              "      <th>|6_Counts|</th>\n",
              "      <th>|7_Counts|</th>\n",
              "      <th>|8_Counts|</th>\n",
              "      <th>|9_Counts|</th>\n",
              "      <th>Percentage</th>\n",
              "    </tr>\n",
              "  </thead>\n",
              "  <tbody>\n",
              "    <tr>\n",
              "      <th>Class 0</th>\n",
              "      <td>848.0</td>\n",
              "      <td>0.0</td>\n",
              "      <td>0.0</td>\n",
              "      <td>0.0</td>\n",
              "      <td>0.0</td>\n",
              "      <td>1.0</td>\n",
              "      <td>0.0</td>\n",
              "      <td>1.0</td>\n",
              "      <td>0.0</td>\n",
              "      <td>0.0</td>\n",
              "      <td>99.7500</td>\n",
              "    </tr>\n",
              "    <tr>\n",
              "      <th>Class 1</th>\n",
              "      <td>0.0</td>\n",
              "      <td>828.0</td>\n",
              "      <td>5.0</td>\n",
              "      <td>3.0</td>\n",
              "      <td>1.0</td>\n",
              "      <td>2.0</td>\n",
              "      <td>1.0</td>\n",
              "      <td>3.0</td>\n",
              "      <td>7.0</td>\n",
              "      <td>0.0</td>\n",
              "      <td>97.4375</td>\n",
              "    </tr>\n",
              "    <tr>\n",
              "      <th>Class 2</th>\n",
              "      <td>4.0</td>\n",
              "      <td>0.0</td>\n",
              "      <td>839.0</td>\n",
              "      <td>1.0</td>\n",
              "      <td>0.0</td>\n",
              "      <td>0.0</td>\n",
              "      <td>1.0</td>\n",
              "      <td>4.0</td>\n",
              "      <td>1.0</td>\n",
              "      <td>0.0</td>\n",
              "      <td>98.6875</td>\n",
              "    </tr>\n",
              "    <tr>\n",
              "      <th>Class 3</th>\n",
              "      <td>0.0</td>\n",
              "      <td>0.0</td>\n",
              "      <td>1.0</td>\n",
              "      <td>836.0</td>\n",
              "      <td>0.0</td>\n",
              "      <td>8.0</td>\n",
              "      <td>0.0</td>\n",
              "      <td>2.0</td>\n",
              "      <td>2.0</td>\n",
              "      <td>1.0</td>\n",
              "      <td>98.3750</td>\n",
              "    </tr>\n",
              "    <tr>\n",
              "      <th>Class 4</th>\n",
              "      <td>0.0</td>\n",
              "      <td>0.0</td>\n",
              "      <td>0.0</td>\n",
              "      <td>0.0</td>\n",
              "      <td>840.0</td>\n",
              "      <td>0.0</td>\n",
              "      <td>2.0</td>\n",
              "      <td>1.0</td>\n",
              "      <td>2.0</td>\n",
              "      <td>5.0</td>\n",
              "      <td>98.8125</td>\n",
              "    </tr>\n",
              "    <tr>\n",
              "      <th>Class 5</th>\n",
              "      <td>0.0</td>\n",
              "      <td>0.0</td>\n",
              "      <td>0.0</td>\n",
              "      <td>7.0</td>\n",
              "      <td>0.0</td>\n",
              "      <td>841.0</td>\n",
              "      <td>1.0</td>\n",
              "      <td>0.0</td>\n",
              "      <td>1.0</td>\n",
              "      <td>0.0</td>\n",
              "      <td>98.9375</td>\n",
              "    </tr>\n",
              "    <tr>\n",
              "      <th>Class 6</th>\n",
              "      <td>7.0</td>\n",
              "      <td>2.0</td>\n",
              "      <td>0.0</td>\n",
              "      <td>0.0</td>\n",
              "      <td>4.0</td>\n",
              "      <td>7.0</td>\n",
              "      <td>825.0</td>\n",
              "      <td>0.0</td>\n",
              "      <td>5.0</td>\n",
              "      <td>0.0</td>\n",
              "      <td>97.0625</td>\n",
              "    </tr>\n",
              "    <tr>\n",
              "      <th>Class 7</th>\n",
              "      <td>0.0</td>\n",
              "      <td>1.0</td>\n",
              "      <td>4.0</td>\n",
              "      <td>5.0</td>\n",
              "      <td>3.0</td>\n",
              "      <td>0.0</td>\n",
              "      <td>0.0</td>\n",
              "      <td>834.0</td>\n",
              "      <td>1.0</td>\n",
              "      <td>2.0</td>\n",
              "      <td>98.1250</td>\n",
              "    </tr>\n",
              "    <tr>\n",
              "      <th>Class 8</th>\n",
              "      <td>0.0</td>\n",
              "      <td>0.0</td>\n",
              "      <td>1.0</td>\n",
              "      <td>9.0</td>\n",
              "      <td>1.0</td>\n",
              "      <td>1.0</td>\n",
              "      <td>1.0</td>\n",
              "      <td>0.0</td>\n",
              "      <td>834.0</td>\n",
              "      <td>3.0</td>\n",
              "      <td>98.1250</td>\n",
              "    </tr>\n",
              "    <tr>\n",
              "      <th>Class 9</th>\n",
              "      <td>1.0</td>\n",
              "      <td>0.0</td>\n",
              "      <td>1.0</td>\n",
              "      <td>3.0</td>\n",
              "      <td>23.0</td>\n",
              "      <td>9.0</td>\n",
              "      <td>0.0</td>\n",
              "      <td>4.0</td>\n",
              "      <td>5.0</td>\n",
              "      <td>804.0</td>\n",
              "      <td>94.5625</td>\n",
              "    </tr>\n",
              "  </tbody>\n",
              "</table>\n",
              "</div>"
            ],
            "text/plain": [
              "         |0_Counts|  |1_Counts|  |2_Counts|  ...  |8_Counts|  |9_Counts|  Percentage\n",
              "Class 0       848.0         0.0         0.0  ...         0.0         0.0     99.7500\n",
              "Class 1         0.0       828.0         5.0  ...         7.0         0.0     97.4375\n",
              "Class 2         4.0         0.0       839.0  ...         1.0         0.0     98.6875\n",
              "Class 3         0.0         0.0         1.0  ...         2.0         1.0     98.3750\n",
              "Class 4         0.0         0.0         0.0  ...         2.0         5.0     98.8125\n",
              "Class 5         0.0         0.0         0.0  ...         1.0         0.0     98.9375\n",
              "Class 6         7.0         2.0         0.0  ...         5.0         0.0     97.0625\n",
              "Class 7         0.0         1.0         4.0  ...         1.0         2.0     98.1250\n",
              "Class 8         0.0         0.0         1.0  ...       834.0         3.0     98.1250\n",
              "Class 9         1.0         0.0         1.0  ...         5.0       804.0     94.5625\n",
              "\n",
              "[10 rows x 11 columns]"
            ]
          },
          "metadata": {
            "tags": []
          },
          "execution_count": 97
        }
      ]
    },
    {
      "cell_type": "code",
      "metadata": {
        "id": "GV4d1Py2sXEd",
        "colab_type": "code",
        "colab": {}
      },
      "source": [
        "# Convolutional VAE for each class results in accuracy of 98.16% with z_size = 10\n",
        "# Convolutional VAE for each class results in accuracy of 89.90% with z_size = 2"
      ],
      "execution_count": 0,
      "outputs": []
    },
    {
      "cell_type": "code",
      "metadata": {
        "id": "yKrkYzGzH2Sh",
        "colab_type": "code",
        "outputId": "c8ec4f1f-b994-4205-f511-b2b6ef290e7e",
        "colab": {
          "base_uri": "https://localhost:8080/",
          "height": 359
        }
      },
      "source": [
        "index = list(str('-') * N_class)\n",
        "columns = list(str('-') * (N_class))\n",
        "for i in range(N_class):\n",
        "    index[i]= 'Class '+ str(i)\n",
        "    columns[i] = 'Model ' + str(i)\n",
        "\n",
        "table_loss = pd.DataFrame.from_records(np.around(table_of_losses, decimals=2), index=index, columns=columns)\n",
        "table_loss"
      ],
      "execution_count": 26,
      "outputs": [
        {
          "output_type": "execute_result",
          "data": {
            "text/html": [
              "<div>\n",
              "<style scoped>\n",
              "    .dataframe tbody tr th:only-of-type {\n",
              "        vertical-align: middle;\n",
              "    }\n",
              "\n",
              "    .dataframe tbody tr th {\n",
              "        vertical-align: top;\n",
              "    }\n",
              "\n",
              "    .dataframe thead th {\n",
              "        text-align: right;\n",
              "    }\n",
              "</style>\n",
              "<table border=\"1\" class=\"dataframe\">\n",
              "  <thead>\n",
              "    <tr style=\"text-align: right;\">\n",
              "      <th></th>\n",
              "      <th>Model 0</th>\n",
              "      <th>Model 1</th>\n",
              "      <th>Model 2</th>\n",
              "      <th>Model 3</th>\n",
              "      <th>Model 4</th>\n",
              "      <th>Model 5</th>\n",
              "      <th>Model 6</th>\n",
              "      <th>Model 7</th>\n",
              "      <th>Model 8</th>\n",
              "      <th>Model 9</th>\n",
              "    </tr>\n",
              "  </thead>\n",
              "  <tbody>\n",
              "    <tr>\n",
              "      <th>Class 0</th>\n",
              "      <td>1.00</td>\n",
              "      <td>7.00</td>\n",
              "      <td>3.29</td>\n",
              "      <td>3.70</td>\n",
              "      <td>5.44</td>\n",
              "      <td>4.13</td>\n",
              "      <td>2.94</td>\n",
              "      <td>3.64</td>\n",
              "      <td>3.90</td>\n",
              "      <td>3.21</td>\n",
              "    </tr>\n",
              "    <tr>\n",
              "      <th>Class 1</th>\n",
              "      <td>8.64</td>\n",
              "      <td>1.00</td>\n",
              "      <td>3.71</td>\n",
              "      <td>4.11</td>\n",
              "      <td>3.95</td>\n",
              "      <td>3.69</td>\n",
              "      <td>5.28</td>\n",
              "      <td>3.07</td>\n",
              "      <td>2.64</td>\n",
              "      <td>4.37</td>\n",
              "    </tr>\n",
              "    <tr>\n",
              "      <th>Class 2</th>\n",
              "      <td>3.32</td>\n",
              "      <td>3.78</td>\n",
              "      <td>1.00</td>\n",
              "      <td>2.59</td>\n",
              "      <td>4.07</td>\n",
              "      <td>3.99</td>\n",
              "      <td>3.87</td>\n",
              "      <td>2.89</td>\n",
              "      <td>3.59</td>\n",
              "      <td>3.38</td>\n",
              "    </tr>\n",
              "    <tr>\n",
              "      <th>Class 3</th>\n",
              "      <td>3.45</td>\n",
              "      <td>4.33</td>\n",
              "      <td>2.92</td>\n",
              "      <td>1.00</td>\n",
              "      <td>4.21</td>\n",
              "      <td>2.30</td>\n",
              "      <td>3.67</td>\n",
              "      <td>3.91</td>\n",
              "      <td>2.89</td>\n",
              "      <td>2.87</td>\n",
              "    </tr>\n",
              "    <tr>\n",
              "      <th>Class 4</th>\n",
              "      <td>3.98</td>\n",
              "      <td>4.20</td>\n",
              "      <td>3.99</td>\n",
              "      <td>3.76</td>\n",
              "      <td>1.00</td>\n",
              "      <td>3.37</td>\n",
              "      <td>3.89</td>\n",
              "      <td>2.93</td>\n",
              "      <td>3.30</td>\n",
              "      <td>2.70</td>\n",
              "    </tr>\n",
              "    <tr>\n",
              "      <th>Class 5</th>\n",
              "      <td>3.00</td>\n",
              "      <td>3.85</td>\n",
              "      <td>3.44</td>\n",
              "      <td>2.11</td>\n",
              "      <td>3.90</td>\n",
              "      <td>1.00</td>\n",
              "      <td>2.90</td>\n",
              "      <td>3.80</td>\n",
              "      <td>2.57</td>\n",
              "      <td>2.68</td>\n",
              "    </tr>\n",
              "    <tr>\n",
              "      <th>Class 6</th>\n",
              "      <td>2.55</td>\n",
              "      <td>4.78</td>\n",
              "      <td>3.94</td>\n",
              "      <td>3.57</td>\n",
              "      <td>3.00</td>\n",
              "      <td>2.48</td>\n",
              "      <td>1.00</td>\n",
              "      <td>4.12</td>\n",
              "      <td>2.67</td>\n",
              "      <td>3.58</td>\n",
              "    </tr>\n",
              "    <tr>\n",
              "      <th>Class 7</th>\n",
              "      <td>3.91</td>\n",
              "      <td>4.22</td>\n",
              "      <td>2.95</td>\n",
              "      <td>2.43</td>\n",
              "      <td>3.69</td>\n",
              "      <td>4.29</td>\n",
              "      <td>5.65</td>\n",
              "      <td>1.00</td>\n",
              "      <td>3.59</td>\n",
              "      <td>3.02</td>\n",
              "    </tr>\n",
              "    <tr>\n",
              "      <th>Class 8</th>\n",
              "      <td>2.45</td>\n",
              "      <td>3.51</td>\n",
              "      <td>2.40</td>\n",
              "      <td>2.14</td>\n",
              "      <td>2.96</td>\n",
              "      <td>2.64</td>\n",
              "      <td>2.75</td>\n",
              "      <td>3.15</td>\n",
              "      <td>1.00</td>\n",
              "      <td>2.27</td>\n",
              "    </tr>\n",
              "    <tr>\n",
              "      <th>Class 9</th>\n",
              "      <td>3.71</td>\n",
              "      <td>4.59</td>\n",
              "      <td>3.33</td>\n",
              "      <td>2.70</td>\n",
              "      <td>1.90</td>\n",
              "      <td>2.67</td>\n",
              "      <td>4.47</td>\n",
              "      <td>2.27</td>\n",
              "      <td>2.68</td>\n",
              "      <td>1.00</td>\n",
              "    </tr>\n",
              "  </tbody>\n",
              "</table>\n",
              "</div>"
            ],
            "text/plain": [
              "         Model 0  Model 1  Model 2  Model 3  ...  Model 6  Model 7  Model 8  Model 9\n",
              "Class 0     1.00     7.00     3.29     3.70  ...     2.94     3.64     3.90     3.21\n",
              "Class 1     8.64     1.00     3.71     4.11  ...     5.28     3.07     2.64     4.37\n",
              "Class 2     3.32     3.78     1.00     2.59  ...     3.87     2.89     3.59     3.38\n",
              "Class 3     3.45     4.33     2.92     1.00  ...     3.67     3.91     2.89     2.87\n",
              "Class 4     3.98     4.20     3.99     3.76  ...     3.89     2.93     3.30     2.70\n",
              "Class 5     3.00     3.85     3.44     2.11  ...     2.90     3.80     2.57     2.68\n",
              "Class 6     2.55     4.78     3.94     3.57  ...     1.00     4.12     2.67     3.58\n",
              "Class 7     3.91     4.22     2.95     2.43  ...     5.65     1.00     3.59     3.02\n",
              "Class 8     2.45     3.51     2.40     2.14  ...     2.75     3.15     1.00     2.27\n",
              "Class 9     3.71     4.59     3.33     2.70  ...     4.47     2.27     2.68     1.00\n",
              "\n",
              "[10 rows x 10 columns]"
            ]
          },
          "metadata": {
            "tags": []
          },
          "execution_count": 26
        }
      ]
    },
    {
      "cell_type": "code",
      "metadata": {
        "id": "GH8FE-C9DUU4",
        "colab_type": "code",
        "colab": {
          "base_uri": "https://localhost:8080/",
          "height": 340
        },
        "outputId": "dae65277-b215-4951-9278-3ecb8da205e5"
      },
      "source": [
        "w_ssim = np.transpose(wrong_guesses)\n",
        "p_ssim = predicted_probabilities.astype('int')\n",
        "w2"
      ],
      "execution_count": 43,
      "outputs": [
        {
          "output_type": "execute_result",
          "data": {
            "text/plain": [
              "array([ 629,  634,  668,  853,  856,  890,  924,  960,  967, 1030, 1101,\n",
              "       1109, 1120, 1156, 1221, 1303, 1335, 1352, 1358, 1375, 1399, 1459,\n",
              "       1470, 1495, 1548, 1549, 1600, 1624, 1763, 1773, 1775, 1847, 1896,\n",
              "       1899, 1919, 1969, 1972, 2051, 2057, 2098, 2135, 2149, 2206, 2390,\n",
              "       2421, 2609, 2644, 2671, 2723, 2793, 2813, 2853, 2855, 2858, 2982,\n",
              "       3132, 3143, 3144, 3146, 3152, 3295, 3451, 3503, 3523, 3535, 3557,\n",
              "       3631, 3676, 3693, 3767, 3967, 4144, 4243, 4282, 4295, 4311, 4328,\n",
              "       4367, 4375, 4404, 4423, 4434, 4487, 4530, 4573, 4594, 4598, 4599,\n",
              "       4659, 4660, 4789, 4997, 5007, 5089, 5126, 5135, 5139, 5143, 5156,\n",
              "       5187, 5190, 5253, 5290, 5292, 5336, 5343, 5421, 5429, 5433, 5453,\n",
              "       5463, 5714, 5743, 5886, 6023, 6052, 6076, 6078, 6079, 6081, 6082,\n",
              "       6083, 6125, 6150, 6161, 6217, 6327, 6346, 6348, 6361, 6386, 6397,\n",
              "       6445, 6457, 6488, 6543, 6546, 6559, 6615, 6616, 6704, 6839, 6849,\n",
              "       6884, 6885, 6901, 6921, 6979, 6998, 7077, 7090, 7155, 7237, 7248,\n",
              "       7251, 7449, 7613, 7657, 7711, 7743, 7766, 7780, 7795, 7800, 7817,\n",
              "       7820, 7836, 7852, 7854, 7859, 7860, 7900, 7915, 7923, 7926, 7937,\n",
              "       7941, 7952, 7966, 7982, 7993, 8010, 8014, 8019, 8048, 8050, 8059,\n",
              "       8060, 8068, 8078, 8113, 8123, 8145, 8150, 8235, 8279, 8286, 8321,\n",
              "       8324, 8353, 8467])"
            ]
          },
          "metadata": {
            "tags": []
          },
          "execution_count": 43
        }
      ]
    },
    {
      "cell_type": "code",
      "metadata": {
        "id": "5vIgPbTsGZL9",
        "colab_type": "code",
        "colab": {
          "base_uri": "https://localhost:8080/",
          "height": 714
        },
        "outputId": "fed08b92-7dc7-45af-cb17-2fca4cf838f5"
      },
      "source": [
        "w_prob\n",
        "p_prob\n",
        "w_ssim\n",
        "p_ssim\n",
        "\n",
        "w_both = []\n",
        "for i in range(len(w_prob)):\n",
        "    for j in range(len(w_ssim)):\n",
        "        if w_prob[i]==w_ssim[j]:\n",
        "            w_both.append(w_prob[i])\n",
        "\n",
        "w_only = []\n",
        "w_only.extend(w_prob)\n",
        "w_only.extend(np.transpose(w_ssim))\n",
        "for i in range(len(w_both)):\n",
        "    w_only.remove(w_both[i])\n",
        "    w_only.remove(w_both[i])\n",
        "\n",
        "#print(w_prob)\n",
        "#print(w_ssim)\n",
        "#print(w_both)\n",
        "#print(w_only)\n",
        "\n",
        "for i in range(10):\n",
        "    print(w_only[i])\n",
        "    if w_only[i]<840:\n",
        "        print([1, 0, 0, 0, 0, 0, 0, 0, 0, 0, 0])\n",
        "    if w_only[i]>840 & w_only[i]<2*840:\n",
        "        print([0, 1, 0, 0, 0, 0, 0, 0, 0, 0, 0])\n",
        "    print(p_prob[w_only[i]])\n",
        "    print(p_ssim[w_only[i]])"
      ],
      "execution_count": 82,
      "outputs": [
        {
          "output_type": "stream",
          "text": [
            "343\n",
            "[1, 0, 0, 0, 0, 0, 0, 0, 0, 0, 0]\n",
            "[0, 1, 0, 0, 0, 0, 0, 0, 0, 0, 0]\n",
            "[15  0 16 13  2 15  3  5 15 11]\n",
            "[20  1 11  7  2 10  6 12 11 14]\n",
            "907\n",
            "[0, 1, 0, 0, 0, 0, 0, 0, 0, 0, 0]\n",
            "[ 0 23  1  4  5  6  1  8 46  1]\n",
            "[ 0 29  2  4  4 11 11  7 27  0]\n",
            "953\n",
            "[0, 1, 0, 0, 0, 0, 0, 0, 0, 0, 0]\n",
            "[ 0 21  1 18  1 12  0  7 31  3]\n",
            "[ 0 47  0 15  2  6  0  7 16  2]\n",
            "1022\n",
            "[0, 1, 0, 0, 0, 0, 0, 0, 0, 0, 0]\n",
            "[ 9 12  0  3  6 21 36  3  5  0]\n",
            "[ 1 41  2  1  7  7 31  4  1  0]\n",
            "1034\n",
            "[0, 1, 0, 0, 0, 0, 0, 0, 0, 0, 0]\n",
            "[ 0 22  4  1  0 28  1  0 39  0]\n",
            "[ 0 45  0  0  0 18  1  0 32  0]\n",
            "1083\n",
            "[0, 1, 0, 0, 0, 0, 0, 0, 0, 0, 0]\n",
            "[ 0 24  4  8 13  4  1 29  6  6]\n",
            "[ 0 35  3  4  9  3  1 30  8  2]\n",
            "1088\n",
            "[0, 1, 0, 0, 0, 0, 0, 0, 0, 0, 0]\n",
            "[ 1 19 12 14  2  2  1 17 23  3]\n",
            "[ 0 28  8 22  0  2  0 18 14  3]\n",
            "1111\n",
            "[0, 1, 0, 0, 0, 0, 0, 0, 0, 0, 0]\n",
            "[ 0 24  0 11  4 24  0  1 25  6]\n",
            "[ 0 45  2  6  1 18  0  0 21  2]\n",
            "1168\n",
            "[0, 1, 0, 0, 0, 0, 0, 0, 0, 0, 0]\n",
            "[ 0 19  5 12 14  2  0 34  6  5]\n",
            "[ 0 56 10 10  2  0  0 17  1  0]\n",
            "1198\n",
            "[0, 1, 0, 0, 0, 0, 0, 0, 0, 0, 0]\n",
            "[ 4 25 26 10  8 12  3  0  4  3]\n",
            "[ 1 23 21 18  9 10  1  5  3  5]\n"
          ],
          "name": "stdout"
        }
      ]
    },
    {
      "cell_type": "code",
      "metadata": {
        "id": "GI9IyqTaPWGV",
        "colab_type": "code",
        "colab": {
          "base_uri": "https://localhost:8080/",
          "height": 306
        },
        "outputId": "e0e13ec1-3278-4607-c36e-b3178e0420d9"
      },
      "source": [
        "np.transpose(w_only)"
      ],
      "execution_count": 101,
      "outputs": [
        {
          "output_type": "execute_result",
          "data": {
            "text/plain": [
              "array([ 343,  907,  953, 1022, 1034, 1083, 1088, 1111, 1168, 1198, 1223,\n",
              "       1299, 1439, 1546, 1556, 1592, 1595, 1601, 1633, 1769, 2217, 2290,\n",
              "       2368, 2550, 2717, 2819, 2906, 3115, 3135, 3169, 3431, 3569, 3775,\n",
              "       4309, 4310, 4646, 5121, 5175, 5241, 5274, 5275, 5342, 5344, 5426,\n",
              "       5456, 5494, 5538, 5704, 6002, 6018, 6067, 6262, 6284, 6303, 6358,\n",
              "       6527, 6618, 6619, 6712, 6793, 6821, 6826, 6861, 6893, 7143, 7197,\n",
              "       7461, 7464, 7530, 7556, 7578, 7650, 7658, 7668, 7696, 7744, 7801,\n",
              "       7868, 7880, 7881, 7912, 7946, 8038, 8043, 8081, 8089, 8139, 8225,\n",
              "       8281, 8284, 8285, 8287, 8375, 8427,  668,  853, 1120, 1156, 1221,\n",
              "       1303, 1352, 1375, 1399, 1548, 1549, 1763, 1773, 1775, 1847, 1972,\n",
              "       2135, 2206, 2421, 2609, 2644, 2671, 2723, 2793, 2813, 3132, 3143,\n",
              "       3144, 3295, 3503, 3535, 3676, 3767, 4282, 4295, 4311, 4404, 4423,\n",
              "       4434, 4487, 4530, 4573, 4594, 4599, 4660, 4997, 5089, 5126, 5143,\n",
              "       5190, 6052, 6078, 6079, 6081, 6082, 6150, 6161, 6217, 6346, 6361,\n",
              "       6397, 6457, 6488, 6543, 6559, 6615, 6616, 6839, 6884, 6901, 6998,\n",
              "       7237, 7251, 7711, 7820, 7852, 7854, 7859, 7860, 7900, 7982, 8014,\n",
              "       8050, 8059, 8123, 8235, 8353, 8467])"
            ]
          },
          "metadata": {
            "tags": []
          },
          "execution_count": 101
        }
      ]
    },
    {
      "cell_type": "code",
      "metadata": {
        "id": "ZpEai8NMg_iw",
        "colab_type": "code",
        "colab": {
          "base_uri": "https://localhost:8080/",
          "height": 289
        },
        "outputId": "1b08438c-68b3-4783-cb33-cf7bff11b984"
      },
      "source": [
        "np.transpose(wrong_guesses)"
      ],
      "execution_count": 102,
      "outputs": [
        {
          "output_type": "execute_result",
          "data": {
            "text/plain": [
              "array([ 629,  634,  853,  890,  907,  960,  967,  991, 1022, 1034, 1083,\n",
              "       1101, 1109, 1120, 1303, 1335, 1352, 1358, 1459, 1470, 1495, 1600,\n",
              "       1624, 1633, 1893, 1896, 1899, 1919, 1969, 2051, 2057, 2098, 2149,\n",
              "       2368, 2390, 2671, 2793, 2853, 2855, 2858, 2859, 2982, 3132, 3135,\n",
              "       3144, 3146, 3147, 3152, 3169, 3431, 3451, 3523, 3538, 3557, 3693,\n",
              "       3775, 3967, 4144, 4243, 4328, 4375, 4404, 4434, 4646, 4659, 4714,\n",
              "       4775, 4789, 5121, 5126, 5135, 5139, 5156, 5175, 5187, 5202, 5253,\n",
              "       5290, 5292, 5336, 5342, 5343, 5421, 5426, 5429, 5433, 5453, 5456,\n",
              "       5463, 5494, 5704, 5714, 5886, 6018, 6023, 6076, 6083, 6125, 6284,\n",
              "       6327, 6346, 6348, 6358, 6361, 6386, 6445, 6546, 6615, 6704, 6826,\n",
              "       6839, 6849, 6884, 6885, 6921, 6979, 7077, 7090, 7143, 7155, 7197,\n",
              "       7248, 7449, 7464, 7613, 7657, 7658, 7659, 7711, 7766, 7780, 7795,\n",
              "       7801, 7817, 7820, 7836, 7848, 7852, 7854, 7859, 7868, 7869, 7881,\n",
              "       7915, 7923, 7926, 7937, 7941, 7966, 7993, 8014, 8019, 8038, 8048,\n",
              "       8050, 8060, 8068, 8078, 8097, 8106, 8113, 8123, 8145, 8150, 8225,\n",
              "       8279, 8284, 8285, 8286, 8287, 8321])"
            ]
          },
          "metadata": {
            "tags": []
          },
          "execution_count": 102
        }
      ]
    },
    {
      "cell_type": "code",
      "metadata": {
        "id": "JS_HYezohOR_",
        "colab_type": "code",
        "colab": {}
      },
      "source": [
        ""
      ],
      "execution_count": 0,
      "outputs": []
    }
  ]
}