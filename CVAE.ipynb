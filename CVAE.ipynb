{
  "nbformat": 4,
  "nbformat_minor": 0,
  "metadata": {
    "colab": {
      "name": "Attempt at CVAE.ipynb",
      "provenance": [],
      "collapsed_sections": [],
      "include_colab_link": true
    },
    "kernelspec": {
      "name": "python3",
      "display_name": "Python 3"
    },
    "accelerator": "GPU"
  },
  "cells": [
    {
      "cell_type": "markdown",
      "metadata": {
        "id": "view-in-github",
        "colab_type": "text"
      },
      "source": [
        "<a href=\"https://colab.research.google.com/github/lorenzosintini/4YP/blob/master/CVAE.ipynb\" target=\"_parent\"><img src=\"https://colab.research.google.com/assets/colab-badge.svg\" alt=\"Open In Colab\"/></a>"
      ]
    },
    {
      "cell_type": "code",
      "metadata": {
        "id": "pp8WgKa84wF3",
        "colab_type": "code",
        "colab": {}
      },
      "source": [
        "try:\n",
        "    # %tensorflow_version only exists in Colab.\n",
        "    %tensorflow_version 2.x\n",
        "except Exception:\n",
        "    pass\n",
        "import tensorflow as tf\n",
        "\n",
        "import numpy as np\n",
        "import matplotlib.pyplot as plt\n",
        "import random\n",
        "import time\n",
        "import os\n",
        "import sys\n",
        "from IPython.display import clear_output\n",
        "import os\n",
        "tf.autograph.set_verbosity(0)"
      ],
      "execution_count": 0,
      "outputs": []
    },
    {
      "cell_type": "code",
      "metadata": {
        "id": "PLOOHm_y42So",
        "colab_type": "code",
        "colab": {}
      },
      "source": [
        "mnist = tf.keras.datasets.mnist\n",
        "(x_train, y_train), (x_test, y_test) = mnist.load_data()\n",
        "\n",
        "class_names = ['Zero','One', 'Two', 'Three', 'Four', 'Five','Six', 'Seven', 'Eight', 'Nine']\n",
        "N_image_channels = 1\n",
        "N_class = len(class_names)\n",
        "image_shape = x_train.shape[1:3]\n",
        "input_range = np.amax(x_train)\n",
        "\n",
        "def plot_images(x_train, y_train, figures_to_plot, pick_random=False, include_labels=True):\n",
        "    n_rows = np.ceil((figures_to_plot[1])/10)\n",
        "    plot = plt.figure(figsize=[20,2*n_rows])\n",
        "    for i in range(figures_to_plot[0],figures_to_plot[1]):\n",
        "        if pick_random: \n",
        "            pic_n = random.randint(0,len(x_train))\n",
        "        else: pic_n = i\n",
        "        plt.subplot(n_rows,10,i+1)\n",
        "        plt.xticks([]); plt.yticks([])\n",
        "        plt.imshow(x_train[pic_n], cmap=plt.cm.binary)\n",
        "        if include_labels:\n",
        "            plt.xlabel(y_train[pic_n])\n",
        "    plt.show()\n",
        "\n",
        "plot_images(x_train, y_train, [0,10])"
      ],
      "execution_count": 0,
      "outputs": []
    },
    {
      "cell_type": "code",
      "metadata": {
        "id": "8tG28mIDiLXF",
        "colab_type": "code",
        "colab": {}
      },
      "source": [
        "def pick_class(x, y, class_n):\n",
        "    pics = (y == class_n[0])\n",
        "    for i in range(len(class_n)-1):\n",
        "      pics = pics + (y == class_n[i+1])\n",
        "    new_x = x[pics]\n",
        "    new_y = y[pics]\n",
        "    return new_x, new_y\n",
        "\n",
        "def set_pixels_binary(images):\n",
        "    images = images/input_range\n",
        "    images[images >= 0.5] = 1.0\n",
        "    images[images < 0.5] = 0.0\n",
        "    return images\n",
        "\n",
        "def make_categorical(y):\n",
        "    y_cat = tf.keras.utils.to_categorical(y, num_classes=10)\n",
        "    return y_cat\n",
        "\n",
        "def cut_data(data, data_number):\n",
        "    data = data[0:data_number]\n",
        "    return data\n",
        "\n",
        "def setup_dataset(x_train, y_train, x_test, y_test, chosen_classes=[0,1,2,3,4,5,6,7,8,9], data_number = -1):\n",
        "    x_train, y_train = pick_class(x_train, y_train, chosen_classes)\n",
        "    x_test, y_test = pick_class(x_test, y_test, chosen_classes)\n",
        "  \n",
        "    x_train = cut_data(x_train, data_number)\n",
        "    y_train = cut_data(y_train, data_number)\n",
        "\n",
        "    train_images = set_pixels_binary(x_train)\n",
        "    test_images = set_pixels_binary(x_test)\n",
        "\n",
        "    train_images = train_images.reshape(len(y_train), image_shape[0], image_shape[1], N_image_channels).astype('float32')\n",
        "    test_images = test_images.reshape(len(y_test), image_shape[0], image_shape[1], N_image_channels).astype('float32')\n",
        "\n",
        "    train_labels = make_categorical(y_train)\n",
        "    test_labels = make_categorical(y_test)\n",
        "\n",
        "    batch_size = 100\n",
        "    train_dataset = tf.data.Dataset.from_tensor_slices((train_images, train_labels)).shuffle(len(y_train)).batch(batch_size)\n",
        "    test_dataset = tf.data.Dataset.from_tensor_slices((test_images, test_labels)).shuffle(len(y_test)).batch(batch_size)\n",
        "    \n",
        "    return x_train, y_train, x_test, y_test, train_dataset, test_dataset"
      ],
      "execution_count": 0,
      "outputs": []
    },
    {
      "cell_type": "code",
      "metadata": {
        "id": "hUGNbAMR47Od",
        "colab_type": "code",
        "colab": {}
      },
      "source": [
        "class CVAE(tf.keras.Model):\n",
        "    def __init__(self, z_size):\n",
        "        super(CVAE, self).__init__()\n",
        "        self.z_size = z_size\n",
        "        self.enc1 = tf.keras.layers.Flatten(input_shape=(28, 28, 1))\n",
        "        self.enc2 = tf.keras.layers.concatenate\n",
        "        self.enc3 = tf.keras.layers.Dense(512, activation='relu')\n",
        "        self.enc4 = tf.keras.layers.Dense(z_size*2)\n",
        "\n",
        "        self.dec1 = tf.keras.layers.concatenate\n",
        "        self.dec2 = tf.keras.layers.Dense(units=512, activation='relu', input_shape=(z_size+10,))\n",
        "        self.dec3 = tf.keras.layers.Dense(784)\n",
        "        self.dec4 = tf.keras.layers.Reshape(target_shape=(28, 28, 1))\n",
        "\n",
        "    def encode(self, x, y):\n",
        "        x = self.enc1(x)\n",
        "        x = self.enc2([x, y], axis=1)\n",
        "        x = self.enc3(x)\n",
        "        x = self.enc4(x)\n",
        "        encoder_nn_output = x\n",
        "        z_mean, z_logvar = tf.split(encoder_nn_output, num_or_size_splits=2, axis=1)\n",
        "        return z_mean, z_logvar\n",
        "\n",
        "    def reparameterize(self, z_mean, z_logvar):\n",
        "        epsilon = tf.random.normal(shape=z_mean.shape)\n",
        "        z_sampled = epsilon * tf.exp(z_logvar * 0.5) + z_mean\n",
        "        return z_sampled   \n",
        "\n",
        "    def decode(self, z, y):\n",
        "        z = self.dec1([z, y], axis=1)\n",
        "        z = self.dec2(z)\n",
        "        z = self.dec3(z)\n",
        "        z = self.dec4(z)\n",
        "        pixel_output = z\n",
        "        pixel_prob = tf.math.sigmoid(pixel_output)\n",
        "        return pixel_prob"
      ],
      "execution_count": 0,
      "outputs": []
    },
    {
      "cell_type": "code",
      "metadata": {
        "id": "nW4ew6gd49t3",
        "colab_type": "code",
        "colab": {}
      },
      "source": [
        "def calculate_ELBO(model, x, y):\n",
        "    z_mean, z_logvar = model.encode(x, y)\n",
        "    z = model.reparameterize(z_mean, z_logvar)\n",
        "    \n",
        "    pixel_prob = model.decode(z, y)\n",
        "    \n",
        "    logpx_z_pixels = tf.math.log(pixel_prob + 1e-10)*x + tf.math.log(1-pixel_prob + 1e-10)*(1-x)\n",
        "    logpx_z_images = tf.reduce_sum(logpx_z_pixels, axis=[1, 2, 3])\n",
        "    logpx_z = tf.reduce_mean (logpx_z_images)\n",
        "    \n",
        "    KL_parameters = -0.5 * (1 + z_logvar - (z_mean ** 2.0) - tf.exp(z_logvar))\n",
        "    KL_vectors = tf.reduce_sum(KL_parameters, axis=1)\n",
        "    KL = tf.reduce_mean(KL_vectors)\n",
        "    \n",
        "    ELBO = (logpx_z - KL)\n",
        "    \n",
        "    return -ELBO #Negative because we want to maximise it"
      ],
      "execution_count": 0,
      "outputs": []
    },
    {
      "cell_type": "code",
      "metadata": {
        "id": "ku4Ausq95ATt",
        "colab_type": "code",
        "colab": {}
      },
      "source": [
        "optimizer = tf.keras.optimizers.Adam(learning_rate = 0.001)\n",
        "train_loss = tf.keras.metrics.Mean(name='train_loss')\n",
        "test_loss = tf.keras.metrics.Mean(name='test_loss')"
      ],
      "execution_count": 0,
      "outputs": []
    },
    {
      "cell_type": "code",
      "metadata": {
        "id": "9LzDEEC85Cku",
        "colab_type": "code",
        "colab": {}
      },
      "source": [
        "def train_step(model, x, y, optimizer):\n",
        "    with tf.GradientTape() as tape:\n",
        "        loss = calculate_ELBO(model, x, y)\n",
        "        gradients = tape.gradient(loss, model.trainable_variables)\n",
        "        optimizer.apply_gradients(zip(gradients, model.trainable_variables))\n",
        "        train_loss(loss)\n",
        "\n",
        "def test_step(model, x, y, optimizer):\n",
        "    loss = calculate_ELBO(model, x, y)\n",
        "    test_loss(loss)"
      ],
      "execution_count": 0,
      "outputs": []
    },
    {
      "cell_type": "code",
      "metadata": {
        "id": "eZiMUQOA5EZI",
        "colab_type": "code",
        "colab": {}
      },
      "source": [
        "def generate_images(model, z_random, y, figures_to_plot):\n",
        "    generated_prob = model.decode(z_random, y)\n",
        "    generated_prob = np.squeeze(generated_prob, axis=3)\n",
        "    plot_images(generated_prob, _, figures_to_plot, include_labels=False)"
      ],
      "execution_count": 0,
      "outputs": []
    },
    {
      "cell_type": "code",
      "metadata": {
        "id": "bzO71Evd5ICy",
        "colab_type": "code",
        "colab": {}
      },
      "source": [
        "def train_test_dataset(model, train_dataset, test_dataset, epochs, generate=True):\n",
        "  plots_per_epoch = 10\n",
        "  z_random = tf.random.normal(shape=[plots_per_epoch, z_size])\n",
        "  y_generate = np.eye(10)\n",
        "\n",
        "  test_ELBO = []\n",
        "  train_ELBO = []\n",
        "  epoch_number = []  \n",
        "  for epoch in range(epochs):\n",
        "    print('Epoch {}'.format(epoch))\n",
        "    for train_x, train_y in train_dataset: \n",
        "      train_step(model, train_x, train_y, optimizer)\n",
        "  \n",
        "    for test_x, test_y in test_dataset:\n",
        "      test_step(model, test_x, test_y, optimizer)\n",
        "    \n",
        "    test_ELBO.append(-test_loss.result())\n",
        "    train_ELBO.append(-train_loss.result())\n",
        "    epoch_number.append(epoch)\n",
        "    \n",
        "    clear_output()\n",
        "    if generate:\n",
        "      generate_images(model, z_random, y_generate, [0,plots_per_epoch])\n",
        "    plt.plot(epoch_number, test_ELBO, train_ELBO)\n",
        "    plt.legend(['test','train'])\n",
        "    plt.title('model')\n",
        "    plt.show()\n",
        "  train_loss.reset_states()\n",
        "  test_loss.reset_states()"
      ],
      "execution_count": 0,
      "outputs": []
    },
    {
      "cell_type": "code",
      "metadata": {
        "id": "lQURKIgX5J3U",
        "colab_type": "code",
        "colab": {}
      },
      "source": [
        "mnist = tf.keras.datasets.mnist\n",
        "(x_train, y_train), (x_test, y_test) = mnist.load_data()\n",
        "\n",
        "x_train, y_train, x_test, y_test, train_dataset, test_dataset = setup_dataset(x_train, y_train, x_test, y_test, chosen_classes=[0,1,2,3,4,5,6,7,8,9], data_number=-1)\n",
        "train_labels = make_categorical(y_train)\n",
        "test_labels = make_categorical(y_test)\n",
        "z_size = 10\n",
        "model = CVAE(z_size)\n",
        "train_test_dataset(model, train_dataset, test_dataset, 20, generate=True)"
      ],
      "execution_count": 0,
      "outputs": []
    },
    {
      "cell_type": "markdown",
      "metadata": {
        "id": "ZUQKdNVgbKxu",
        "colab_type": "text"
      },
      "source": [
        "#### Reconstruct images"
      ]
    },
    {
      "cell_type": "code",
      "metadata": {
        "id": "jJX82WlvbN5n",
        "colab_type": "code",
        "colab": {}
      },
      "source": [
        "def reconstruct_images(model, images, labels):\n",
        "    images_n = len(images)\n",
        "    x = images/255\n",
        "    x[x >= 0.5] = 1.0\n",
        "    x[x < 0.5] = 0.0\n",
        "    x = x.reshape(images_n, image_shape[0], image_shape[1], N_image_channels).astype('float32')\n",
        "    y = make_categorical(labels)\n",
        "    \n",
        "    z_mean, z_logvar = model.encode(x, y)\n",
        "    z = model.reparameterize(z_mean, z_logvar)\n",
        "    pixel_output = model.decode(z, y)\n",
        "    pixel_prob = tf.math.sigmoid(pixel_output)\n",
        "    pixel_prob = np.squeeze(pixel_prob, axis=3)\n",
        "\n",
        "    loss = np.empty([images_n])\n",
        "    for i in range(images_n):\n",
        "        loss[i] = calculate_ELBO(model,x[i:i+1], y[i:i+1])\n",
        "    loss = loss.astype('float16')\n",
        "    \n",
        "    print('Original Pictures:')\n",
        "    plot_images(images, _, figures_to_plot=[0,images_n], include_labels=False)\n",
        "    print('Reconstructed Pictures, with ELBO loss:')\n",
        "    plot_images(pixel_prob, -loss, figures_to_plot=[0,images_n], include_labels=True)\n",
        "\n",
        "reconstruct_images(model, x_test[0:10], y_test[0:10])"
      ],
      "execution_count": 0,
      "outputs": []
    },
    {
      "cell_type": "markdown",
      "metadata": {
        "id": "lXBJkjF0bOos",
        "colab_type": "text"
      },
      "source": [
        "#### Visualise latent space"
      ]
    },
    {
      "cell_type": "code",
      "metadata": {
        "id": "i4RX9_9W5Lia",
        "colab_type": "code",
        "colab": {}
      },
      "source": [
        "def visualize_latent_space(model, range1, range2, data_x, data_y, a, b):\n",
        "  plot = plt.figure(figsize=[7,7])\n",
        "  outliers=0\n",
        "  for i in range(range1, range2):\n",
        "    pic_visualize = data_x[i]\n",
        "    pic_visualize = pic_visualize.reshape(1, image_shape[0], image_shape[1], N_image_channels).astype('float32')\n",
        "    label_visualize = data_y[i]\n",
        "    label_visualize = label_visualize.reshape(1, 10)\n",
        "    \n",
        "    z_mean, z_logvar = model.encode(pic_visualize, label_visualize)\n",
        "    z = model.reparameterize(z_mean, z_logvar)\n",
        "    num=np.argmax(label_visualize)\n",
        "\n",
        "    if num == 0:\n",
        "      color = 'blue'\n",
        "    if num == 1:\n",
        "      color = 'orange'\n",
        "    if num == 2:\n",
        "      color = 'green'\n",
        "    if num == 3:\n",
        "      color = 'red'\n",
        "    if num == 4:\n",
        "      color = 'purple'  \n",
        "    if num == 5:\n",
        "      color = 'brown'\n",
        "    if num == 6:\n",
        "      color = 'pink'\n",
        "    if num == 7:\n",
        "      color = 'gray'\n",
        "    if num == 8:\n",
        "      color = 'black'\n",
        "    if num == 9:\n",
        "      color = 'yellow'\n",
        "    plt.scatter(z[:,a],z[:,b], color=color, s=10)\n",
        "  print('{} Outliers detected'.format(outliers))\n",
        "\n",
        "visualize_latent_space(model, 0,1000, x_test, test_labels, 0,1)"
      ],
      "execution_count": 0,
      "outputs": []
    },
    {
      "cell_type": "markdown",
      "metadata": {
        "id": "72Illk-ZAlmD",
        "colab_type": "text"
      },
      "source": [
        "#### Generate numbers"
      ]
    },
    {
      "cell_type": "code",
      "metadata": {
        "id": "SjW3ateJ7487",
        "colab_type": "code",
        "colab": {}
      },
      "source": [
        "z_random = tf.random.normal(shape=[1, z_size])\n",
        "manual_z = np.ones([1,z_size])*0\n",
        "y_generate = np.zeros((91,10+z_size))\n",
        "for i in range(90):\n",
        "  m = i // 10\n",
        "  r = i % 10\n",
        "  y_generate[i, m+z_size] = 1 - r*0.1\n",
        "  y_generate[i, m + z_size+1]= r *0.1\n",
        "y_generate[-1,-1]=1\n",
        "y_generate[:,:z_size] = z_random\n",
        "generate_images(model, y_generate[:,:z_size], y_generate[:,z_size:], [0,91])"
      ],
      "execution_count": 0,
      "outputs": []
    },
    {
      "cell_type": "markdown",
      "metadata": {
        "id": "f3fP5hOiA-U-",
        "colab_type": "text"
      },
      "source": [
        "#### Classify test images"
      ]
    },
    {
      "cell_type": "code",
      "metadata": {
        "id": "7-I3Az4H9RKc",
        "colab_type": "code",
        "colab": {}
      },
      "source": [
        "images = x_test\n",
        "predicted_class = np.zeros([1,len(images)])\n",
        "images_n = len(images)\n",
        "x = images/255\n",
        "x[x >= 0.5] = 1.0\n",
        "x[x < 0.5] = 0.0\n",
        "x = x.reshape(images_n, image_shape[0], image_shape[1], N_image_channels).astype('float32')\n",
        "loss = np.empty([images_n,10])\n",
        "\n",
        "for j in range(10):\n",
        "  print('Ran class {}'.format(j))\n",
        "  ytest = np.ones([len(images),])*j\n",
        "  y = tf.keras.utils.to_categorical(ytest, num_classes=10)\n",
        "  for i in range(images_n):\n",
        "      loss[i,j] = calculate_ELBO(model,x[i:i+1], y[i:i+1])\n",
        "\n",
        "for i in range(images_n):\n",
        "  predicted_class[0,i] = np.argmin(loss[i,:])\n",
        "print(predicted_class)"
      ],
      "execution_count": 0,
      "outputs": []
    },
    {
      "cell_type": "code",
      "metadata": {
        "id": "PgRKyRr4CHrS",
        "colab_type": "code",
        "colab": {}
      },
      "source": [
        "correct_guesses = 0\n",
        "wrong_guesses = []\n",
        "for i,x in enumerate(zip(predicted_class[0,:], y_test)):\n",
        "    if (x[0]==x[1]):\n",
        "        correct_guesses = correct_guesses + 1\n",
        "    else:\n",
        "        wrong_guesses.append(i)\n",
        "    total_guesses = len(y_test)\n",
        "    accuracy = (correct_guesses/total_guesses)\n",
        "print('Correctly labelled pictures:{}/{} -> Accuracy: {}%'.format(correct_guesses,total_guesses,accuracy*100))\n",
        "print('Incorrectly labelled pictures:{}/{} -> Error: {}%'.format(total_guesses-correct_guesses,total_guesses,(1-accuracy)*100))\n",
        "\n",
        "\n",
        "pics_to_plot = list(x_test[i] for i in wrong_guesses)\n",
        "labels = list(predicted_class[0,i] for i in wrong_guesses)\n",
        "plot_images(pics_to_plot[0:100], labels[0:100], [0,len(labels[0:100])])\n"
      ],
      "execution_count": 0,
      "outputs": []
    },
    {
      "cell_type": "code",
      "metadata": {
        "id": "Myloje4czr5K",
        "colab_type": "code",
        "colab": {}
      },
      "source": [
        "# Conditional VAE for each class results in accuracy of 92.93% with z_size = 2\n",
        "# Conditional VAE for each class results in accuracy of 96.83% with z_size = 10"
      ],
      "execution_count": 0,
      "outputs": []
    }
  ]
}